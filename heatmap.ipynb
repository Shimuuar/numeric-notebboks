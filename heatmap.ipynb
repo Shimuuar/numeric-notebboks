{
 "cells": [
  {
   "cell_type": "markdown",
   "metadata": {},
   "source": [
    "`Chart` sadly does not support heatmaps which I need badly. So quick googling revealed following:\n",
    "\n",
    " - https://www.reddit.com/r/haskell/comments/3a21tx/color_mapheat_map_plotting_without_gnuplot/\n",
    " - https://github.com/bgamari/chart-histogram/commits/heatmap"
   ]
  },
  {
   "cell_type": "code",
   "execution_count": null,
   "metadata": {
    "collapsed": false
   },
   "outputs": [],
   "source": [
    "{-# LANGUAGE TemplateHaskell #-}\n",
    "import Control.Lens\n",
    "import Control.Monad\n",
    "\n",
    "import Data.Default\n",
    "import Data.Colour\n",
    "import Data.Colour.RGBSpace\n",
    "import Data.Colour.RGBSpace.HSL\n",
    "import Data.Colour.SRGB\n",
    "\n",
    "import IHaskell.Display\n",
    "import Graphics.Rendering.Chart.Backend.Cairo\n",
    "import Graphics.Rendering.Chart.Easy\n",
    "import Graphics.Rendering.Chart.Backend\n",
    "\n",
    "--import Graphics.Rendering.Chart.Types\n",
    "--import Graphics.Rendering.Chart.Plot.Types\n",
    "import Graphics.Rendering.Chart.Axis\n",
    "-- import Graphics.Rendering.Chart.ColorMap\n",
    "import Data.Colour\n",
    "\n",
    "import Debug.Trace"
   ]
  },
  {
   "cell_type": "code",
   "execution_count": null,
   "metadata": {
    "collapsed": false
   },
   "outputs": [],
   "source": [
    "\n",
    "-- grey :: PlotValue z => AlphaColour \n",
    "grey = opaque . uncurryRGB (rgbUsingSpace sRGBSpace) . hsl 0 0 . toValue\n",
    "\n",
    "fst3 (a,_,_) = a\n",
    "snd3 (_,a,_) = a\n",
    "thd3 (_,_,a) = a \n",
    "\n",
    "data HeatMap z x y = HeatMap\n",
    "  { _heat_map_color_map :: z -> AlphaColour Double\n",
    "  , _heat_map_values             :: [((x,y),(x,y),z)]  \n",
    "  }\n",
    "\n",
    "instance Default (HeatMap z x y) where\n",
    "  def =  HeatMap\n",
    "    { _heat_map_color_map = grey\n",
    "    , _heat_map_values    = []\n",
    "    }\n",
    "  \n",
    "instance (PlotValue z) => ToPlot (HeatMap z) where\n",
    "  toPlot p = Plot { _plot_render     = renderHeatMap p\n",
    "                  , _plot_legend     = []\n",
    "                  , _plot_all_points = ( (\\((x1,_),(x2,_),_) -> [x1,x2]) =<< _heat_map_values p\n",
    "                                       , (\\((_,y1),(_,y2),_) -> [y1,y2]) =<< _heat_map_values p )\n",
    "                  }\n",
    "                  \n",
    "renderHeatMap  :: (PlotValue z) =>\n",
    "                  HeatMap z x y -> PointMapFn x y -> ChartBackend ()\n",
    "renderHeatMap p pmap = forM_ (_heat_map_values p) $ \\((x1,y1),(x2,y2),z) -> do\n",
    "  let corner1 = pmap (LValue x1, LValue y1) \n",
    "      corner2 = pmap (LValue x2, LValue y2) \n",
    "      rect   = Rect corner1 corner2\n",
    "      path   = rectPath rect  \n",
    "  withFillStyle (FillStyleSolid $ _heat_map_color_map p z) $\n",
    "      fillPath path\n",
    "  where\n",
    "\n",
    "makeLenses ''HeatMap"
   ]
  },
  {
   "cell_type": "code",
   "execution_count": null,
   "metadata": {
    "collapsed": false
   },
   "outputs": [],
   "source": [
    "hm :: HeatMap Double Double Double\n",
    "hm = (defaultHeatMap :: HeatMap Double Double Double)\n",
    "  { _heat_map_values = [((0.5,0.5), (0.6,0.6), 0.1)\n",
    "                       ,((0.6,0.6), (0.7,0.7), 0.3)\n",
    "                       ]\n",
    "  }\n",
    "  \n",
    "toRenderable \n",
    "  $ layout_plots .~ [toPlot hm]\n",
    "  $ (def :: Layout Double Double)"
   ]
  },
  {
   "cell_type": "code",
   "execution_count": null,
   "metadata": {
    "collapsed": true
   },
   "outputs": [],
   "source": []
  }
 ],
 "metadata": {
  "kernelspec": {
   "display_name": "Haskell",
   "language": "haskell",
   "name": "haskell"
  },
  "language_info": {
   "codemirror_mode": "ihaskell",
   "file_extension": ".hs",
   "name": "haskell",
   "version": "7.10.3"
  }
 },
 "nbformat": 4,
 "nbformat_minor": 0
}
