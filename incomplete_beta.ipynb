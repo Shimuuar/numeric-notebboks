{
 "cells": [
  {
   "cell_type": "markdown",
   "metadata": {},
   "source": [
    "# Mandatory imports and utils"
   ]
  },
  {
   "cell_type": "code",
   "execution_count": null,
   "metadata": {
    "collapsed": false
   },
   "outputs": [],
   "source": [
    "import Control.Monad\n",
    "import Control.Monad.Primitive\n",
    "\n",
    "import Numeric.SpecFunctions\n",
    "import Numeric.MathFunctions.Constants (m_epsilon)\n",
    "import Numeric.MathFunctions.Comparison\n",
    "\n",
    "import IHaskell.Display\n",
    "import Graphics.Rendering.Chart.Backend.Cairo\n",
    "import Graphics.Rendering.Chart.Easy"
   ]
  },
  {
   "cell_type": "code",
   "execution_count": null,
   "metadata": {
    "collapsed": false
   },
   "outputs": [],
   "source": [
    "linspace :: (Double,Double) -> Int -> [Double]\n",
    "linspace (a,b) n = [a + (b - a) * fromIntegral i / fromIntegral n           | i <- [0 .. n]]\n",
    "\n",
    "logspace :: (Double,Double) -> Int -> [Double]\n",
    "logspace (a,b) n = [exp $ la + (lb - la) * fromIntegral i / fromIntegral n  | i <- [0 .. n]]\n",
    "  where la = log a\n",
    "        lb = log b\n",
    "\n",
    "-- Generate list of points \n",
    "funcPoints f (a,b) n =\n",
    "  [(x,y) | x <- linspace (a,b) n\n",
    "         , let y = f x\n",
    "         , not (isInfinite y)\n",
    "         , not (isNaN y)\n",
    "  ]\n",
    "\n",
    "funcPointsLog f (a,b) n =\n",
    "  [(LogValue x,y) | x <- logspace (a,b) n\n",
    "                  , let y = f x\n",
    "                  , not (isInfinite y)\n",
    "                  , not (isNaN y)\n",
    "  ]\n",
    "\n",
    "-- Genric plotter\n",
    "plotFunctions funs rng\n",
    "  = layout_plots .~\n",
    "      [ toPlot $ plot_lines_values .~ [funcPoints fun rng 1000]\n",
    "               -- $ plot_lines_style  .~ (line_color .~ opaque color $ def)\n",
    "               $ def\n",
    "      | (color,fun) <- cycle [blue,red,green] `zip` funs\n",
    "      ]\n",
    "  $ def\n",
    "  \n",
    "plotFunctionsLog funs rng\n",
    "  = layout_plots .~\n",
    "      [ toPlot $ plot_lines_values .~ [funcPointsLog fun rng 1000]\n",
    "              -- $ plot_lines_style  .~ (line_color .~ opaque color $ def)\n",
    "               $ def\n",
    "      | (color,fun) <- cycle [blue,red,green] `zip` funs\n",
    "      ]\n",
    "  $ def"
   ]
  },
  {
   "cell_type": "markdown",
   "metadata": {},
   "source": [
    "# Incomplete beta\n",
    "\n",
    "Quick reminder about beta function and (regularized) incomplete beta functions:\n",
    "\n",
    "Beta function:\n",
    "$$B(a,b) = \\int_0^1 t^{a-1}(1 - t)^{b-1} \\,dt $$\n",
    "\n",
    "Incomplete beta:\n",
    "$$B(x; a,b) = \\int_0^x t^{a-1}(1 - t)^{b-1} \\,dt \\qquad x \\in [0,1]$$\n",
    "\n",
    "Regularized incomplete beta (from now it'll be referred to simply as incomplete beta)\n",
    "$$I(x; a,b) = \\frac{B(x; a,b)}{B(a,b)}$$\n"
   ]
  },
  {
   "cell_type": "markdown",
   "metadata": {},
   "source": [
    "# [Inverse failure to converge!](https://github.com/bos/math-functions/issues/35)\n",
    "\n",
    "Originally uncovered when plotting roundtrip error of `cumulative . quantile` for beta distribution in log scale."
   ]
  },
  {
   "cell_type": "code",
   "execution_count": null,
   "metadata": {
    "collapsed": false
   },
   "outputs": [],
   "source": [
    "-- Bird's eye view\n",
    "toRenderable\n",
    "  $ plotFunctions [invIncompleteBeta 7 0.07] (1e-7,1e-6)\n",
    "-- Closeup\n",
    "toRenderable\n",
    "  $ plotFunctions [invIncompleteBeta 7 0.07] (2.8e-7,3e-7)"
   ]
  },
  {
   "cell_type": "markdown",
   "metadata": {},
   "source": [
    "## [Loss of precision for p=0.5!](https://github.com/bos/math-functions/issues/36)\n",
    "\n",
    "Again uncovered in plot for `cumulative . quantile` roundtrip error. It manifested itself as sharp spike near `p = 0.5`.\n",
    "\n",
    "Now how does plot looks like:"
   ]
  },
  {
   "cell_type": "code",
   "execution_count": null,
   "metadata": {
    "collapsed": false
   },
   "outputs": [],
   "source": [
    "toRenderable\n",
    "  $ plotFunctions [incompleteBeta 4.5 4.5] (0,1)"
   ]
  },
  {
   "cell_type": "markdown",
   "metadata": {},
   "source": [
    "Closeup of roundtrip error"
   ]
  },
  {
   "cell_type": "code",
   "execution_count": null,
   "metadata": {
    "collapsed": false
   },
   "outputs": [],
   "source": [
    "let fun x = let p  = invIncompleteBeta 4.5 4.5 x\n",
    "                x' = incompleteBeta 4.5 4.5 p\n",
    "            in x'\n",
    "toRenderable\n",
    "  $ let d = 5e-9 \n",
    "     in plotFunctions [\\x -> logBase 10 $ relativeError (fun x) x] (0.5-d, 0.5+d)"
   ]
  },
  {
   "cell_type": "code",
   "execution_count": null,
   "metadata": {
    "collapsed": false
   },
   "outputs": [],
   "source": [
    "toRenderable\n",
    "  $ let d = 5e-9 \n",
    "        a = 4.5  \n",
    "     in plotFunctions [incompleteBeta a a] (0.5 - d, 0.5 + d)"
   ]
  },
  {
   "cell_type": "code",
   "execution_count": null,
   "metadata": {
    "collapsed": false
   },
   "outputs": [],
   "source": [
    "toRenderable\n",
    "  $ let d = 1e-8\n",
    "        a = 4.5  \n",
    "     in plotFunctions [invIncompleteBeta a a] (0.5 - d, 0.5 + d)"
   ]
  },
  {
   "cell_type": "code",
   "execution_count": null,
   "metadata": {
    "collapsed": true
   },
   "outputs": [],
   "source": []
  }
 ],
 "metadata": {
  "kernelspec": {
   "display_name": "Haskell",
   "language": "haskell",
   "name": "haskell"
  },
  "language_info": {
   "codemirror_mode": "ihaskell",
   "file_extension": ".hs",
   "name": "haskell",
   "version": "7.10.3"
  }
 },
 "nbformat": 4,
 "nbformat_minor": 0
}
