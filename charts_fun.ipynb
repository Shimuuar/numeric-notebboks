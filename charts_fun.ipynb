{
 "cells": [
  {
   "cell_type": "code",
   "execution_count": null,
   "metadata": {},
   "outputs": [],
   "source": [
    "import IHaskell.Display\n",
    "import Graphics.Rendering.Chart.Backend.Cairo\n",
    "import Graphics.Rendering.Chart.Easy"
   ]
  },
  {
   "cell_type": "code",
   "execution_count": null,
   "metadata": {},
   "outputs": [],
   "source": [
    "toRenderable\n",
    "  $ layout_plots .~\n",
    "    [toPlot $ plot_lines_values .~ [[(0,1),(0,0),(1,0),(3,3)]] $ def]\n",
    "  $ def"
   ]
  },
  {
   "cell_type": "code",
   "execution_count": null,
   "metadata": {},
   "outputs": [],
   "source": [
    "toRenderable\n",
    "  $ layout_plots .~\n",
    "    [toPlot $ plot_lines_values .~ [[(i,i) | i <- [60,101]]] $ def]\n",
    "  $ def"
   ]
  },
  {
   "cell_type": "code",
   "execution_count": null,
   "metadata": {},
   "outputs": [],
   "source": [
    "toRenderable\n",
    "  $ layout_plots .~\n",
    "    [toPlot $ plot_lines_values .~ [[(i,i) | i <- [1e-10,1e-2]]] $ def]\n",
    "  $ def"
   ]
  },
  {
   "cell_type": "code",
   "execution_count": null,
   "metadata": {},
   "outputs": [],
   "source": [
    "toRenderable\n",
    "  $ layout_plots .~\n",
    "    [toPlot $ plot_lines_values .~ [[(i,i) | i <- [60,101]]] $ def]\n",
    "  $ def"
   ]
  },
  {
   "cell_type": "code",
   "execution_count": null,
   "metadata": {},
   "outputs": [],
   "source": [
    "toRenderable\n",
    "  $ layout_plots .~\n",
    "    [toPlot $ plot_lines_values .~ [[(0,1),(0,0),(1,0),(3,3)]] $ def]\n",
    "  $ layout_x_axis .~ (laxis_generate .~ scaledAxis def (-0.1,3.5) $ def)\n",
    "  $ def"
   ]
  },
  {
   "cell_type": "code",
   "execution_count": null,
   "metadata": {},
   "outputs": [],
   "source": []
  }
 ],
 "metadata": {
  "kernelspec": {
   "display_name": "Haskell",
   "language": "haskell",
   "name": "haskell"
  },
  "language_info": {
   "codemirror_mode": "ihaskell",
   "file_extension": ".hs",
   "name": "haskell",
   "version": "7.10.3"
  }
 },
 "nbformat": 4,
 "nbformat_minor": 0
}
