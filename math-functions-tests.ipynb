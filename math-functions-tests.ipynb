{
 "cells": [
  {
   "cell_type": "code",
   "execution_count": null,
   "metadata": {
    "collapsed": false
   },
   "outputs": [],
   "source": [
    "{-# LANGUAGE ScopedTypeVariables #-}\n",
    "{-# LANGUAGE FlexibleContexts #-}\n",
    "{-# LANGUAGE RankNTypes, BangPatterns #-}\n",
    "import Control.Monad\n",
    "import Control.Monad.Primitive\n",
    "\n",
    "import qualified Data.Vector.Generic as G\n",
    "import qualified Data.Vector.Unboxed as U\n",
    "\n",
    "import Numeric.SpecFunctions\n",
    "import Numeric.MathFunctions.Constants \n",
    "import Numeric.MathFunctions.Comparison\n",
    "\n",
    "import IHaskell.Display\n",
    "import Graphics.Rendering.Chart.Backend.Cairo\n",
    "import Graphics.Rendering.Chart.Easy\n",
    "\n",
    "import Debug.Trace\n",
    "\n",
    ":l NB/Plot"
   ]
  },
  {
   "cell_type": "code",
   "execution_count": null,
   "metadata": {
    "collapsed": false
   },
   "outputs": [],
   "source": [
    "igammaRoundtripError :: Double -> Double -> Double\n",
    "igammaRoundtripError z p\n",
    "  = m_epsilon/2 * (1 + abs (x * f' / p))\n",
    "  where\n",
    "    x  = invIncompleteGamma z p\n",
    "    f' = exp ( log x * (z-1) - x - logGamma z)\n",
    "\n",
    "plotErrorEstimate z\n",
    "  = toRenderable\n",
    "  $ layout_title .~ \"Error estimate\"\n",
    "  $ plotFunctions [ \\p -> logBase 10 $ relativeError p (incompleteGamma z $ invIncompleteGamma z p)\n",
    "  --relativeError p (roudtripIGamma z p)\n",
    "                  , logBase 10 . igammaRoundtripError z\n",
    "                  , logBase 10 . const (m_epsilon/2)\n",
    "                  ] (0,1)"
   ]
  },
  {
   "cell_type": "code",
   "execution_count": null,
   "metadata": {
    "collapsed": false
   },
   "outputs": [],
   "source": [
    "plotErrorEstimate 200"
   ]
  },
  {
   "cell_type": "code",
   "execution_count": null,
   "metadata": {
    "collapsed": false
   },
   "outputs": [],
   "source": [
    "toRenderable $\n",
    "  plotFunctions [ invIncompleteGamma 10] (0,1)\n",
    "toRenderable $\n",
    "  plotFunctions [ incompleteGamma (2.1e5)] (0,4e6)\n",
    "\n",
    "-- plotErrorEstimate 300\n"
   ]
  },
  {
   "cell_type": "code",
   "execution_count": null,
   "metadata": {
    "collapsed": false
   },
   "outputs": [],
   "source": [
    "\n",
    "toRenderable\n",
    "  $ layout_title .~ \"Error estimate\"\n",
    "  $ plotFunctions [ logBase 10 . igammaRoundtripError 10\n",
    "                  ] (0,1)"
   ]
  },
  {
   "cell_type": "code",
   "execution_count": null,
   "metadata": {
    "collapsed": false
   },
   "outputs": [],
   "source": [
    "incompleteGamma 1000 3000"
   ]
  },
  {
   "cell_type": "code",
   "execution_count": null,
   "metadata": {
    "collapsed": false
   },
   "outputs": [],
   "source": [
    "incompleteGamma' :: Double       -- ^ /z/ ∈ (0,∞)\n",
    "                -> Double       -- ^ /x/ ∈ (0,∞)\n",
    "                -> Double\n",
    "incompleteGamma' p x\n",
    "    | isNaN p || isNaN x = m_NaN\n",
    "    | x < 0 || p <= 0    = m_pos_inf\n",
    "    | x == 0             = 0\n",
    "    -- For very large `p' normal approximation gives <1e-10 error\n",
    "    | p >= 2e5           = norm (3 * sqrt p * ((x/p) ** (1/3) + 1/(9*p) - 1))\n",
    "    | p >= 500           = approx\n",
    "    -- Dubious approximation\n",
    "    | x >= 1e8           = 1\n",
    "    | x <= 1 || x < p    = let a = p * log x - x - logGamma (p + 1)\n",
    "                               g = a + log (pearson p 1 1)\n",
    "                           in if g > limit then exp g else 0\n",
    "    | otherwise          = let g = p * log x - x - logGamma p + log cf\n",
    "                           in if g > limit then 1 - exp g else 1\n",
    "  where\n",
    "    -- CDF for standard normal distributions\n",
    "    norm a = 0.5 * erfc (- a / m_sqrt_2)\n",
    "    -- For large values of `p' we use 18-point Gauss-Legendre\n",
    "    -- integration.\n",
    "    approx\n",
    "--      | traceShow ans False = undefined\n",
    "      | ans > 0  = 1 - ans\n",
    "      | ans == 0 && x > p1 = 1 - ans\n",
    "      | otherwise = -ans\n",
    "      where\n",
    "        -- Set upper limit for integration\n",
    "        xu | x > p1    =         (p1 + 11.5*sqrtP1) `max` (x + 6*sqrtP1)\n",
    "           | otherwise = max 0 $ (p1 -  7.5*sqrtP1) `min` (x - 5*sqrtP1)\n",
    "        s = U.sum $ U.zipWith go coefY coefW\n",
    "        go y w = let t = x + (xu - x)*y\n",
    "                 in w * exp( -(t-p1) + p1*(log t - lnP1) )\n",
    "        ans = s * (xu - x) * exp( p1 * (lnP1 - 1) - logGamma p)\n",
    "        --\n",
    "        p1     = p - 1\n",
    "        lnP1   = log  p1\n",
    "        sqrtP1 = sqrt p1\n",
    "    --\n",
    "    pearson !a !c !g\n",
    "        | c' <= tolerance = g'\n",
    "        | otherwise       = pearson a' c' g'\n",
    "        where a' = a + 1\n",
    "              c' = c * x / a'\n",
    "              g' = g + c'\n",
    "    cf = let a = 1 - p\n",
    "             b = a + x + 1\n",
    "             p3 = x + 1\n",
    "             p4 = x * b\n",
    "         in contFrac a b 0 1 x p3 p4 (p3/p4)\n",
    "    contFrac !a !b !c !p1 !p2 !p3 !p4 !g\n",
    "        | abs (g - rn) <= min tolerance (tolerance * rn) = g\n",
    "        | otherwise = contFrac a' b' c' (f p3) (f p4) (f p5) (f p6) rn\n",
    "        where a' = a + 1\n",
    "              b' = b + 2\n",
    "              c' = c + 1\n",
    "              an = a' * c'\n",
    "              p5 = b' * p3 - an * p1\n",
    "              p6 = b' * p4 - an * p2\n",
    "              rn = p5 / p6\n",
    "              f n | abs p5 > overflow = n / overflow\n",
    "                  | otherwise         = n\n",
    "    limit     = -88\n",
    "    tolerance = 1e-14\n",
    "    overflow  = 1e37\n",
    "\n",
    "\n",
    "-- Coefficients for 18-point Gauss-Legendre integration. They are\n",
    "-- used in implementation of incomplete gamma and beta functions.\n",
    "coefW,coefY :: U.Vector Double\n",
    "coefW = U.fromList [ 0.0055657196642445571, 0.012915947284065419, 0.020181515297735382\n",
    "                   , 0.027298621498568734,  0.034213810770299537, 0.040875750923643261\n",
    "                   , 0.047235083490265582,  0.053244713977759692, 0.058860144245324798\n",
    "                   , 0.064039797355015485,  0.068745323835736408, 0.072941885005653087\n",
    "                   , 0.076598410645870640,  0.079687828912071670, 0.082187266704339706\n",
    "                   , 0.084078218979661945,  0.085346685739338721, 0.085983275670394821\n",
    "                   ]\n",
    "coefY = U.fromList [ 0.0021695375159141994, 0.011413521097787704, 0.027972308950302116\n",
    "                   , 0.051727015600492421,  0.082502225484340941, 0.12007019910960293\n",
    "                   , 0.16415283300752470,   0.21442376986779355,  0.27051082840644336\n",
    "                   , 0.33199876341447887,   0.39843234186401943,  0.46931971407375483\n",
    "                   , 0.54413605556657973,   0.62232745288031077,  0.70331500465597174\n",
    "                   , 0.78649910768313447,   0.87126389619061517,  0.95698180152629142\n",
    "                   ]"
   ]
  },
  {
   "cell_type": "code",
   "execution_count": null,
   "metadata": {
    "collapsed": false
   },
   "outputs": [],
   "source": [
    "toRenderable $\n",
    "  plotFunctions [ incompleteGamma' 1000] (0,3000)\n"
   ]
  },
  {
   "cell_type": "code",
   "execution_count": null,
   "metadata": {
    "collapsed": false
   },
   "outputs": [],
   "source": [
    "12 / exp (logGamma 1000)"
   ]
  },
  {
   "cell_type": "code",
   "execution_count": null,
   "metadata": {
    "collapsed": true
   },
   "outputs": [],
   "source": []
  }
 ],
 "metadata": {
  "kernelspec": {
   "display_name": "Haskell",
   "language": "haskell",
   "name": "haskell"
  },
  "language_info": {
   "codemirror_mode": "ihaskell",
   "file_extension": ".hs",
   "name": "haskell",
   "version": "7.10.3"
  }
 },
 "nbformat": 4,
 "nbformat_minor": 0
}
