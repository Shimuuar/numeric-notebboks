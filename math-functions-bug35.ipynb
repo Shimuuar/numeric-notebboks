{
 "cells": [
  {
   "cell_type": "markdown",
   "metadata": {},
   "source": [
    "# Mandatory imports and utils"
   ]
  },
  {
   "cell_type": "code",
   "execution_count": null,
   "metadata": {},
   "outputs": [],
   "source": [
    "{-# LANGUAGE BangPatterns, ScopedTypeVariables #-}\n",
    "import Control.Monad\n",
    "import Control.Monad.Primitive\n",
    "import Control.Parallel.Strategies\n",
    "import Control.Concurrent\n",
    "import Control.Exception (evaluate)\n",
    "\n",
    "import qualified Data.Set as Set\n",
    "import qualified Data.Vector.Unboxed as U\n",
    "\n",
    "import Numeric.SpecFunctions\n",
    "import Numeric.MathFunctions.Constants\n",
    "import Numeric.MathFunctions.Comparison\n",
    "import Numeric.Polynomial\n",
    "import Numeric.Polynomial.Chebyshev\n",
    "\n",
    "import Text.Printf(printf)\n",
    "\n",
    "import IHaskell.Display\n",
    "import Graphics.Rendering.Chart.Backend.Cairo\n",
    "import Graphics.Rendering.Chart.Easy hiding (within)\n",
    "\n",
    "import Debug.Trace\n",
    "\n",
    ":l NB/Plot\n",
    ":l NB/Heatmap\n",
    "\n",
    "greyColormap 0.2\n",
    "_heat_map_values (def :: HeatMap Double Double Double)\n",
    "\n",
    "setNumCapabilities 6"
   ]
  },
  {
   "cell_type": "markdown",
   "metadata": {},
   "source": [
    "# Incomplete beta\n",
    "\n",
    "Quick reminder about beta function and (regularized) incomplete beta functions:\n",
    "\n",
    "Beta function:\n",
    "$$B(a,b) = \\int_0^1 t^{a-1}(1 - t)^{b-1} \\,dt $$\n",
    "\n",
    "Incomplete beta:\n",
    "$$B(x; a,b) = \\int_0^x t^{a-1}(1 - t)^{b-1} \\,dt \\qquad x \\in [0,1]$$\n",
    "\n",
    "Regularized incomplete beta (from now it'll be referred to simply as incomplete beta)\n",
    "$$I(x; a,b) = \\frac{B(x; a,b)}{B(a,b)}$$\n"
   ]
  },
  {
   "cell_type": "markdown",
   "metadata": {},
   "source": [
    "## Debugging of [math-functions#35](https://github.com/bos/math-functions/issues/35)\n",
    "\n",
    "Originally uncovered when plotting roundtrip error of `cumulative . quantile` for beta distribution in log scale."
   ]
  },
  {
   "cell_type": "code",
   "execution_count": null,
   "metadata": {},
   "outputs": [],
   "source": [
    "let fun x = let p  = invIncompleteBeta 7 0.07 x\n",
    "                x' = incompleteBeta    7 0.07 p\n",
    "            in x'\n",
    "toRenderable\n",
    "  $ plotFunctionsLog [\\x -> logBase 10 $ relativeError (fun x) x] (1e-10, 1)"
   ]
  },
  {
   "cell_type": "markdown",
   "metadata": {},
   "source": [
    "Oh! It's looks bad let plot how does incomplete beta looks like."
   ]
  },
  {
   "cell_type": "code",
   "execution_count": null,
   "metadata": {},
   "outputs": [],
   "source": [
    "-- Bird's eye view\n",
    "toRenderable\n",
    "  $ plotFunctions [invIncompleteBeta 7 0.07] (1e-7,1e-6)\n",
    "-- Closeup\n",
    "toRenderable\n",
    "  $ plotFunctions [invIncompleteBeta 7 0.07] (2.8e-7,3e-7)"
   ]
  },
  {
   "cell_type": "markdown",
   "metadata": {},
   "source": [
    "It's strange dip in smooth and _monotonic_ function! After adding couple of `traceShow`'s to incompleteBeta implementation it becomes clear that problem is lack of convergence. Initial guess is bad and 10 iterations is not enough. So we need to modify `invIncompleteBeta` for easy of debugging. We add  pluggable oracle for initial guess and return number of iterations together with result.\n",
    "\n",
    "We'll need to make quite a few modifications. We'll need to fix math-functions#36 so we'll have to add custom `logBeta` definition."
   ]
  },
  {
   "cell_type": "code",
   "execution_count": null,
   "metadata": {},
   "outputs": [],
   "source": [
    "logGammaLL :: Double -> Double\n",
    "logGammaLL x\n",
    "    | x <= 0    = m_pos_inf\n",
    "    | x <  1    = lanczos (1+x) - log x\n",
    "    \n",
    "    | x >= 1 && x < 2 =  lanczos (1+x) - log x\n",
    "    | otherwise = lanczos x\n",
    "    where\n",
    "      -- Evaluate Lanczos approximation for γ=6\n",
    "      lanczos z = fini \n",
    "                $ U.foldl' go (L 0 (z+7)) a\n",
    "        where\n",
    "          fini (L l _)   = log (l+a0) + log m_sqrt_2_pi - z65 + (z-0.5) * log z65\n",
    "          go   (L l t) k = L (l + k / t) (t-1)\n",
    "          z65 = z + 6.5\n",
    "      a0  = 0.9999999999995183\n",
    "      a   = U.fromList [ 0.1659470187408462e-06\n",
    "                       , 0.9934937113930748e-05\n",
    "                       , -0.1385710331296526\n",
    "                       , 12.50734324009056\n",
    "                       , -176.6150291498386\n",
    "                       , 771.3234287757674\n",
    "                       , -1259.139216722289\n",
    "                       , 676.5203681218835\n",
    "                       ]\n",
    "data L = L {-# UNPACK #-} !Double {-# UNPACK #-} !Double\n",
    "\n",
    "-- | Compute the natural logarithm of the beta function.\n",
    "logBeta' :: Double -> Double -> Double\n",
    "logBeta' a b\n",
    "    | p < 0     = m_NaN\n",
    "    | p == 0    = m_pos_inf\n",
    "    | p >= 10   = log q * (-0.5) + m_ln_sqrt_2_pi + logGammaCorrection p + c +\n",
    "                  (p - 0.5) * log ppq + q * log1p(-ppq)\n",
    "    | q >= 10   = logGamma p + c + p - p * log pq + (q - 0.5) * log1p(-ppq)\n",
    "    | otherwise = logGammaLL p + logGammaLL q - logGammaLL pq\n",
    "    where\n",
    "      p   = min a b\n",
    "      q   = max a b\n",
    "      ppq = p / pq\n",
    "      pq  = p + q\n",
    "      c   = logGammaCorrection q - logGammaCorrection pq\n",
    "      -- Fix another issue in current Lanczos approximation \n",
    "      logGammaLL z | z < 1 = logGammaL (z+1) - log z\n",
    "                   | otherwise = logGammaL z\n",
    "\n",
    "-- | Compute the log gamma correction factor for @x@ &#8805; 10.  This\n",
    "-- correction factor is suitable for an alternate (but less\n",
    "-- numerically accurate) definition of 'logGamma':\n",
    "--\n",
    "-- >lgg x = 0.5 * log(2*pi) + (x-0.5) * log x - x + logGammaCorrection x\n",
    "logGammaCorrection :: Double -> Double\n",
    "logGammaCorrection x\n",
    "    | x < 10    = m_NaN\n",
    "    | x < big   = chebyshevBroucke (t * t * 2 - 1) coeffs / x\n",
    "    | otherwise = 1 / (x * 12)\n",
    "  where\n",
    "    big    = 94906265.62425156\n",
    "    t      = 10 / x\n",
    "    coeffs = U.fromList [\n",
    "               0.1666389480451863247205729650822e+0,\n",
    "              -0.1384948176067563840732986059135e-4,\n",
    "               0.9810825646924729426157171547487e-8,\n",
    "              -0.1809129475572494194263306266719e-10,\n",
    "               0.6221098041892605227126015543416e-13,\n",
    "              -0.3399615005417721944303330599666e-15,\n",
    "               0.2683181998482698748957538846666e-17\n",
    "             ]\n",
    "\n",
    "incompleteBeta'' :: Double -- ^ /p/ > 0\n",
    "               -> Double -- ^ /q/ > 0\n",
    "               -> Double -- ^ /x/, must lie in [0,1] range\n",
    "               -> Double\n",
    "incompleteBeta'' p q = incompleteBeta_ (logBeta' p q) p q"
   ]
  },
  {
   "cell_type": "code",
   "execution_count": null,
   "metadata": {},
   "outputs": [],
   "source": [
    "-- | Regularized incomplete beta function. Uses algorithm AS63 by\n",
    "-- Majumder and Bhattachrjee and quadrature approximation for large\n",
    "-- /p/ and /q/.\n",
    "incompleteBeta' :: Double -- ^ /p/ > 0\n",
    "               -> Double -- ^ /q/ > 0\n",
    "               -> Double -- ^ /x/, must lie in [0,1] range\n",
    "               -> Double\n",
    "incompleteBeta' p q = incompleteBeta_ b p q\n",
    "  where\n",
    "    b = logBeta' p q\n",
    "    \n",
    "    \n",
    "-- | Regularized incomplete beta function. Same as 'incompleteBeta'\n",
    "-- but also takes logarithm of beta function as parameter.\n",
    "incompleteBeta_ :: Double -- ^ logarithm of beta function for given /p/ and /q/\n",
    "                -> Double -- ^ /p/ > 0\n",
    "                -> Double -- ^ /q/ > 0\n",
    "                -> Double -- ^ /x/, must lie in [0,1] range\n",
    "                -> Double\n",
    "incompleteBeta_ beta p q x\n",
    "  | p <= 0 || q <= 0            =\n",
    "      error $ printf \"incompleteBeta_: p <= 0 || q <= 0. p=%g q=%g x=%g\" p q x\n",
    "  | x <  0 || x >  1 || isNaN x =\n",
    "      error $ printf \"incompleteBeta_: x out of [0,1] range. p=%g q=%g x=%g\" p q x\n",
    "  | x == 0 || x == 1            = x\n",
    "  | p >= (p+q) * x   = incompleteBetaWorker beta p q x\n",
    "  | otherwise        = 1 - incompleteBetaWorker beta q p (1 - x)\n",
    "\n",
    "-- Worker for incomplete beta function. It is separate function to\n",
    "-- avoid confusion with parameter during parameter swapping\n",
    "incompleteBetaWorker :: Double -> Double -> Double -> Double -> Double\n",
    "incompleteBetaWorker beta p q x\n",
    "  -- For very large p and q this method becomes very slow so another\n",
    "  -- method is used.\n",
    "  | p > 3000 && q > 3000 = error \"incompleteBetaApprox beta p q x\"\n",
    "  | otherwise            = loop (p+q) (truncate $ q + cx * (p+q)) 1 1 1\n",
    "  where\n",
    "    -- Constants\n",
    "    eps = m_epsilon\n",
    "    cx  = 1 - x\n",
    "    -- Loop\n",
    "    loop !psq (ns :: Int) ai term betain\n",
    "      | done      = betain' * x ** p * cx ** (q - 1) / p / exp beta\n",
    "      | otherwise = loop psq' (ns - 1) (ai + 1) term' betain'\n",
    "      where\n",
    "        -- New values\n",
    "        term'   = term * fact / (p + ai)\n",
    "        betain' = betain + term'\n",
    "        fact | ns >  0   = (q - ai) * x/cx\n",
    "             | ns == 0   = (q - ai) * x\n",
    "             | otherwise = psq * x\n",
    "        -- Iterations are complete\n",
    "        done = db <= eps && db <= eps*betain' where db = abs term'\n",
    "        psq' = if ns < 0 then psq + 1 else psq    "
   ]
  },
  {
   "cell_type": "markdown",
   "metadata": {},
   "source": [
    "And finally inverse incomplete beta"
   ]
  },
  {
   "cell_type": "code",
   "execution_count": null,
   "metadata": {},
   "outputs": [],
   "source": [
    "-- | Data type to describe approximation used. See \n",
    "data Guess\n",
    "  = AS109\n",
    "  | AS64_2\n",
    "  | NR1\n",
    "  | NR2\n",
    "  deriving (Show,Eq)\n",
    "\n",
    "data Res = Res\n",
    "  { result :: !Double\n",
    "  , nIter  :: !Int\n",
    "  , iters  :: [Double]\n",
    "  }\n",
    "  deriving Show \n",
    "\n",
    "-- | Compute inverse of regularized incomplete beta function. Uses\n",
    "-- initial approximation from AS109, AS64 and Halley method to solve\n",
    "-- equation.\n",
    "invIncompleteBeta' \n",
    "  :: (Double -> Double -> Double -> (Guess,Double)) -- Initial guess\n",
    "  -> (Double -> Double -> Double -> Double)         -- incomplete beta\n",
    "  -> Double     -- ^ /p/ > 0\n",
    "  -> Double     -- ^ /q/ > 0\n",
    "  -> Double     -- ^ /a/ ∈ [0,0.5] !!!\n",
    "  -> Res\n",
    "invIncompleteBeta' oracle calcIbeta p q a\n",
    "  | p <= 0 || q <= 0 =\n",
    "      error $ printf \"invIncompleteBeta p <= 0 || q <= 0.  p=%g q=%g a=%g\" p q a\n",
    "  | a <  0 || a >  1 =\n",
    "      error $ printf \"invIncompleteBeta x must be in [0,1].  p=%g q=%g a=%g\" p q a\n",
    "  | a == 0 || a == 1 = Res a 0 []\n",
    "  | a > 0.5          = error \"not implemented\"\n",
    "  | otherwise        = invIncompleteBetaWorker oracle calcIbeta (logBeta p q) p q  a\n",
    "\n",
    "\n",
    "invIncompleteBetaWorker\n",
    "  :: (Double -> Double -> Double -> (Guess,Double))\n",
    "  -> (Double -> Double -> Double -> Double)\n",
    "  -> Double -> Double -> Double -> Double -> Res\n",
    "-- NOTE: p <= 0.5.\n",
    "invIncompleteBetaWorker oracle calcIbeta beta a b p = loop (0::Int) [] (snd $ oracle a b p)\n",
    "  where\n",
    "    a1 = a - 1\n",
    "    b1 = b - 1\n",
    "    -- Solve equation using Halley method\n",
    "    done i xs x = Res { result = x \n",
    "                      , nIter  = i\n",
    "                      , iters  = reverse $ x : xs\n",
    "                      }\n",
    "    loop !i !xs !x\n",
    "      -- We cannot continue at this point so we simply return `x'\n",
    "      | traceShow (x,f,f',u) False = undefined      \n",
    "      | isNaN x' = error $ \"Got to the NaN a=\"++show a++\" b=\"++show b++\" p=\"++show p++\" x_last=\"++show x\n",
    "      \n",
    "      | x == 0 || x == 1             = done i xs x\n",
    "      -- When derivative becomes infinite we cannot continue\n",
    "      -- iterations. It can only happen in vicinity of 0 or 1. It's\n",
    "      -- hardly possible to get good answer in such circumstances but\n",
    "      -- `x' is already reasonable.\n",
    "      | isInfinite f'                = done i xs x\n",
    "      -- Iterations limit reached. Most of the time solution will\n",
    "      -- converge to answer because of discreteness of Double. But\n",
    "      -- solution have good precision already.\n",
    "      | i >= 100                     = traceShow (a,b,p) $ done i xs x\n",
    "      -- Solution converges      \n",
    "      | abs dx <= 16 * m_epsilon * x = done i xs x'\n",
    "      | otherwise                    = loop (i+1) (x:xs) x'\n",
    "      where\n",
    "        -- Calculate Halley step.\n",
    "        f   = calcIbeta a b x  - p\n",
    "        f'  = exp $ a1 * log x + b1 * log1p (-x) - beta\n",
    "        u   = f / f'\n",
    "        dx  = u / (1 - 0.5 * min 1 (u * (a1 / x - b1 / (1 - x))))\n",
    "        -- Next approximation. If Halley step leads us out of [0,1]\n",
    "        -- range we revert to bisection.\n",
    "        x'  | z < 0     = x / 2\n",
    "            | z > 1     = (x + 1) / 2\n",
    "            | otherwise = z\n",
    "            where z = x - dx\n",
    "\n",
    "-- Calculate initial guess. Approximations from AS64, AS109 and\n",
    "-- Numerical recipes are used.\n",
    "--\n",
    "-- Equations are referred to by name of paper and number e.g. [AS64 2]\n",
    "-- In AS64 papers equations are not numbered so they are refered\n",
    "-- to by number of appearance starting from definition of\n",
    "-- incomplete beta.\n",
    "guessIIBeta :: Double -> Double -> Double -> (Guess,Double)\n",
    "guessIIBeta a b p\n",
    "      -- In this region we use approximation from AS109 (Carter\n",
    "      -- approximation). It's reasonably good (2 iterations on\n",
    "      -- average)\n",
    "      | a > 1 && b > 1 =\n",
    "          let r = (y*y - 3) / 6\n",
    "              s = 1 / (2*a - 1)\n",
    "              t = 1 / (2*b - 1)\n",
    "              h = 2 / (s + t)\n",
    "              w = y * sqrt(h + r) / h - (t - s) * (r + 5/6 - 2 / (3 * h))\n",
    "          in (AS109, a / (a + b * exp(2 * w)))\n",
    "      -- Otherwise we revert to approximation from AS64 derived from\n",
    "      -- [AS64 2] when it's applicable.\n",
    "      --\n",
    "      -- It slightly reduces average number of iterations when `a' and\n",
    "      -- `b' have different magnitudes.\n",
    "      | chi2 > 0 && ratio > 1 = (AS64_2, 1 - 2 / (ratio + 1))\n",
    "      -- If all else fails we use approximation from \"Numerical\n",
    "      -- Recipes\". It's very similar to approximations [AS64 4,5] but\n",
    "      -- it never goes out of [0,1] interval.\n",
    "      | otherwise = case () of\n",
    "          _| p < t / w  -> (NR1, (a * p * w) ** (1/a))\n",
    "           | otherwise  -> (NR2, 1 - (b * (1 - p) * w) ** (1/b))\n",
    "           where\n",
    "             lna = log $ a / (a+b)\n",
    "             lnb = log $ b / (a+b)\n",
    "             t   = exp( a * lna ) / a\n",
    "             u   = exp( b * lnb ) / b\n",
    "             w   = t + u\n",
    "      where\n",
    "        -- Formula [2]\n",
    "        ratio = (4*a + 2*b - 2) / chi2\n",
    "        -- Quantile of chi-squared distribution. Formula [3].\n",
    "        chi2 = 2 * b * (1 - t + y * sqrt t) ** 3\n",
    "          where\n",
    "            t   = 1 / (9 * b)\n",
    "        -- `y' is Hasting's approximation of p'th quantile of standard\n",
    "        -- normal distribution.\n",
    "        y   = r - ( 2.30753 + 0.27061 * r )\n",
    "                  / ( 1.0 + ( 0.99229 + 0.04481 * r ) * r )\n",
    "          where\n",
    "            r = sqrt $ - 2 * log p\n",
    "\n",
    "incompleteBetaDeriv :: Double -> Double -> Double -> Double\n",
    "incompleteBetaDeriv a b p\n",
    "  = p**(a-1) * (1-p)**(b-1)\n",
    "\n",
    "--invIncompleteBeta' guessIIBeta 7 0.07 2.8e-7\n",
    "--invIncompleteBeta' guessIIBeta 7 0.07 2.88e-7"
   ]
  },
  {
   "cell_type": "markdown",
   "metadata": {},
   "source": [
    "# Checking convergence\n",
    "\n",
    "Pretty bad. Let plot number of iterations:"
   ]
  },
  {
   "cell_type": "code",
   "execution_count": null,
   "metadata": {},
   "outputs": [],
   "source": [
    "toRenderable\n",
    "  $ plotFunctions [fromIntegral . nIter . invIncompleteBeta' guessIIBeta incompleteBeta 7 0.07\n",
    "                  , const 10] (1e-7,1e-6)\n",
    "guessIIBeta 7 0.07 4e-7"
   ]
  },
  {
   "cell_type": "markdown",
   "metadata": {},
   "source": [
    "That's pretty bad. Initial guess is very very poor. And it's initial guess from AS64 fails us. Let look just how bad situation is."
   ]
  },
  {
   "cell_type": "code",
   "execution_count": null,
   "metadata": {},
   "outputs": [],
   "source": [
    "nIterations =\n",
    "  [ ((a1,b1),(a2,b2), fromIntegral (maximum iters) :: Double)\n",
    "  | (a1,a,a2) <- linspaceIntervals (0,1) n\n",
    "  , (b1,b,b2) <- linspaceIntervals (0,1) n\n",
    "        -- Calculate number of iterations\n",
    "  , let iters = parMap rpar (nIter . invIncompleteBeta' guessIIBeta incompleteBeta a b) $ linspace (0,0.5) 100\n",
    "  ]\n",
    "  where n  = 20 :: Int\n",
    "\n",
    "void $ evaluate (nIterations `using` parList rdeepseq)\n",
    "\n",
    "toRenderable $ \n",
    "  layout_plots .~ \n",
    "    [ toPlot $ heat_map_values .~ nIterations\n",
    "             $ def\n",
    "             ]\n",
    "  $ def\n",
    "\n",
    "maximum [z | (_,_,z) <- nIterations]"
   ]
  },
  {
   "cell_type": "markdown",
   "metadata": {},
   "source": [
    "Situation is pretty grim. Let look just how bad it is"
   ]
  },
  {
   "cell_type": "code",
   "execution_count": null,
   "metadata": {},
   "outputs": [],
   "source": [
    "toRenderable\n",
    "  $ plotFunctionsLog [ fromIntegral . nIter . invIncompleteBeta' guessIIBeta incompleteBeta 0.5 0.5\n",
    "                     , const 10\n",
    "                     ] (1e-10, 0.45)\n",
    "mapM_ print $ take 10 $ iters\n",
    " $ invIncompleteBeta' guessIIBeta incompleteBeta 0.5 0.5 1.743132149343274e-10"
   ]
  },
  {
   "cell_type": "markdown",
   "metadata": {},
   "source": [
    "Ah! We got ourselves into infinite loop without reaching convergence! Let look at incomplete beta there"
   ]
  },
  {
   "cell_type": "markdown",
   "metadata": {},
   "source": [
    "It looks like we lost precision. And math-functions\\#37 is started here\n",
    "\n",
    "# After fixing incompelte beta"
   ]
  },
  {
   "cell_type": "code",
   "execution_count": null,
   "metadata": {},
   "outputs": [],
   "source": [
    "nIterations =\n",
    "  [ ((a1,b1),(a2,b2), fromIntegral (maximum iters) :: Double)\n",
    "  | (a1,a,a2) <- linspaceIntervals (0,1) n\n",
    "  , (b1,b,b2) <- linspaceIntervals (0,1) n\n",
    "        -- Calculate number of iterations\n",
    "  , let iters = parMap rpar (nIter . invIncompleteBeta' guessIIBeta incompleteBeta' a b) $ linspace (0,0.5) 100\n",
    "  ]\n",
    "  where n  = 20 :: Int\n",
    "void $ evaluate (nIterations `using` parList rdeepseq)\n",
    "\n",
    "toRenderable $ \n",
    "  layout_plots .~ \n",
    "    [ toPlot $ heat_map_values .~ nIterations\n",
    "             $ heat_map_color_map .~ blackbodyColormap\n",
    "             $ def\n",
    "             ]\n",
    "  $ def\n",
    "\n",
    "maximum [z | (_,_,z) <- nIterations]"
   ]
  },
  {
   "cell_type": "markdown",
   "metadata": {},
   "source": [
    "Now we need to do something with fake nonconvergenece"
   ]
  },
  {
   "cell_type": "code",
   "execution_count": null,
   "metadata": {},
   "outputs": [],
   "source": [
    "dropLoop xs\n",
    "  = map fst\n",
    "  $ takeWhile (\\(x,vals) -> not $ Set.member x vals)\n",
    "  $ zip xs sets\n",
    "  where\n",
    "    sets = scanl (flip Set.insert) Set.empty xs\n",
    "    \n",
    "plotIterationsMap aRng bRng n\n",
    "  = layout_title .~ (\"a = \" ++ show aRng ++ \" b = \" ++ show bRng ++ \" max=\" ++ show (maxN))\n",
    "  $ layout_plots .~ \n",
    "    [ toPlot $ heat_map_values    .~ nIterations\n",
    "             $ heat_map_color_map .~ blackbodyColormap\n",
    "             $ def\n",
    "             ]\n",
    "  $ def\n",
    "  where\n",
    "    maxN = maximum [z | (_,_,z) <- nIterations]\n",
    "    nIterations = flip using (parList rdeepseq) $ \n",
    "      [ ((a1,b1),(a2,b2), fromIntegral (maximum iters) :: Double)\n",
    "      | (a1,a,a2) <- linspaceIntervals aRng n\n",
    "      , (b1,b,b2) <- linspaceIntervals bRng n\n",
    "        -- Calculate number of iterations\n",
    "      , let iters = map (cleverNIter . invIncompleteBeta' guessIIBeta incompleteBeta' a b)\n",
    "                  $ logspace (1e-10,0.5) 100\n",
    "      ]\n",
    "    --\n",
    "    cleverNIter :: Res -> Int\n",
    "    cleverNIter r \n",
    "      | n == 100  = length $ dropLoop $ iters r\n",
    "      | otherwise = n\n",
    "      where\n",
    "        n   = nIter r\n",
    "        \n",
    "plotGuessRatio aRng bRng n approx\n",
    "  = layout_title .~ (\"a = \" ++ show aRng ++ \" b = \" ++ show bRng ++ \" \" ++ show approx)\n",
    "  $ layout_plots .~ \n",
    "    [ toPlot $ heat_map_values    .~ nIterations\n",
    "             $ heat_map_color_map .~ blackbodyColormap\n",
    "             $ def\n",
    "             ]\n",
    "  $ def\n",
    "  where\n",
    "    nIterations = flip using (parList rdeepseq) $ \n",
    "      [ ((a1,b1),(a2,b2), length guesses)\n",
    "      | (a1,a,a2) <- linspaceIntervals aRng n\n",
    "      , (b1,b,b2) <- linspaceIntervals bRng n\n",
    "        -- Calculate number of iterations\n",
    "      , let guesses = filter (==approx) \n",
    "                    $ map (fst . guessIIBeta a b)\n",
    "                    $ logspace (1e-10,0.5) 100\n",
    "      ]\n",
    "    --"
   ]
  },
  {
   "cell_type": "markdown",
   "metadata": {},
   "source": [
    "## Let check which initial guesses are used where\n",
    "\n",
    "### AS109 guess\n",
    "\n",
    "Carter approximation. Used when:\n",
    "\n",
    "$$\\begin{aligned}\n",
    " a > 1 \\\\\n",
    " b > 1 \\\\\n",
    "\\end{aligned}$$\n",
    "\n",
    "$$\\begin{aligned}\n",
    "x &= \\frac{a}{a + b \\exp(2w)} \\\\\n",
    "w &= \\frac{y \\sqrt{h + r}}{h} \n",
    "   - (t - s)\\left(r + \\frac{5}{6} - \\frac{2}{3h}\\right) \\\\\n",
    "r &= \\frac{y^2 - 3}{6}\\\\\n",
    "s &= \\frac{1}{2a - 1} \\\\\n",
    "t &= \\frac{1}{2b - 1} \\\\\n",
    "h &= \\frac{2}{s + t}  \\\\\n",
    "\\end{aligned}$$\n",
    "\n",
    "$y$ is Hasting's approximation of p'th quantile of standard normal distribution.\n",
    "\n",
    "$$\\begin{aligned}\n",
    " y &= r' - \\frac{2.30753 + 0.27061 r'}{1.0 + 0.99229 r' + 0.04481 r'^2} \\\\\n",
    " r' &= \\sqrt{-2\\log p}\n",
    "\\end{aligned}$$"
   ]
  },
  {
   "cell_type": "code",
   "execution_count": null,
   "metadata": {},
   "outputs": [],
   "source": [
    "toRenderable $ plotGuessRatio (0,20) (0,20) 40 AS109\n",
    "toRenderable $ plotGuessRatio (0,20) (0,20) 40 AS64_2\n",
    "toRenderable $ plotGuessRatio (0,20) (0,20) 40 NR1\n",
    "toRenderable $ plotGuessRatio (0,2)  (0,2)  40 NR2"
   ]
  },
  {
   "cell_type": "markdown",
   "metadata": {},
   "source": [
    "## Рассмотрим теперь как выглядят распределение худшего числа итераций\n",
    "\n",
    "### AS109"
   ]
  },
  {
   "cell_type": "code",
   "execution_count": null,
   "metadata": {},
   "outputs": [],
   "source": [
    "toRenderable $ plotIterationsMap (1,50)  (1,50)  40\n",
    "toRenderable $ plotIterationsMap (1,50)  (2,50)  40\n",
    "toRenderable $ plotIterationsMap (1,100) (1,2)   30\n",
    "toRenderable $ plotIterationsMap (1,2)   (1,200) 20\n",
    "toRenderable $ plotIterationsMap (1,4)   (1,400) 30"
   ]
  },
  {
   "cell_type": "code",
   "execution_count": null,
   "metadata": {},
   "outputs": [],
   "source": [
    "toRenderable $ plotIterationsMap (10,1000) (10,1000) 40"
   ]
  },
  {
   "cell_type": "code",
   "execution_count": null,
   "metadata": {},
   "outputs": [],
   "source": [
    "--incompleteBeta' 345.125 938.125 0.1954382572000985\n",
    "--invIncompleteBeta 9 2 1e-300\n",
    "incompleteBeta 9 2 7.316450683654291e-42"
   ]
  },
  {
   "cell_type": "code",
   "execution_count": null,
   "metadata": {},
   "outputs": [],
   "source": [
    "invIncompleteBeta 345.125 938.125 1e-10 "
   ]
  },
  {
   "cell_type": "code",
   "execution_count": null,
   "metadata": {},
   "outputs": [],
   "source": [
    "toRenderable $ plotIterationsMap (1,100) (1,400) 30"
   ]
  },
  {
   "cell_type": "markdown",
   "metadata": {},
   "source": [
    "Итак, у нас есть проблемы с при a >> 1 и малым (b-1), а также при больших a\n",
    "\n",
    "# Квадрат 1"
   ]
  },
  {
   "cell_type": "code",
   "execution_count": null,
   "metadata": {},
   "outputs": [],
   "source": [
    "toRenderable $ plotIterationsMap (0,1) (0,1) 40"
   ]
  },
  {
   "cell_type": "code",
   "execution_count": null,
   "metadata": {},
   "outputs": [],
   "source": [
    "toRenderable $ plotIterationsMap (0,20) (0,1.2) 40"
   ]
  },
  {
   "cell_type": "code",
   "execution_count": null,
   "metadata": {},
   "outputs": [],
   "source": [
    "toRenderable $ plotIterationsMap (0,1) (0,1) 40"
   ]
  },
  {
   "cell_type": "code",
   "execution_count": null,
   "metadata": {},
   "outputs": [],
   "source": [
    "toRenderable $ plotIterationsMap (0,0.05) (0,1) 40"
   ]
  },
  {
   "cell_type": "code",
   "execution_count": null,
   "metadata": {},
   "outputs": [],
   "source": [
    "toRenderable $ plotIterationsMap (6,8) (0.05,0.10) 40"
   ]
  },
  {
   "cell_type": "code",
   "execution_count": null,
   "metadata": {},
   "outputs": [],
   "source": [
    "temmeGuess a b p\n",
    "  | a + b >= 5 = case () of\n",
    "    _| sqrt minA > (maxA-minA)  && minA > 5     -> error \"Sec.2\"\n",
    "--     | lambda > 0.2 && lambda < 0.8 && a_b > 10 -> error \"Sec. 3 / or power method\"\n",
    "  where \n",
    "    --\n",
    "    minA = min a b\n",
    "    maxA = max a b\n",
    "    a_b  = a + b\n",
    "    \n",
    "    beta = a - b\n",
    "    mu   = (a - b) / a\n",
    "\n",
    "\n",
    "-- | Initial guess from  section 2.\n",
    "ibetaTemmeGuessSect2 :: Double -> Double -> Double -> Double\n",
    "ibetaTemmeGuessSect2 a b p\n",
    "  = 0 \n",
    "  where\n",
    "    -- Calculate even \n",
    "    beta  = b - a\n",
    "    beta2 = beta  * beta\n",
    "    beta3 = beta2 * beta\n",
    "    eta0  = - sqrt(2 / a) * invErfc (2 * p)\n",
    "    eta   = evaluatePolynomialL (1/a)\n",
    "      [ eta0\n",
    "        -- Eq. following 2.15\n",
    "      , evaluatePolynomialL eta0\n",
    "        [ -beta * m_sqrt_2 / 2\n",
    "        , (1 - 2*beta) / 8\n",
    "        , -(beta * m_sqrt_2) / 48\n",
    "        , -1 /192\n",
    "        , beta * m_sqrt_2 / 3840\n",
    "        ]\n",
    "        -- Eq. following 2.17\n",
    "      , evaluatePolynomial eta0\n",
    "        [ beta * m_sqrt_2 * (3*beta - 2) / 12\n",
    "        , (20*beta2 - 12*beta + 1) / 128\n",
    "        ,  beta * m_sqrt_2 * (20 * beta - 1) / 960\n",
    "        , (16 * beta2 + 30 * beta - 15) / 4608\n",
    "        , beta * m_sqrt_2 * (21 * beta + 32) / 53760\n",
    "        , (-32 * beta2 + 63) / 368640\n",
    "        , -beta * m_sqrt_2 * (120 * beta + 17) / 25804480\n",
    "        ]\n",
    "      , evaluatePolynomial eta0\n",
    "        [ B * r2 * (-75 * B_2 + 80 * B - 16) / 480\n",
    "        , (-1080 * B_3 + 868 * B_2 - 90 * B - 45) / 9216\n",
    "        , B * r2 * (-1190 * B_2 + 84 * B + 373) / 53760\n",
    "        , (-2240 * B_3 - 2508 * B_2 + 2100 * B - 165) / 368640\n",
    "        ]\n",
    "      ]\n",
    "    -- "
   ]
  },
  {
   "cell_type": "code",
   "execution_count": null,
   "metadata": {},
   "outputs": [],
   "source": [
    "tets x\n",
    "  | x > 1 | x > 2 = 0\n",
    "          | otherwise = 1\n",
    "  | otherwise = x"
   ]
  },
  {
   "cell_type": "code",
   "execution_count": null,
   "metadata": {},
   "outputs": [],
   "source": [
    "m_sqrt_2"
   ]
  },
  {
   "cell_type": "code",
   "execution_count": null,
   "metadata": {},
   "outputs": [],
   "source": [
    ":t evaluatePolynomialL"
   ]
  },
  {
   "cell_type": "code",
   "execution_count": null,
   "metadata": {},
   "outputs": [],
   "source": []
  }
 ],
 "metadata": {
  "kernelspec": {
   "display_name": "Haskell",
   "language": "haskell",
   "name": "haskell"
  },
  "language_info": {
   "codemirror_mode": "ihaskell",
   "file_extension": ".hs",
   "name": "haskell",
   "pygments_lexer": "Haskell",
   "version": "8.4.4"
  }
 },
 "nbformat": 4,
 "nbformat_minor": 1
}
