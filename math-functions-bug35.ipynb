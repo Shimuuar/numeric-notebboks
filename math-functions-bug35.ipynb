{
 "cells": [
  {
   "cell_type": "markdown",
   "metadata": {},
   "source": [
    "# Mandatory imports and utils"
   ]
  },
  {
   "cell_type": "code",
   "execution_count": null,
   "metadata": {
    "collapsed": false
   },
   "outputs": [],
   "source": [
    "{-# LANGUAGE BangPatterns, ScopedTypeVariables #-}\n",
    "import Control.Monad\n",
    "import Control.Monad.Primitive\n",
    "\n",
    "import qualified Data.Vector.Unboxed as U\n",
    "\n",
    "import Numeric.SpecFunctions\n",
    "import Numeric.MathFunctions.Constants\n",
    "import Numeric.MathFunctions.Comparison\n",
    "import Numeric.Polynomial.Chebyshev\n",
    "\n",
    "import Text.Printf(printf)\n",
    "\n",
    "import IHaskell.Display\n",
    "import Graphics.Rendering.Chart.Backend.Cairo\n",
    "import Graphics.Rendering.Chart.Easy\n",
    "\n",
    ":l NB/Plot\n",
    ":l NB/Heatmap"
   ]
  },
  {
   "cell_type": "markdown",
   "metadata": {},
   "source": [
    "# Incomplete beta\n",
    "\n",
    "Quick reminder about beta function and (regularized) incomplete beta functions:\n",
    "\n",
    "Beta function:\n",
    "$$B(a,b) = \\int_0^1 t^{a-1}(1 - t)^{b-1} \\,dt $$\n",
    "\n",
    "Incomplete beta:\n",
    "$$B(x; a,b) = \\int_0^x t^{a-1}(1 - t)^{b-1} \\,dt \\qquad x \\in [0,1]$$\n",
    "\n",
    "Regularized incomplete beta (from now it'll be referred to simply as incomplete beta)\n",
    "$$I(x; a,b) = \\frac{B(x; a,b)}{B(a,b)}$$\n"
   ]
  },
  {
   "cell_type": "markdown",
   "metadata": {},
   "source": [
    "## Debugging of [math-functions#35](https://github.com/bos/math-functions/issues/35)\n",
    "\n",
    "Originally uncovered when plotting roundtrip error of `cumulative . quantile` for beta distribution in log scale."
   ]
  },
  {
   "cell_type": "code",
   "execution_count": null,
   "metadata": {
    "collapsed": false
   },
   "outputs": [],
   "source": [
    "let fun x = let p  = invIncompleteBeta 7 0.07 x\n",
    "                x' = incompleteBeta    7 0.07 p\n",
    "            in x'\n",
    "toRenderable\n",
    "  $ plotFunctionsLog [\\x -> logBase 10 $ relativeError (fun x) x] (1e-10, 1)"
   ]
  },
  {
   "cell_type": "markdown",
   "metadata": {},
   "source": [
    "Oh! It's looks bad let plot how does incomplete beta looks like."
   ]
  },
  {
   "cell_type": "code",
   "execution_count": null,
   "metadata": {
    "collapsed": false
   },
   "outputs": [],
   "source": [
    "-- Bird's eye view\n",
    "toRenderable\n",
    "  $ plotFunctions [invIncompleteBeta 7 0.07] (1e-7,1e-6)\n",
    "-- Closeup\n",
    "toRenderable\n",
    "  $ plotFunctions [invIncompleteBeta 7 0.07] (2.8e-7,3e-7)"
   ]
  },
  {
   "cell_type": "markdown",
   "metadata": {
    "collapsed": true
   },
   "source": [
    "It's strange dip in smooth and _monotonic_ function! After adding couple of `traceShow`'s to incompleteBeta implementation it becomes clear that problem is lack of convergence. Initial guess is bad and 10 iterations is not enough. Let modify `invIncompleteBeta` a little to return number of iterations as well.\n"
   ]
  },
  {
   "cell_type": "code",
   "execution_count": null,
   "metadata": {
    "collapsed": false
   },
   "outputs": [],
   "source": [
    "-- | Compute inverse of regularized incomplete beta function. Uses\n",
    "-- initial approximation from AS109, AS64 and Halley method to solve\n",
    "-- equation.\n",
    "invIncompleteBeta' :: Double     -- ^ /p/ > 0\n",
    "                  -> Double     -- ^ /q/ > 0\n",
    "                  -> Double     -- ^ /a/ ∈ [0,1]\n",
    "                  -> (Int,Double)\n",
    "invIncompleteBeta' p q a\n",
    "  | p <= 0 || q <= 0 =\n",
    "      error $ printf \"invIncompleteBeta p <= 0 || q <= 0.  p=%g q=%g a=%g\" p q a\n",
    "  | a <  0 || a >  1 =\n",
    "      error $ printf \"invIncompleteBeta x must be in [0,1].  p=%g q=%g a=%g\" p q a\n",
    "  | a == 0 || a == 1 = (0,a)\n",
    "  | a > 0.5          = error \"not implemented\"\n",
    "  | otherwise        = invIncompleteBetaWorker (logBeta p q) p q  a\n",
    "\n",
    "\n",
    "invIncompleteBetaWorker :: Double -> Double -> Double -> Double -> (Int,Double)\n",
    "-- NOTE: p <= 0.5.\n",
    "invIncompleteBetaWorker beta a b p = loop (0::Int) (snd $ guessIIBeta a b p)\n",
    "  where\n",
    "    a1 = a - 1\n",
    "    b1 = b - 1\n",
    "    -- Solve equation using Halley method\n",
    "    loop !i !x\n",
    "      -- | traceShow (i,x) False = undefined\n",
    "      -- We cannot continue at this point so we simply return `x'\n",
    "      | x == 0 || x == 1             = (i,x)\n",
    "      -- When derivative becomes infinite we cannot continue\n",
    "      -- iterations. It can only happen in vicinity of 0 or 1. It's\n",
    "      -- hardly possible to get good answer in such circumstances but\n",
    "      -- `x' is already reasonable.\n",
    "      | isInfinite f'                = (i,x)\n",
    "      -- Iterations limit reached. Most of the time solution will\n",
    "      -- converge to answer because of discreteness of Double. But\n",
    "      -- solution have good precision already.\n",
    "      | i >= 100                     = (i,x)\n",
    "      -- Solution converges\n",
    "      | abs dx <= 16 * m_epsilon * x = (i,x')\n",
    "      | otherwise                    = loop (i+1) x'\n",
    "      where\n",
    "        -- Calculate Halley step.\n",
    "        f   = incompleteBeta_ beta a b x - p\n",
    "        f'  = exp $ a1 * log x + b1 * log1p (-x) - beta\n",
    "        u   = f / f'\n",
    "        dx  = u / (1 - 0.5 * min 1 (u * (a1 / x - b1 / (1 - x))))\n",
    "        -- Next approximation. If Halley step leads us out of [0,1]\n",
    "        -- range we revert to bisection.\n",
    "        x'  | z < 0     = x / 2\n",
    "            | z > 1     = (x + 1) / 2\n",
    "            | otherwise = z\n",
    "            where z = x - dx\n",
    "            \n",
    "-- Calculate initial guess. Approximations from AS64, AS109 and\n",
    "-- Numerical recipes are used.\n",
    "--\n",
    "-- Equations are referred to by name of paper and number e.g. [AS64 2]\n",
    "-- In AS64 papers equations are not numbered so they are refered\n",
    "-- to by number of appearance starting from definition of\n",
    "-- incomplete beta.\n",
    "guessIIBeta a b p\n",
    "      -- In this region we use approximation from AS109 (Carter\n",
    "      -- approximation). It's reasonably good (2 iterations on\n",
    "      -- average)\n",
    "      | a > 1 && b > 1 =\n",
    "          let r = (y*y - 3) / 6\n",
    "              s = 1 / (2*a - 1)\n",
    "              t = 1 / (2*b - 1)\n",
    "              h = 2 / (s + t)\n",
    "              w = y * sqrt(h + r) / h - (t - s) * (r + 5/6 - 2 / (3 * h))\n",
    "          in (\"AS109\", a / (a + b * exp(2 * w)))\n",
    "      -- Otherwise we revert to approximation from AS64 derived from\n",
    "      -- [AS64 2] when it's applicable.\n",
    "      --\n",
    "      -- It slightly reduces average number of iterations when `a' and\n",
    "      -- `b' have different magnitudes.\n",
    "      | chi2 > 0 && ratio > 1 = (\"AS64 2\", 1 - 2 / (ratio + 1))\n",
    "      -- If all else fails we use approximation from \"Numerical\n",
    "      -- Recipes\". It's very similar to approximations [AS64 4,5] but\n",
    "      -- it never goes out of [0,1] interval.\n",
    "      | otherwise = case () of\n",
    "          _| p < t / w  -> (\"NR1\", (a * p * w) ** (1/a))\n",
    "           | otherwise  -> (\"NR2\", 1 - (b * (1 - p) * w) ** (1/b))\n",
    "           where\n",
    "             lna = log $ a / (a+b)\n",
    "             lnb = log $ b / (a+b)\n",
    "             t   = exp( a * lna ) / a\n",
    "             u   = exp( b * lnb ) / b\n",
    "             w   = t + u\n",
    "      where\n",
    "        -- Formula [2]\n",
    "        ratio = (4*a + 2*b - 2) / chi2\n",
    "        -- Quantile of chi-squared distribution. Formula [3].\n",
    "        chi2 = 2 * b * (1 - t + y * sqrt t) ** 3\n",
    "          where\n",
    "            t   = 1 / (9 * b)\n",
    "        -- `y' is Hasting's approximation of p'th quantile of standard\n",
    "        -- normal distribution.\n",
    "        y   = r - ( 2.30753 + 0.27061 * r )\n",
    "                  / ( 1.0 + ( 0.99229 + 0.04481 * r ) * r )\n",
    "          where\n",
    "            r = sqrt $ - 2 * log p\n",
    "\n",
    "invIncompleteBeta' 7 0.07 2.8e-7\n",
    "invIncompleteBeta' 7 0.07 2.88e-7"
   ]
  },
  {
   "cell_type": "markdown",
   "metadata": {},
   "source": [
    "Pretty bad. Let plot number of iterations:"
   ]
  },
  {
   "cell_type": "code",
   "execution_count": null,
   "metadata": {
    "collapsed": false
   },
   "outputs": [],
   "source": [
    "toRenderable\n",
    "  $ plotFunctions [fromIntegral . fst . invIncompleteBeta' 7 0.07\n",
    "                  , const 10] (1e-7,1e-6)"
   ]
  },
  {
   "cell_type": "markdown",
   "metadata": {},
   "source": [
    "That's pretty bad. Initial guess is very very poor."
   ]
  },
  {
   "cell_type": "code",
   "execution_count": null,
   "metadata": {
    "collapsed": false
   },
   "outputs": [],
   "source": [
    "guessIIBeta 7 0.07 2.8e-7\n",
    "guessIIBeta 7 0.07 2.88e-7"
   ]
  },
  {
   "cell_type": "markdown",
   "metadata": {},
   "source": [
    "So it's initial guess from AS64 fails us."
   ]
  },
  {
   "cell_type": "code",
   "execution_count": null,
   "metadata": {
    "collapsed": false
   },
   "outputs": [],
   "source": [
    "nIter =\n",
    "  [ ((a-d,b-d),(a+d,b+d), fromIntegral (maximum iters) :: Double)\n",
    "  | i <- [0 .. n-1]\n",
    "  , j <- [0 .. n-1]\n",
    "  , let a = d + fromIntegral i / n'\n",
    "        b = d + fromIntegral j / n'\n",
    "        -- Calculate number of iterations\n",
    "        iters = map (fst . invIncompleteBeta' a b) $ linspace (0,0.5) 100\n",
    "  ]\n",
    "  where\n",
    "    n  = 4 :: Int\n",
    "    n' = fromIntegral n :: Double\n",
    "    d  = 1 / (2 * n')\n",
    "    \n",
    "    \n",
    "toRenderable $ \n",
    "  layout_plots .~ \n",
    "    [ toPlot $ heat_map_values .~ nIter\n",
    "             $ def\n",
    "             ]\n",
    "  $ def"
   ]
  },
  {
   "cell_type": "code",
   "execution_count": null,
   "metadata": {
    "collapsed": true
   },
   "outputs": [],
   "source": []
  }
 ],
 "metadata": {
  "kernelspec": {
   "display_name": "Haskell",
   "language": "haskell",
   "name": "haskell"
  },
  "language_info": {
   "codemirror_mode": "ihaskell",
   "file_extension": ".hs",
   "name": "haskell",
   "version": "7.10.3"
  }
 },
 "nbformat": 4,
 "nbformat_minor": 0
}
