{
 "cells": [
  {
   "cell_type": "markdown",
   "metadata": {},
   "source": [
    "# Mandatory imports and utils"
   ]
  },
  {
   "cell_type": "code",
   "execution_count": null,
   "metadata": {
    "collapsed": false
   },
   "outputs": [],
   "source": [
    "{-# LANGUAGE BangPatterns, ScopedTypeVariables #-}\n",
    "import Control.Monad\n",
    "import Control.Monad.Primitive\n",
    "import Control.Parallel.Strategies\n",
    "\n",
    "import qualified Data.Vector.Unboxed as U\n",
    "\n",
    "import Numeric.SpecFunctions\n",
    "import Numeric.MathFunctions.Constants\n",
    "import Numeric.MathFunctions.Comparison\n",
    "import Numeric.Polynomial.Chebyshev\n",
    "\n",
    "import Text.Printf(printf)\n",
    "\n",
    "import IHaskell.Display\n",
    "import Graphics.Rendering.Chart.Backend.Cairo\n",
    "import Graphics.Rendering.Chart.Easy hiding (within)\n",
    "\n",
    "import Debug.Trace\n",
    "\n",
    ":l NB/Plot\n",
    ":l NB/Heatmap\n",
    "\n",
    "greyColormap 0.2"
   ]
  },
  {
   "cell_type": "markdown",
   "metadata": {},
   "source": [
    "# Incomplete beta\n",
    "\n",
    "Quick reminder about beta function and (regularized) incomplete beta functions:\n",
    "\n",
    "Beta function:\n",
    "$$B(a,b) = \\int_0^1 t^{a-1}(1 - t)^{b-1} \\,dt $$\n",
    "\n",
    "Incomplete beta:\n",
    "$$B(x; a,b) = \\int_0^x t^{a-1}(1 - t)^{b-1} \\,dt \\qquad x \\in [0,1]$$\n",
    "\n",
    "Regularized incomplete beta (from now it'll be referred to simply as incomplete beta)\n",
    "$$I(x; a,b) = \\frac{B(x; a,b)}{B(a,b)}$$\n"
   ]
  },
  {
   "cell_type": "markdown",
   "metadata": {},
   "source": [
    "## Debugging of [math-functions#35](https://github.com/bos/math-functions/issues/35)\n",
    "\n",
    "Originally uncovered when plotting roundtrip error of `cumulative . quantile` for beta distribution in log scale."
   ]
  },
  {
   "cell_type": "code",
   "execution_count": null,
   "metadata": {
    "collapsed": false
   },
   "outputs": [],
   "source": [
    "let fun x = let p  = invIncompleteBeta 7 0.07 x\n",
    "                x' = incompleteBeta    7 0.07 p\n",
    "            in x'\n",
    "toRenderable\n",
    "  $ plotFunctionsLog [\\x -> logBase 10 $ relativeError (fun x) x] (1e-10, 1)"
   ]
  },
  {
   "cell_type": "markdown",
   "metadata": {},
   "source": [
    "Oh! It's looks bad let plot how does incomplete beta looks like."
   ]
  },
  {
   "cell_type": "code",
   "execution_count": null,
   "metadata": {
    "collapsed": false
   },
   "outputs": [],
   "source": [
    "-- Bird's eye view\n",
    "toRenderable\n",
    "  $ plotFunctions [invIncompleteBeta 7 0.07] (1e-7,1e-6)\n",
    "-- Closeup\n",
    "toRenderable\n",
    "  $ plotFunctions [invIncompleteBeta 7 0.07] (2.8e-7,3e-7)"
   ]
  },
  {
   "cell_type": "markdown",
   "metadata": {
    "collapsed": true
   },
   "source": [
    "It's strange dip in smooth and _monotonic_ function! After adding couple of `traceShow`'s to incompleteBeta implementation it becomes clear that problem is lack of convergence. Initial guess is bad and 10 iterations is not enough. So we need to modify `invIncompleteBeta` for easy of debugging. We add  pluggable oracle for initial guess and return number of iterations together with result"
   ]
  },
  {
   "cell_type": "code",
   "execution_count": null,
   "metadata": {
    "collapsed": false
   },
   "outputs": [],
   "source": [
    "-- | Data type to describe approximation used. See \n",
    "data Guess\n",
    "  = AS109\n",
    "  | AS64_2\n",
    "  | NR1\n",
    "  | NR2\n",
    "  deriving (Show,Eq)\n",
    "\n",
    "data Res = Res\n",
    "  { result :: !Double\n",
    "  , nIter  :: !Int\n",
    "  , iters  :: [Double]\n",
    "  }\n",
    "  deriving Show \n",
    "\n",
    "-- | Compute inverse of regularized incomplete beta function. Uses\n",
    "-- initial approximation from AS109, AS64 and Halley method to solve\n",
    "-- equation.\n",
    "invIncompleteBeta' \n",
    "  :: (Double -> Double -> Double -> (Guess,Double))\n",
    "  -> Double     -- ^ /p/ > 0\n",
    "  -> Double     -- ^ /q/ > 0\n",
    "  -> Double     -- ^ /a/ ∈ [0,0.5] !!!\n",
    "  -> Res\n",
    "invIncompleteBeta' oracle p q a\n",
    "  | p <= 0 || q <= 0 =\n",
    "      error $ printf \"invIncompleteBeta p <= 0 || q <= 0.  p=%g q=%g a=%g\" p q a\n",
    "  | a <  0 || a >  1 =\n",
    "      error $ printf \"invIncompleteBeta x must be in [0,1].  p=%g q=%g a=%g\" p q a\n",
    "  | a == 0 || a == 1 = Res a 0 []\n",
    "  | a > 0.5          = error \"not implemented\"\n",
    "  | otherwise        = invIncompleteBetaWorker oracle (logBeta p q) p q  a\n",
    "\n",
    "\n",
    "invIncompleteBetaWorker\n",
    "  :: (Double -> Double -> Double -> (Guess,Double))\n",
    "  -> Double -> Double -> Double -> Double -> Res\n",
    "-- NOTE: p <= 0.5.\n",
    "invIncompleteBetaWorker oracle beta a b p = loop (0::Int) [] (snd $ oracle a b p)\n",
    "  where\n",
    "    a1 = a - 1\n",
    "    b1 = b - 1\n",
    "    -- Solve equation using Halley method\n",
    "    done i xs x = Res { result = x \n",
    "                      , nIter  = i\n",
    "                      , iters  = reverse $ x : xs\n",
    "                      }\n",
    "    loop !i !xs !x\n",
    "      | trace (\"==== \" ++ show i)\n",
    "        $ traceShow (ulpDistance y p, y, p, y')\n",
    "        $ traceShow (x, x')\n",
    "        $ False = undefined\n",
    "      -- We cannot continue at this point so we simply return `x'\n",
    "      | x == 0 || x == 1             = done i xs x\n",
    "      -- When derivative becomes infinite we cannot continue\n",
    "      -- iterations. It can only happen in vicinity of 0 or 1. It's\n",
    "      -- hardly possible to get good answer in such circumstances but\n",
    "      -- `x' is already reasonable.\n",
    "      | isInfinite f'                = done i xs x\n",
    "      -- Iterations limit reached. Most of the time solution will\n",
    "      -- converge to answer because of discreteness of Double. But\n",
    "      -- solution have good precision already.\n",
    "      | i >= 100                     = done i xs x\n",
    "      -- Solution converges      \n",
    "      | abs dx <= 16 * m_epsilon * x = done i xs x'\n",
    "      -- OK we bumped into finite precision of floating point and \n",
    "      | within 2 y y' = done i xs x'\n",
    "      | otherwise                    = loop (i+1) (x:xs) x'\n",
    "      where\n",
    "        y  = incompleteBeta_ beta a b x\n",
    "        y' = incompleteBeta_ beta a b x'\n",
    "        -- Calculate Halley step.\n",
    "        f     = incompleteBeta_ beta a b x  - p\n",
    "        f'  = exp $ a1 * log x + b1 * log1p (-x) - beta\n",
    "        u   = f / f'\n",
    "        dx  = u / (1 - 0.5 * min 1 (u * (a1 / x - b1 / (1 - x))))\n",
    "        -- Next approximation. If Halley step leads us out of [0,1]\n",
    "        -- range we revert to bisection.\n",
    "        x'  | z < 0     = x / 2\n",
    "            | z > 1     = (x + 1) / 2\n",
    "            | otherwise = z\n",
    "            where z = x - dx\n",
    "            \n",
    "-- Calculate initial guess. Approximations from AS64, AS109 and\n",
    "-- Numerical recipes are used.\n",
    "--\n",
    "-- Equations are referred to by name of paper and number e.g. [AS64 2]\n",
    "-- In AS64 papers equations are not numbered so they are refered\n",
    "-- to by number of appearance starting from definition of\n",
    "-- incomplete beta.\n",
    "guessIIBeta :: Double -> Double -> Double -> (Guess,Double)\n",
    "guessIIBeta a b p\n",
    "      -- In this region we use approximation from AS109 (Carter\n",
    "      -- approximation). It's reasonably good (2 iterations on\n",
    "      -- average)\n",
    "      | a > 1 && b > 1 =\n",
    "          let r = (y*y - 3) / 6\n",
    "              s = 1 / (2*a - 1)\n",
    "              t = 1 / (2*b - 1)\n",
    "              h = 2 / (s + t)\n",
    "              w = y * sqrt(h + r) / h - (t - s) * (r + 5/6 - 2 / (3 * h))\n",
    "          in (AS109, a / (a + b * exp(2 * w)))\n",
    "      -- Otherwise we revert to approximation from AS64 derived from\n",
    "      -- [AS64 2] when it's applicable.\n",
    "      --\n",
    "      -- It slightly reduces average number of iterations when `a' and\n",
    "      -- `b' have different magnitudes.\n",
    "      | chi2 > 0 && ratio > 1 = (AS64_2, 1 - 2 / (ratio + 1))\n",
    "      -- If all else fails we use approximation from \"Numerical\n",
    "      -- Recipes\". It's very similar to approximations [AS64 4,5] but\n",
    "      -- it never goes out of [0,1] interval.\n",
    "      | otherwise = case () of\n",
    "          _| p < t / w  -> (NR1, (a * p * w) ** (1/a))\n",
    "           | otherwise  -> (NR2, 1 - (b * (1 - p) * w) ** (1/b))\n",
    "           where\n",
    "             lna = log $ a / (a+b)\n",
    "             lnb = log $ b / (a+b)\n",
    "             t   = exp( a * lna ) / a\n",
    "             u   = exp( b * lnb ) / b\n",
    "             w   = t + u\n",
    "      where\n",
    "        -- Formula [2]\n",
    "        ratio = (4*a + 2*b - 2) / chi2\n",
    "        -- Quantile of chi-squared distribution. Formula [3].\n",
    "        chi2 = 2 * b * (1 - t + y * sqrt t) ** 3\n",
    "          where\n",
    "            t   = 1 / (9 * b)\n",
    "        -- `y' is Hasting's approximation of p'th quantile of standard\n",
    "        -- normal distribution.\n",
    "        y   = r - ( 2.30753 + 0.27061 * r )\n",
    "                  / ( 1.0 + ( 0.99229 + 0.04481 * r ) * r )\n",
    "          where\n",
    "            r = sqrt $ - 2 * log p\n",
    "\n",
    "incompleteBetaDeriv :: Double -> Double -> Double -> Double\n",
    "incompleteBetaDeriv a b p\n",
    "  = p**(a-1) * (1-p)**(b-1)\n",
    "\n",
    "--invIncompleteBeta' guessIIBeta 7 0.07 2.8e-7\n",
    "--invIncompleteBeta' guessIIBeta 7 0.07 2.88e-7"
   ]
  },
  {
   "cell_type": "markdown",
   "metadata": {},
   "source": [
    "# Checking convergence\n",
    "\n",
    "Pretty bad. Let plot number of iterations:"
   ]
  },
  {
   "cell_type": "code",
   "execution_count": null,
   "metadata": {
    "collapsed": false
   },
   "outputs": [],
   "source": [
    "toRenderable\n",
    "  $ plotFunctions [fromIntegral . nIter . invIncompleteBeta' guessIIBeta 7 0.07\n",
    "                  , const 10] (1e-7,1e-6)"
   ]
  },
  {
   "cell_type": "markdown",
   "metadata": {},
   "source": [
    "That's pretty bad. Initial guess is very very poor."
   ]
  },
  {
   "cell_type": "markdown",
   "metadata": {},
   "source": [
    "So it's initial guess from AS64 fails us."
   ]
  },
  {
   "cell_type": "code",
   "execution_count": null,
   "metadata": {
    "collapsed": false
   },
   "outputs": [],
   "source": [
    "nIterations =\n",
    "  [ ((a-d,b-d),(a+d,b+d), fromIntegral (maximum iters) :: Double)\n",
    "  | i <- [0 .. n-1]\n",
    "  , j <- [0 .. n-1]\n",
    "  , let a = d + fromIntegral i / n'\n",
    "        b = d + fromIntegral j / n'\n",
    "        -- Calculate number of iterations\n",
    "        iters = parMap rpar (nIter . invIncompleteBeta' guessIIBeta a b) $ linspace (0,0.5) 100\n",
    "  ]\n",
    "  where\n",
    "    n  = 20 :: Int\n",
    "    n' = fromIntegral n :: Double\n",
    "    d  = 1 / (2 * n')\n",
    "    \n",
    "toRenderable $ \n",
    "  layout_plots .~ \n",
    "    [ toPlot $ heat_map_values .~ nIterations\n",
    "             $ heat_map_color_map .~ blackbodyColormap\n",
    "             $ def\n",
    "             ]\n",
    "  $ def\n",
    "\n",
    "maximum [z | (_,_,z) <- nIterations]"
   ]
  },
  {
   "cell_type": "code",
   "execution_count": null,
   "metadata": {
    "collapsed": false
   },
   "outputs": [],
   "source": [
    "toRenderable\n",
    "  $ plotFunctionsLog [logBase 10 . fromIntegral . nIter . invIncompleteBeta' guessIIBeta 0.5 0.5\n",
    "                     , const (logBase 10 10)\n",
    "                     ] (1e-10, 0.1)"
   ]
  },
  {
   "cell_type": "code",
   "execution_count": null,
   "metadata": {
    "collapsed": false
   },
   "outputs": [],
   "source": [
    "{-\n",
    "let a = 0.5\n",
    "    b = 0.5\n",
    " in toRenderable\n",
    "  $ plotFunctionsLog\n",
    "      [logBase 10 . fromIntegral . fst . invIncompleteBeta' guessIIBeta a b\n",
    "      , const (logBase 10 10)\n",
    "      ] (1e-10, 0.1)\n",
    "-}\n",
    "a = 0.5\n",
    "b = 0.5\n",
    "\n",
    "toRenderable\n",
    "  $ plotFunctionsLog [ logBase 10 . fromIntegral . nIter . invIncompleteBeta' guessIIBeta a b\n",
    "                     , const (logBase 10 10)\n",
    "                     ] (1e-10, 0.45)\n",
    "\n",
    "toRenderable\n",
    "  $ plotFunctionsLog\n",
    "      [ logBase 10 . result . invIncompleteBeta' guessIIBeta a b\n",
    "      , logBase 10 . snd . guessIIBeta a b\n",
    "      ] (1e-10, 0.45)\n",
    "      \n",
    "toRenderable\n",
    "  $ plotFunctionsLog\n",
    "      [ \\p -> id $ snd (guessIIBeta a b p)\n",
    "                         / result (invIncompleteBeta' guessIIBeta a b p)\n",
    "      ] (1e-10, 0.45)"
   ]
  },
  {
   "cell_type": "markdown",
   "metadata": {},
   "source": [
    "It looks like algorithm never converges in sense iterations never stop but it still give reasonable answer. We ned to investigae this"
   ]
  },
  {
   "cell_type": "code",
   "execution_count": null,
   "metadata": {
    "collapsed": true
   },
   "outputs": [],
   "source": []
  },
  {
   "cell_type": "code",
   "execution_count": null,
   "metadata": {
    "collapsed": false,
    "scrolled": false
   },
   "outputs": [],
   "source": [
    "(p,r) = head $ filter ((>90) . nIter. snd) \n",
    " [ (p, invIncompleteBeta' guessIIBeta 0.5 0.5 p)\n",
    " | p <- logspace (1e-6,0.45) 1000\n",
    " ]\n",
    "putStrLn $ \"N_iter = \" ++ show (nIter r) \n",
    "mapM_ print $ take 10 $ [0..] `zip` iters r\n",
    "\n",
    "\n",
    "x1 = iters r !! 4\n",
    "x2 = iters r !! 5\n",
    "putStrLn $ \"p  = \" ++ show p\n",
    "putStrLn $ \"x1 = \" ++ show x1\n",
    "putStrLn $ \"x2 = \" ++ show x2\n",
    "putStrLn $ \"dx = \" ++ show (ulpDistance x1 x2)\n",
    "putStrLn $ \"dp = \" ++ show (ulpDistance (incompleteBeta 0.5 0.5 x1) (incompleteBeta 0.5 0.5  x2))\n",
    "\n",
    "pts = [ (fromIntegral i,incompleteBeta 0.5 0.5 (addUlps (fromIntegral i) (min x1 x2)))\n",
    "      | i <- [0 .. ulpDistance x1 x2]]\n",
    "\n",
    "toRenderable\n",
    "  $ layout_plots .~ \n",
    "      [ toPlot $ plot_lines_values .~ [pts] $ def]\n",
    "  $ def"
   ]
  },
  {
   "cell_type": "code",
   "execution_count": null,
   "metadata": {
    "collapsed": false
   },
   "outputs": [],
   "source": [
    "toRenderable\n",
    "  $ plotFunctions\n",
    "      [ incompleteBeta 0.5 0.5\n",
    "      ] (0.5e-10, 2e-10)\n",
    "toRenderable\n",
    "  $ plotFunctions\n",
    "      [ incompleteBetaDeriv 0.5 0.5\n",
    "      ] (0.5e-10, 2e-10)"
   ]
  },
  {
   "cell_type": "markdown",
   "metadata": {},
   "source": [
    "Derivative?"
   ]
  },
  {
   "cell_type": "code",
   "execution_count": null,
   "metadata": {
    "collapsed": false
   },
   "outputs": [],
   "source": [
    "pts = [ ( fromIntegral i :: Double\n",
    "        , fromIntegral (ulpDistance y0 $ incompleteBeta 0.5 0.5 (addUlps (fromIntegral i) x0)) :: Double\n",
    "        )\n",
    "      | i <- [0 .. 200]]\n",
    "  where\n",
    "    x0 = 1e-10\n",
    "    y0 = incompleteBeta 0.5 0.5 x0\n",
    "\n",
    "toRenderable\n",
    "  $ layout_plots .~ \n",
    "      [ toPlot $ plot_lines_values .~ [pts] $ def]\n",
    "  $ def \n"
   ]
  },
  {
   "cell_type": "code",
   "execution_count": null,
   "metadata": {
    "collapsed": true
   },
   "outputs": [],
   "source": []
  }
 ],
 "metadata": {
  "kernelspec": {
   "display_name": "Haskell",
   "language": "haskell",
   "name": "haskell"
  },
  "language_info": {
   "codemirror_mode": "ihaskell",
   "file_extension": ".hs",
   "name": "haskell",
   "version": "7.10.3"
  }
 },
 "nbformat": 4,
 "nbformat_minor": 0
}
