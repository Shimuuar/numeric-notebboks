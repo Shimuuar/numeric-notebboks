{
 "cells": [
  {
   "cell_type": "code",
   "execution_count": null,
   "metadata": {
    "collapsed": false
   },
   "outputs": [],
   "source": [
    "{-# LANGUAGE BangPatterns, ScopedTypeVariables #-}\n",
    "import Control.Monad\n",
    "import Control.Monad.Primitive\n",
    "import qualified Data.Vector.Unboxed as U\n",
    "\n",
    "import Numeric.SpecFunctions\n",
    "import Numeric.MathFunctions.Constants\n",
    "import Numeric.MathFunctions.Comparison\n",
    "import Numeric.Polynomial\n",
    "\n",
    "import Text.Printf(printf)\n",
    "\n",
    "import IHaskell.Display\n",
    "import Graphics.Rendering.Chart.Backend.Cairo\n",
    "import Graphics.Rendering.Chart.Easy hiding (within)\n",
    "\n",
    "import Debug.Trace\n",
    "\n",
    ":l NB/Plot"
   ]
  },
  {
   "cell_type": "code",
   "execution_count": null,
   "metadata": {
    "collapsed": false
   },
   "outputs": [],
   "source": [
    "logGammaLL :: Double -> Double\n",
    "logGammaLL x\n",
    "    | x <= 0    = m_pos_inf\n",
    "    | x <  1    = lanczos (1+x) - log x\n",
    "    \n",
    "    | x >= 1 && x < 2 =  lanczos (1+x) - log x\n",
    "    | otherwise = lanczos x\n",
    "    where\n",
    "      -- Evaluate Lanczos approximation for γ=6\n",
    "      lanczos z = fini \n",
    "                $ U.foldl' go (L 0 (z+7)) a\n",
    "        where\n",
    "          fini (L l _)   = log (l+a0) + log m_sqrt_2_pi - z65 + (z-0.5) * log z65\n",
    "          go   (L l t) k = L (l + k / t) (t-1)\n",
    "          z65 = z + 6.5\n",
    "      a0  = 0.9999999999995183\n",
    "      a   = U.fromList [ 0.1659470187408462e-06\n",
    "                       , 0.9934937113930748e-05\n",
    "                       , -0.1385710331296526\n",
    "                       , 12.50734324009056\n",
    "                       , -176.6150291498386\n",
    "                       , 771.3234287757674\n",
    "                       , -1259.139216722289\n",
    "                       , 676.5203681218835\n",
    "                       ]\n",
    "data L = L {-# UNPACK #-} !Double {-# UNPACK #-} !Double\n",
    "\n",
    "logGamma15 :: Double -> Double\n",
    "logGamma15 z\n",
    "  = prefix * y + prefix * r\n",
    "  where\n",
    "    y = 0.52815341949462890625\n",
    "    r = evaluateEvenPolynomialL zm1 coefP\n",
    "      / evaluateEvenPolynomialL zm1 coefQ\n",
    "    zm1    = z - 1\n",
    "    zm2    = z - 2\n",
    "    prefix = zm1 * zm2\n",
    "    coefP = [  0.490622454069039543534e-1\n",
    "         , -0.969117530159521214579e-1\n",
    "         , -0.414983358359495381969e0\n",
    "         , -0.406567124211938417342e0\n",
    "         , -0.158413586390692192217e0\n",
    "         , -0.240149820648571559892e-1\n",
    "           , -0.100346687696279557415e-2\n",
    "         ]\n",
    "    coefQ = [ 0.1e1\n",
    "            , 0.302349829846463038743e1\n",
    "            , 0.348739585360723852576e1\n",
    "            , 0.191415588274426679201e1\n",
    "            , 0.507137738614363510846e0\n",
    "            , 0.577039722690451849648e-1\n",
    "            , 0.195768102601107189171e-2 ]\n",
    "\n",
    "logGamma20 :: Double -> Double\n",
    "logGamma20 z \n",
    "  = prefix * y + prefix * r\n",
    "  where\n",
    "    prefix = zm1 * zm2\n",
    "    y   = 0.452017307281494140625\n",
    "    r   = evaluateEvenPolynomialL (-zm2) coefP\n",
    "        / evaluateEvenPolynomialL (-zm2) coefQ\n",
    "    zm1 = z - 1\n",
    "    zm2 = z - 2\n",
    "    coefP = [ -0.292329721830270012337e-1\n",
    "            , 0.144216267757192309184e0\n",
    "            ,-0.142440390738631274135e0\n",
    "            , 0.542809694055053558157e-1\n",
    "            , -0.850535976868336437746e-2\n",
    "            ,0.431171342679297331241e-3]\n",
    "    coefQ = [ 0.1e1\n",
    "            , -0.150169356054485044494e1\n",
    "            , 0.846973248876495016101e0\n",
    "            , -0.220095151814995745555e0\n",
    "            , 0.25582797155975869989e-1\n",
    "            , -0.100666795539143372762e-2\n",
    "            , -0.827193521891290553639e-6]\n",
    "\n",
    "\n",
    "logGamma15 1.2\n",
    "logGammaL  1.2"
   ]
  },
  {
   "cell_type": "code",
   "execution_count": null,
   "metadata": {
    "collapsed": false
   },
   "outputs": [],
   "source": [
    "toRenderable $\n",
    "  plotFunctions [logGammaL,logGamma15,logGamma20] (1, 2)\n",
    "toRenderable $\n",
    "  plotFunctions [\\x -> logGamma15 x / logGammaL x\n",
    "                , \\x -> logGamma20 x / logGammaL x\n",
    "                ] (1+1e-6, 2-1e-6)"
   ]
  },
  {
   "cell_type": "markdown",
   "metadata": {},
   "source": [
    "# Gamma function"
   ]
  },
  {
   "cell_type": "code",
   "execution_count": null,
   "metadata": {
    "collapsed": false
   },
   "outputs": [],
   "source": [
    "xs <- readFile \"data/gamma-17+5.dat\"\n",
    "let vals = map ((\\[x,y] -> (read x :: Double, read y :: Double)) . words) $ lines xs\n",
    "\n",
    "toRenderable $\n",
    "  let pts = [ (logBase 10 x, d)\n",
    "            | (x,y) <- vals\n",
    "            , let d = logBase 10 $ relativeError y (logGamma x)\n",
    "            , not (isNaN d || isInfinite d)\n",
    "            ]\n",
    "  in layout_plots .~ [toPlot $ plot_lines_values .~ [pts] $ def\n",
    "       , toPlot $ plot_lines_values .~ [[(logBase 10 x,logBase 10 (m_epsilon/2)) | (x,_) <- vals]]\n",
    "           $ plot_lines_style .~ (line_color .~ opaque red $ def) $ def\n",
    "  ]\n",
    "    $ layout_title .~ \"Gamma function precision: AS249\"\n",
    "    $ def\n",
    "\n",
    "toRenderable $\n",
    "  let pts = [ (logBase 10 x, d)\n",
    "            | (x,y) <- vals\n",
    "            , let d = logBase 10 $ relativeError y (logGammaL x)\n",
    "            , not (isNaN d || isInfinite d)\n",
    "            ]\n",
    "  in layout_plots .~ [toPlot $ plot_lines_values .~ [pts] $ def\n",
    "       , toPlot $ plot_lines_values .~ [[(logBase 10 x,logBase 10 (m_epsilon/2)) | (x,_) <- vals]]\n",
    "           $ plot_lines_style .~ (line_color .~ opaque red $ def) $ def\n",
    "           ]\n",
    "      $ layout_title .~ \"Gamma function precision: Lanczos\"\n",
    "    $ def\n",
    "\n",
    "toRenderable $\n",
    "  let pts = [ (logBase 10 x, d)\n",
    "            | (x,y) <- vals\n",
    "            , let d = logBase 10 $ relativeError y (logGammaLL x)\n",
    "            , not (isNaN d || isInfinite d)\n",
    "            ]\n",
    "  in layout_plots .~ \n",
    "       [toPlot $ plot_lines_values .~ [pts] $ def\n",
    "       , toPlot $ plot_lines_values .~ [[(logBase 10 x,logBase 10 (m_epsilon/2)) | (x,_) <- vals]]\n",
    "           $ plot_lines_style .~ (line_color .~ opaque red $ def) $ def\n",
    "--       , toPlot $ plot_lines_values .~ [[(logBase 10 1,-16),(logBase 10 1, -12)]]\n",
    "--           $ plot_lines_style .~ (line_color .~ opaque red $ def) $ def\n",
    "--       , toPlot $ plot_lines_values .~ [[(logBase 10 2,-16),(logBase 10 2, -12)]]\n",
    "--           $ plot_lines_style .~ (line_color .~ opaque red $ def) $ def\n",
    "       ]\n",
    "    $ layout_title .~ \"Gamma function precision: Lanczos\"\n",
    "    $ def"
   ]
  },
  {
   "cell_type": "markdown",
   "metadata": {
    "collapsed": true
   },
   "source": [
    "# Lanczos approximation"
   ]
  },
  {
   "cell_type": "code",
   "execution_count": null,
   "metadata": {
    "collapsed": false
   },
   "outputs": [],
   "source": [
    "cheb 0 α = case α of\n",
    "  0 -> 1\n",
    "  _ -> 0\n",
    "cheb 1 α = case α of\n",
    "  1 -> 1\n",
    "  _ -> 0\n",
    "cheb k α = 2 * cheb (k - 1) (α - 1) - cheb (k - 2) α\n",
    "  \n",
    "coef_Fα α γ = sqrt 2 / pi *  exp (logGammaL (α + 0.5)) *  (α+γ+0.5)**(-(α+0.5)) * exp (α+γ+0.5)\n",
    "ρ γ k = sum [cheb (2*k) (2*α) * coef_Fα (fromIntegral α) γ | α<- [0..k] ]"
   ]
  },
  {
   "cell_type": "code",
   "execution_count": null,
   "metadata": {
    "collapsed": false
   },
   "outputs": [],
   "source": [
    "mapM_ (print . ρ 1) [0 .. 5]"
   ]
  },
  {
   "cell_type": "code",
   "execution_count": null,
   "metadata": {
    "collapsed": false
   },
   "outputs": [],
   "source": [
    "mapM_ (print . ρ 1.5) [0 .. 5]"
   ]
  },
  {
   "cell_type": "code",
   "execution_count": null,
   "metadata": {
    "collapsed": false
   },
   "outputs": [],
   "source": [
    "mapM_ (print . ρ 1.5) [0 .. 5]"
   ]
  },
  {
   "cell_type": "code",
   "execution_count": null,
   "metadata": {
    "collapsed": false
   },
   "outputs": [],
   "source": [
    "relativeError 23.0258509298827352372657886135174 (logGammaL 0.000000000100000000000000003643219731549774)"
   ]
  },
  {
   "cell_type": "code",
   "execution_count": null,
   "metadata": {
    "collapsed": false
   },
   "outputs": [],
   "source": [
    "logGammaL 1\n",
    "logGammaL 2\n",
    "logGammaL 100"
   ]
  },
  {
   "cell_type": "code",
   "execution_count": null,
   "metadata": {
    "collapsed": true
   },
   "outputs": [],
   "source": []
  }
 ],
 "metadata": {
  "kernelspec": {
   "display_name": "Haskell",
   "language": "haskell",
   "name": "haskell"
  },
  "language_info": {
   "codemirror_mode": "ihaskell",
   "file_extension": ".hs",
   "name": "haskell",
   "version": "7.10.3"
  }
 },
 "nbformat": 4,
 "nbformat_minor": 0
}
