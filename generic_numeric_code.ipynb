{
 "cells": [
  {
   "cell_type": "code",
   "execution_count": null,
   "metadata": {},
   "outputs": [],
   "source": [
    "{-# LANGUAGE BangPatterns, ScopedTypeVariables #-}\n",
    "import Control.Monad\n",
    "\n",
    "import Numeric.SpecFunctions\n",
    "import Numeric.MathFunctions.Constants\n",
    "import Numeric.MathFunctions.Comparison\n",
    "import Numeric.Polynomial\n",
    "\n",
    "import IHaskell.Display\n",
    "import Graphics.Rendering.Chart.Backend.Cairo\n",
    "import Graphics.Rendering.Chart.Easy hiding (within)\n",
    "\n",
    "import Debug.Trace\n",
    "\n",
    ":l NB/Plot"
   ]
  },
  {
   "cell_type": "code",
   "execution_count": null,
   "metadata": {},
   "outputs": [],
   "source": [
    "toRenderable $\n",
    "  let f x = (-(log x)) ** (-0.25)\n",
    "      g x = exp (-(1 / x^4))\n",
    "  in plotFunctions [ f . g, id ] (5000,11000)"
   ]
  },
  {
   "cell_type": "code",
   "execution_count": null,
   "metadata": {},
   "outputs": [],
   "source": []
  }
 ],
 "metadata": {
  "kernelspec": {
   "display_name": "Haskell",
   "language": "haskell",
   "name": "haskell"
  },
  "language_info": {
   "codemirror_mode": "ihaskell",
   "file_extension": ".hs",
   "name": "haskell",
   "version": "7.10.3"
  }
 },
 "nbformat": 4,
 "nbformat_minor": 0
}
