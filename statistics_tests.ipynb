{
 "cells": [
  {
   "cell_type": "markdown",
   "metadata": {},
   "source": [
    "# Improving tests for statistics"
   ]
  },
  {
   "cell_type": "code",
   "execution_count": null,
   "metadata": {
    "collapsed": false
   },
   "outputs": [],
   "source": [
    "{-# LANGUAGE ScopedTypeVariables #-}\n",
    "{-# LANGUAGE FlexibleContexts #-}\n",
    "{-# LANGUAGE RankNTypes #-}\n",
    "import Control.Monad\n",
    "import Control.Monad.Primitive\n",
    "\n",
    "import qualified Data.Vector.Generic as G\n",
    "import qualified Data.Vector.Unboxed as U\n",
    "\n",
    "import Numeric.SpecFunctions\n",
    "import Numeric.MathFunctions.Constants (m_epsilon)\n",
    "import Numeric.MathFunctions.Comparison\n",
    "\n",
    "import Statistics.Distribution\n",
    "import Statistics.Distribution.Beta\n",
    "import Statistics.Distribution.ChiSquared\n",
    "import Statistics.Distribution.Gamma\n",
    "import Statistics.Distribution.StudentT\n",
    "import Statistics.Distribution.FDistribution\n",
    "\n",
    "import IHaskell.Display\n",
    "import Graphics.Rendering.Chart.Backend.Cairo\n",
    "import Graphics.Rendering.Chart.Easy\n",
    "\n",
    ":l NB/Plot"
   ]
  },
  {
   "cell_type": "code",
   "execution_count": null,
   "metadata": {
    "collapsed": false
   },
   "outputs": [],
   "source": [
    "roudtripQCDF :: ContDistr d => d -> Double -> Double\n",
    "roudtripQCDF d p\n",
    "  = p'\n",
    "  where\n",
    "    x  = quantile   d p\n",
    "    p' = cumulative d x\n",
    "\n",
    "roundtripError :: ContDistr d => d -> Double -> Double\n",
    "roundtripError d p\n",
    "  = m_epsilon + abs ((x / p) * density d x * m_epsilon)\n",
    "  where\n",
    "    x = quantile d p"
   ]
  },
  {
   "cell_type": "code",
   "execution_count": null,
   "metadata": {
    "collapsed": false
   },
   "outputs": [],
   "source": [
    "plotErrorEstimate d\n",
    "  = toRenderable\n",
    "  $ layout_title .~ \"Error estimate\"\n",
    "  $ plotFunctions [ \\p -> logBase 10 $ relativeError p (roudtripQCDF d p)\n",
    "                  , logBase 10 . roundtripError d\n",
    "                  ] (0,1)\n",
    "\n",
    "plotErrorEstimateLog d\n",
    "  = toRenderable\n",
    "  $ layout_title .~ \"Error estimate\"\n",
    "  $ plotFunctionsLog [ \\p -> logBase 10 $ relativeError p (roudtripQCDF d p)\n",
    "                     , logBase 10 . roundtripError d\n",
    "                     ] (1e-10,1)"
   ]
  },
  {
   "cell_type": "markdown",
   "metadata": {},
   "source": [
    "Functions for roundtrip `cumulative . quantile` and estimating error."
   ]
  },
  {
   "cell_type": "markdown",
   "metadata": {},
   "source": [
    "# Investigate beta distribution"
   ]
  },
  {
   "cell_type": "code",
   "execution_count": null,
   "metadata": {
    "collapsed": false
   },
   "outputs": [],
   "source": [
    "-- See math-functions#35\n",
    "badBeta = betaDistr 7 7e-2\n",
    "\n",
    "-- See math-functions#36\n",
    "-- badBeta = betaDistr 4.5 4.5\n",
    "\n",
    "-- Simply poor precision\n",
    "-- badBeta = betaDistr 0.1711087256012734 5.608055284855086\n",
    "\n",
    "toRenderable\n",
    "  $ plotFunctions [density badBeta] (0,1)\n",
    "plotErrorEstimate    badBeta\n",
    "plotErrorEstimateLog badBeta"
   ]
  },
  {
   "cell_type": "markdown",
   "metadata": {},
   "source": [
    "# Chi squared"
   ]
  },
  {
   "cell_type": "code",
   "execution_count": null,
   "metadata": {
    "collapsed": false
   },
   "outputs": [],
   "source": [
    "-- Overall bad precision (even shape is wrong)\n",
    "badChi = chiSquared 60\n",
    "\n",
    "toRenderable\n",
    "  $ plotFunctions [density badChi] (0,2*mean badChi)\n",
    "plotErrorEstimate    badChi\n",
    "plotErrorEstimateLog badChi"
   ]
  },
  {
   "cell_type": "markdown",
   "metadata": {},
   "source": [
    "# Gamma distribution"
   ]
  },
  {
   "cell_type": "code",
   "execution_count": null,
   "metadata": {
    "collapsed": false
   },
   "outputs": [],
   "source": [
    "badGamma = gammaDistr 9.671961397067255  9.41872452467439\n",
    "\n",
    "toRenderable\n",
    "  $ plotFunctions [density badGamma] (0,2*mean badGamma)\n",
    "plotErrorEstimate    badGamma\n",
    "plotErrorEstimateLog badGamma"
   ]
  },
  {
   "cell_type": "markdown",
   "metadata": {},
   "source": [
    "# StudentT"
   ]
  },
  {
   "cell_type": "code",
   "execution_count": null,
   "metadata": {
    "collapsed": false
   },
   "outputs": [],
   "source": [
    "-- N.B. horrible loss of precision for NDF=30!\n",
    "badStudentT = studentT 30\n",
    "\n",
    "toRenderable\n",
    "  $ plotFunctions [density badStudentT] (-10,10)\n",
    "plotErrorEstimate    badStudentT\n",
    "plotErrorEstimateLog badStudentT"
   ]
  },
  {
   "cell_type": "markdown",
   "metadata": {},
   "source": [
    "Let ignore horrible peak near 0. Maybe it will go away after issue with bad initial guess for inverse beta will resolve.\n",
    "\n",
    "So why does Student T performs so poorly. Notice peak near `p=0.5`. Let look at the code. `cumulative` doesn't look too bad.\n",
    "\n",
    "```.haskell\n",
    "cumulative :: StudentT -> Double -> Double\n",
    "cumulative (StudentT ndf) x\n",
    "  | x > 0     = 1 - 0.5 * ibeta\n",
    "  | otherwise = 0.5 * ibeta\n",
    "  where\n",
    "    ibeta = incompleteBeta (0.5 * ndf) 0.5 (ndf / (ndf + x*x))\n",
    "```\n",
    "\n",
    "But quantile... Just look at all these `1-p`s!\n",
    "\n",
    "```\n",
    "quantile :: StudentT -> Double -> Double\n",
    "quantile (StudentT ndf) p\n",
    "  | p >= 0 && p <= 1 =\n",
    "    let x = invIncompleteBeta (0.5 * ndf) 0.5 (2 * min p (1 - p))\n",
    "    in case sqrt $ ndf * (1 - x) / x of\n",
    "         r | p < 0.5   -> -r\n",
    "           | otherwise -> r\n",
    "  | otherwise = modErr \"quantile\" $ \"p must be in [0,1] range. Got: \"++show p\n",
    "```\n",
    "\n",
    "Here we try to exploit that `quantile d 0.5 = 0` and lose about 2 significant digints in process."
   ]
  },
  {
   "cell_type": "code",
   "execution_count": null,
   "metadata": {
    "collapsed": true
   },
   "outputs": [],
   "source": []
  }
 ],
 "metadata": {
  "kernelspec": {
   "display_name": "Haskell",
   "language": "haskell",
   "name": "haskell"
  },
  "language_info": {
   "codemirror_mode": "ihaskell",
   "file_extension": ".hs",
   "name": "haskell",
   "version": "7.10.3"
  }
 },
 "nbformat": 4,
 "nbformat_minor": 0
}
