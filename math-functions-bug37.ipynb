{
 "cells": [
  {
   "cell_type": "code",
   "execution_count": null,
   "metadata": {
    "collapsed": false
   },
   "outputs": [],
   "source": [
    "{-# LANGUAGE BangPatterns, ScopedTypeVariables #-}\n",
    "import Control.Monad\n",
    "import Control.Monad.Primitive\n",
    "\n",
    "import Numeric.SpecFunctions\n",
    "import Numeric.MathFunctions.Constants\n",
    "import Numeric.MathFunctions.Comparison\n",
    "\n",
    "import Text.Printf(printf)\n",
    "\n",
    "import IHaskell.Display\n",
    "import Graphics.Rendering.Chart.Backend.Cairo\n",
    "import Graphics.Rendering.Chart.Easy hiding (within)\n",
    "\n",
    "import Debug.Trace\n",
    "\n",
    ":l NB/Plot"
   ]
  },
  {
   "cell_type": "markdown",
   "metadata": {},
   "source": [
    "# Incomplete beta\n",
    "\n",
    "Quick reminder about beta function and (regularized) incomplete beta functions:\n",
    "\n",
    "Beta function:\n",
    "$$B(a,b) = \\int_0^1 t^{a-1}(1 - t)^{b-1} \\,dt $$\n",
    "\n",
    "Incomplete beta:\n",
    "$$B(x; a,b) = \\int_0^x t^{a-1}(1 - t)^{b-1} \\,dt \\qquad x \\in [0,1]$$\n",
    "\n",
    "Regularized incomplete beta (from now it'll be referred to simply as incomplete beta)\n",
    "$$I(x; a,b) = \\frac{B(x; a,b)}{B(a,b)}$$\n"
   ]
  },
  {
   "cell_type": "markdown",
   "metadata": {},
   "source": [
    "# Bug itself\n",
    "\n",
    "Following plot illustrates bug perfectly. It's plot of incomplete beta for veryy small range "
   ]
  },
  {
   "cell_type": "code",
   "execution_count": null,
   "metadata": {
    "collapsed": false
   },
   "outputs": [],
   "source": [
    "toRenderable $\n",
    "  ulpPlot [incompleteBeta 0.5 0.5] 1e-10 200"
   ]
  },
  {
   "cell_type": "markdown",
   "metadata": {},
   "source": [
    "Let copy sourse code here yet again"
   ]
  },
  {
   "cell_type": "code",
   "execution_count": null,
   "metadata": {
    "collapsed": false
   },
   "outputs": [],
   "source": [
    "-- | Regularized incomplete beta function. Uses algorithm AS63 by\n",
    "-- Majumder and Bhattachrjee and quadrature approximation for large\n",
    "-- /p/ and /q/.\n",
    "incompleteBeta' :: Double -- ^ /p/ > 0\n",
    "               -> Double -- ^ /q/ > 0\n",
    "               -> Double -- ^ /x/, must lie in [0,1] range\n",
    "               -> Double\n",
    "incompleteBeta' p q = incompleteBeta_ b p q\n",
    "  where\n",
    "    b = logBeta p q\n",
    "--    b = logGammaL p + logGammaL q - logGammaL (p + q)\n",
    "\n",
    "-- | Regularized incomplete beta function. Same as 'incompleteBeta'\n",
    "-- but also takes logarithm of beta function as parameter.\n",
    "incompleteBeta_ :: Double -- ^ logarithm of beta function for given /p/ and /q/\n",
    "                -> Double -- ^ /p/ > 0\n",
    "                -> Double -- ^ /q/ > 0\n",
    "                -> Double -- ^ /x/, must lie in [0,1] range\n",
    "                -> Double\n",
    "incompleteBeta_ beta p q x\n",
    "  | p <= 0 || q <= 0            =\n",
    "      error $ printf \"incompleteBeta_: p <= 0 || q <= 0. p=%g q=%g x=%g\" p q x\n",
    "  | x <  0 || x >  1 || isNaN x =\n",
    "      error $ printf \"incompletBeta_: x out of [0,1] range. p=%g q=%g x=%g\" p q x\n",
    "  | x == 0 || x == 1            = x\n",
    "  | p >= (p+q) * x   = snd $ incompleteBetaWorker beta p q x\n",
    "  | otherwise        = error \"Missing case\" -- 1 - incompleteBetaWorker beta q p (1 - x)\n",
    "\n",
    "\n",
    "-- Worker for incomplete beta function. It is separate function to\n",
    "-- avoid confusion with parameter during parameter swapping\n",
    "incompleteBetaWorker :: Double -> Double -> Double -> Double -> ([Double],Double)\n",
    "incompleteBetaWorker beta p q x\n",
    "  -- For very large p and q this method becomes very slow so another\n",
    "  -- method is used.\n",
    "  | p > 3000 && q > 3000 = error \"removed\"\n",
    "  | otherwise            = loop (p+q) (truncate $ q + cx * (p+q)) 1 1 1 [1]\n",
    "  where\n",
    "    -- Constants\n",
    "    eps = 2e-16    \n",
    "    cx  = 1 - x\n",
    "    -- Loop\n",
    "    loop !psq (ns :: Int) ai term betain terms\n",
    "--      | traceShow (\"ai+ns\",ai,ns, term, betain) \n",
    "--        $ traceShow (term',betain')\n",
    "--        False = undefined      \n",
    "      | done      =\n",
    "          ( reverse $ term' : terms\n",
    "          , betain' * x ** p * cx ** (q - 1) / p / exp (logBeta p q)\n",
    "          )\n",
    "          -- term' : terms\n",
    "      | otherwise = loop psq' (ns - 1) (ai + 1) term' betain' (term':terms)\n",
    "      where\n",
    "        -- New values\n",
    "        term'   = term * fact / (p + ai)\n",
    "        betain' = betain + term'\n",
    "        fact | ns >  0   = (q - ai) * x/cx\n",
    "             | ns == 0   = (q - ai) * x\n",
    "             | otherwise = psq * x\n",
    "        -- Iterations are complete\n",
    "        done = db <= eps && db <= eps*betain' where db = abs term'\n",
    "        psq' = if ns < 0 then psq + 1 else psq\n",
    "        \n",
    "\n",
    "incompleteBeta' 0.5 0.5 1e-10\n"
   ]
  },
  {
   "cell_type": "code",
   "execution_count": null,
   "metadata": {
    "collapsed": false
   },
   "outputs": [],
   "source": [
    "toRenderable \n",
    "  $ ulpPlot [ incompleteBeta' 0.5 0.5\n",
    "            , incompleteBeta 0.5 0.5 \n",
    "            ] 1e-10 200"
   ]
  },
  {
   "cell_type": "code",
   "execution_count": null,
   "metadata": {
    "collapsed": false
   },
   "outputs": [],
   "source": [
    "toRenderable $ \n",
    "  let p = 0.5\n",
    "      q = 0.5\n",
    "      beta = logBeta p q\n",
    "  in ulpPlot [ \\x -> exp (p * log x + (q - 1) * log1p (-x)) / exp beta\n",
    "             , \\x -> exp (p * log x + (q - 1) * log1p (-x) - beta)\n",
    "             , \\x -> x ** p * (1-x)**(q-1) / exp beta\n",
    "             ] 1e-10 500\n",
    "\n",
    "toRenderable $ \n",
    "  let p = 0.5\n",
    "      q = 0.5\n",
    "      beta = logBeta p q\n",
    "  in ulpPlot [ \\x -> exp (p * log x + (q - 1) * log1p (-x))\n",
    "             , \\x -> x ** p * (1-x)**(q-1)\n",
    "             ] 1e-10 500"
   ]
  },
  {
   "cell_type": "code",
   "execution_count": null,
   "metadata": {
    "collapsed": false
   },
   "outputs": [],
   "source": [
    "toRenderable $ \n",
    "  let p = 0.5\n",
    "      q = 0.5\n",
    "      beta = logBeta p q\n",
    "  in ulpPlot [ \\x -> p * log x\n",
    "             ] 1e-10 200"
   ]
  },
  {
   "cell_type": "markdown",
   "metadata": {},
   "source": [
    "# Compression"
   ]
  },
  {
   "cell_type": "code",
   "execution_count": null,
   "metadata": {
    "collapsed": false
   },
   "outputs": [],
   "source": [
    "toRenderable \n",
    "  $ plotFunctions [\\x ->  min 5 $ abs $ 1 / log x, const 1] (1e-6, 10)"
   ]
  },
  {
   "cell_type": "code",
   "execution_count": null,
   "metadata": {
    "collapsed": false
   },
   "outputs": [],
   "source": [
    "toRenderable \n",
    "  $ plotFunctionsLog [\\x ->  min 5 $ abs $ 1 / log x, const 0] (1e-10, 1e-1)"
   ]
  },
  {
   "cell_type": "code",
   "execution_count": null,
   "metadata": {
    "collapsed": true
   },
   "outputs": [],
   "source": []
  }
 ],
 "metadata": {
  "kernelspec": {
   "display_name": "Haskell",
   "language": "haskell",
   "name": "haskell"
  },
  "language_info": {
   "codemirror_mode": "ihaskell",
   "file_extension": ".hs",
   "name": "haskell",
   "version": "7.10.3"
  }
 },
 "nbformat": 4,
 "nbformat_minor": 0
}
