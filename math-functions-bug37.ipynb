{
 "cells": [
  {
   "cell_type": "code",
   "execution_count": null,
   "metadata": {
    "collapsed": true
   },
   "outputs": [],
   "source": [
    "{-# LANGUAGE BangPatterns, ScopedTypeVariables #-}\n",
    "import Control.Monad\n",
    "import Control.Monad.Primitive\n",
    "\n",
    "import Numeric.SpecFunctions\n",
    "import Numeric.MathFunctions.Constants\n",
    "import Numeric.MathFunctions.Comparison\n",
    "\n",
    "import Text.Printf(printf)\n",
    "\n",
    "import IHaskell.Display\n",
    "import Graphics.Rendering.Chart.Backend.Cairo\n",
    "import Graphics.Rendering.Chart.Easy hiding (within)\n",
    "\n",
    "import Debug.Trace\n",
    "\n",
    ":l NB/Plot"
   ]
  },
  {
   "cell_type": "markdown",
   "metadata": {},
   "source": [
    "# Incomplete beta\n",
    "\n",
    "Quick reminder about beta function and (regularized) incomplete beta functions:\n",
    "\n",
    "Beta function:\n",
    "$$B(a,b) = \\int_0^1 t^{a-1}(1 - t)^{b-1} \\,dt $$\n",
    "\n",
    "Incomplete beta:\n",
    "$$B(x; a,b) = \\int_0^x t^{a-1}(1 - t)^{b-1} \\,dt \\qquad x \\in [0,1]$$\n",
    "\n",
    "Regularized incomplete beta (from now it'll be referred to simply as incomplete beta)\n",
    "$$I(x; a,b) = \\frac{B(x; a,b)}{B(a,b)}$$\n"
   ]
  },
  {
   "cell_type": "markdown",
   "metadata": {},
   "source": [
    "# Bug itself\n",
    "\n",
    "Following plot illustrates bug perfectly. It's plot of incomplete beta for veryy small range "
   ]
  },
  {
   "cell_type": "code",
   "execution_count": null,
   "metadata": {
    "collapsed": false
   },
   "outputs": [],
   "source": [
    "pts = [ ( i\n",
    "        , fromIntegral (ulpDistance y0 $ incompleteBeta 0.5 0.5 (addUlps (fromIntegral i) x0)) :: Int\n",
    "        )\n",
    "      | i <- [0 .. 200]]\n",
    "  where\n",
    "    x0 = 1e-10\n",
    "    y0 = incompleteBeta 0.5 0.5 x0\n",
    "\n",
    "toRenderable\n",
    "  $ layout_plots .~ \n",
    "      [ toPlot $ plot_lines_values .~ [pts] $ def]\n",
    "  $ def \n"
   ]
  },
  {
   "cell_type": "markdown",
   "metadata": {},
   "source": [
    "Let copy sourse code here yet again"
   ]
  },
  {
   "cell_type": "code",
   "execution_count": null,
   "metadata": {
    "collapsed": false
   },
   "outputs": [],
   "source": [
    "-- | Regularized incomplete beta function. Uses algorithm AS63 by\n",
    "-- Majumder and Bhattachrjee and quadrature approximation for large\n",
    "-- /p/ and /q/.\n",
    "incompleteBeta' :: Double -- ^ /p/ > 0\n",
    "               -> Double -- ^ /q/ > 0\n",
    "               -> Double -- ^ /x/, must lie in [0,1] range\n",
    "               -> Double\n",
    "incompleteBeta' p q = incompleteBeta_ (logBeta p q) p q\n",
    "\n",
    "-- | Regularized incomplete beta function. Same as 'incompleteBeta'\n",
    "-- but also takes logarithm of beta function as parameter.\n",
    "incompleteBeta_ :: Double -- ^ logarithm of beta function for given /p/ and /q/\n",
    "                -> Double -- ^ /p/ > 0\n",
    "                -> Double -- ^ /q/ > 0\n",
    "                -> Double -- ^ /x/, must lie in [0,1] range\n",
    "                -> Double\n",
    "incompleteBeta_ beta p q x\n",
    "  | p <= 0 || q <= 0            =\n",
    "      error $ printf \"incompleteBeta_: p <= 0 || q <= 0. p=%g q=%g x=%g\" p q x\n",
    "  | x <  0 || x >  1 || isNaN x =\n",
    "      error $ printf \"incompletBeta_: x out of [0,1] range. p=%g q=%g x=%g\" p q x\n",
    "  | x == 0 || x == 1            = x\n",
    "  | p >= (p+q) * x   = incompleteBetaWorker beta p q x\n",
    "  | otherwise        = 1 - incompleteBetaWorker beta q p (1 - x)\n",
    "\n",
    "\n",
    "-- Worker for incomplete beta function. It is separate function to\n",
    "-- avoid confusion with parameter during parameter swapping\n",
    "incompleteBetaWorker :: Double -> Double -> Double -> Double -> Double\n",
    "incompleteBetaWorker beta p q x\n",
    "  -- For very large p and q this method becomes very slow so another\n",
    "  -- method is used.\n",
    "  | p > 3000 && q > 3000 = error \"removed\"\n",
    "  | otherwise            = loop (p+q) (truncate $ q + cx * (p+q)) 1 1 1\n",
    "  where\n",
    "    -- Constants\n",
    "    eps = 1e-18\n",
    "    cx  = 1 - x\n",
    "    -- Loop\n",
    "    loop !psq (ns :: Int) ai term betain\n",
    "      | done      = betain' * exp( p * log x + (q - 1) * log cx - beta) / p\n",
    "      | otherwise = loop psq' (ns - 1) (ai + 1) term' betain'\n",
    "      where\n",
    "        -- New values\n",
    "        term'   = term * fact / (p + ai)\n",
    "        betain' = betain + term'\n",
    "        fact | ns >  0   = (q - ai) * x/cx\n",
    "             | ns == 0   = (q - ai) * x\n",
    "             | otherwise = psq * x\n",
    "        -- Iterations are complete\n",
    "        done = db <= eps && db <= eps*betain' where db = abs term'\n",
    "        psq' = if ns < 0 then psq + 1 else psq\n"
   ]
  },
  {
   "cell_type": "code",
   "execution_count": null,
   "metadata": {
    "collapsed": false
   },
   "outputs": [],
   "source": [
    "pts = [ ( i\n",
    "        , fromIntegral (ulpDistance y0 $ incompleteBeta' 0.5 0.5 (addUlps (fromIntegral i) x0)) :: Int\n",
    "        )\n",
    "      | i <- [0 .. 200]]\n",
    "  where\n",
    "    x0 = 1e-10\n",
    "    y0 = incompleteBeta 0.5 0.5 x0\n",
    "\n",
    "toRenderable\n",
    "  $ layout_plots .~ \n",
    "      [ toPlot $ plot_lines_values .~ [pts] $ def]\n",
    "  $ def \n"
   ]
  },
  {
   "cell_type": "code",
   "execution_count": null,
   "metadata": {
    "collapsed": true
   },
   "outputs": [],
   "source": []
  }
 ],
 "metadata": {
  "kernelspec": {
   "display_name": "Haskell",
   "language": "haskell",
   "name": "haskell"
  },
  "language_info": {
   "codemirror_mode": "ihaskell",
   "file_extension": ".hs",
   "name": "haskell",
   "version": "7.10.3"
  }
 },
 "nbformat": 4,
 "nbformat_minor": 0
}
