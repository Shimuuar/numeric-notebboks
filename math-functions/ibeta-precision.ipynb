{
 "cells": [
  {
   "cell_type": "code",
   "execution_count": null,
   "metadata": {},
   "outputs": [],
   "source": [
    "{-# LANGUAGE BangPatterns, ScopedTypeVariables #-}\n",
    "import Control.Monad\n",
    "import Control.Monad.Primitive\n",
    "import Control.Parallel.Strategies\n",
    "import Control.Concurrent\n",
    "import Control.Exception (evaluate)\n",
    "\n",
    "import qualified Data.Set as Set\n",
    "import qualified Data.Vector.Unboxed as U\n",
    "\n",
    "import Numeric.SpecFunctions\n",
    "import Numeric.MathFunctions.Constants\n",
    "import Numeric.MathFunctions.Comparison\n",
    "import Numeric.Polynomial\n",
    "\n",
    "import Text.Printf(printf)\n",
    "\n",
    "import IHaskell.Display\n",
    "import Graphics.Rendering.Chart.Backend.Cairo\n",
    "import Graphics.Rendering.Chart.Easy hiding (within)\n",
    "\n",
    "import Debug.Trace\n",
    "\n",
    ":l NB/Plot\n",
    ":l NB/Heatmap\n",
    "\n",
    "greyColormap 0.2\n",
    "_heat_map_values (def :: HeatMap Double Double Double)\n",
    "\n",
    "setNumCapabilities 6"
   ]
  },
  {
   "cell_type": "code",
   "execution_count": null,
   "metadata": {},
   "outputs": [],
   "source": [
    "precisionPlot fname a b = do\n",
    "  xs <- readFile fname\n",
    "  let vals = map ((\\[x,y] -> (read x :: Double, read y :: Double)) . words) $ lines xs\n",
    "  --\n",
    "  return $ toRenderable $    \n",
    "    let isOK x = x > 1e-2\n",
    "        pts = [ (logBase 10 x, d)\n",
    "              | (x,y) <- vals\n",
    "              , let d0 = relativeError y (incompleteBeta a b x)\n",
    "                    d  = if d0 == 0 then -16.1 else logBase 10 d0\n",
    "              , not (isNaN d)\n",
    "              , isOK x\n",
    "              ]\n",
    "        ptsBase = [(logBase 10 x,logBase 10 (m_epsilon/2)) \n",
    "                  | (x,y) <- vals\n",
    "                  , isOK x\n",
    "                  ]\n",
    "    in layout_plots .~ [ toPlot $ plot_lines_values .~ [pts] $ def\n",
    "                       , toPlot $ plot_lines_values .~ [ptsBase]\n",
    "                                $ plot_lines_style .~ (line_color .~ opaque red $ def)\n",
    "                                $ def\n",
    "                       ]\n",
    "      $ layout_title .~ (\"A=\"++show a ++ \" B=\" ++ show b)\n",
    "      $ def\n",
    "      \n",
    "precisionPlot \"../data/ibeta-1-1.dat\" 1   1\n",
    "precisionPlot \"../data/ibeta-10-10.dat\" 10  10\n",
    "precisionPlot \"../data/ibeta-100-100.dat\" 100 100\n",
    "\n",
    "precisionPlot \"../data/ibeta-1000-1000.dat\" 1000  1000\n",
    "precisionPlot \"../data/ibeta-4000-4000.dat\" 4000 4000"
   ]
  },
  {
   "cell_type": "code",
   "execution_count": null,
   "metadata": {},
   "outputs": [],
   "source": [
    "relativeError (incompleteBeta 100 100 0.01) 1.69065936390433095074273605764064140625905233273204e-142"
   ]
  },
  {
   "cell_type": "code",
   "execution_count": null,
   "metadata": {},
   "outputs": [],
   "source": [
    "relativeError \n",
    "  (incompleteBeta 100 100 0.000655868565957143552502817129834511433728039264678955078125)\n",
    "  2.03987739146908316255079849043021558910893536112196196816367e-260"
   ]
  },
  {
   "cell_type": "code",
   "execution_count": null,
   "metadata": {},
   "outputs": [],
   "source": [
    "relativeError \n",
    "  (incompleteBeta 100 100 0.000453582882551019090765914709706407847988884896039962768554688)\n",
    "  (2.00541346834439406004294904703959964191892215724246345240369e-276)"
   ]
  },
  {
   "cell_type": "code",
   "execution_count": null,
   "metadata": {},
   "outputs": [],
   "source": [
    "incompleteBeta 100 100 0.000453582882551019090765914709706407847988884896039962768554688"
   ]
  },
  {
   "cell_type": "code",
   "execution_count": null,
   "metadata": {},
   "outputs": [],
   "source": [
    "incompleteBeta 100 100 0.000453582882551019090765914709706407847988884896039962768554688"
   ]
  },
  {
   "cell_type": "code",
   "execution_count": null,
   "metadata": {},
   "outputs": [],
   "source": [
    "incompleteBeta 4000 4000 0.3"
   ]
  },
  {
   "cell_type": "code",
   "execution_count": null,
   "metadata": {},
   "outputs": [],
   "source": []
  }
 ],
 "metadata": {
  "kernelspec": {
   "display_name": "Haskell",
   "language": "haskell",
   "name": "haskell"
  },
  "language_info": {
   "codemirror_mode": "ihaskell",
   "file_extension": ".hs",
   "name": "haskell",
   "version": "7.10.3"
  }
 },
 "nbformat": 4,
 "nbformat_minor": 0
}
