{
 "cells": [
  {
   "cell_type": "code",
   "execution_count": null,
   "metadata": {},
   "outputs": [],
   "source": [
    "{-# LANGUAGE ScopedTypeVariables, ExistentialQuantification #-}\n",
    "{-# LANGUAGE FlexibleContexts #-}\n",
    "{-# LANGUAGE RankNTypes, BangPatterns #-}\n",
    "{-# LANGUAGE ForeignFunctionInterface #-}\n",
    "{-# LANGUAGE OverloadedLists #-}\n",
    "import Control.Applicative\n",
    "import Control.Monad\n",
    "import Control.Monad.Primitive\n",
    "\n",
    "import Data.List\n",
    "import qualified Data.Vector.Generic as G\n",
    "import           Data.Vector.Generic ((!))\n",
    "import qualified Data.Vector.Unboxed as U\n",
    "\n",
    "import Numeric.SpecFunctions\n",
    "import Numeric.SpecFunctions.Extra (logGammaCorrection)\n",
    "import Numeric.MathFunctions.Constants \n",
    "import Numeric.MathFunctions.Comparison\n",
    "import Numeric.Polynomial\n",
    "import Numeric.Series\n",
    "import Numeric.Polynomial.Chebyshev\n",
    "\n",
    "import IHaskell.Display\n",
    "import Graphics.Rendering.Chart.Backend.Cairo\n",
    "import Graphics.Rendering.Chart.Easy\n",
    "\n",
    "import Debug.Trace\n",
    "import Text.Printf\n",
    "\n",
    ":l NB/Plot"
   ]
  },
  {
   "cell_type": "code",
   "execution_count": null,
   "metadata": {},
   "outputs": [],
   "source": [
    "-- Chebyshev polynomials of low order\n",
    "cheb :: [Rational -> Rational]\n",
    "cheb =\n",
    "  [ \\_ -> 1\n",
    "  , \\x -> x\n",
    "  , \\x -> 2*x^2 - 1\n",
    "  , \\x -> 4*x^3 - 3*x\n",
    "  , \\x -> 8*x^4 - 8*x^2 + 1\n",
    "  ]\n",
    "  \n",
    "evalCheb :: [Double] -> Double -> Double\n",
    "evalCheb as x\n",
    "  = realToFrac\n",
    "  $ sum\n",
    "  $ zipWith (*) (map realToFrac as)\n",
    "  $ map ($ realToFrac x) cheb"
   ]
  },
  {
   "cell_type": "code",
   "execution_count": null,
   "metadata": {},
   "outputs": [],
   "source": [
    "coefs1 = \n",
    " [ 25.78759508324379\n",
    " , 2.4353125270813036\n",
    " , 11.581499359315602\n",
    " , -20.560154201155836\n",
    "-- ,  2.0394268771113357\n",
    " ] :: [Double]\n",
    "coefs2 = \n",
    " [ 9.169334849013147,\n",
    "  -50.96992537799096,\n",
    "   399.8402984262722,\n",
    "  13.328005219369693\n",
    " ] :: [Double]\n",
    "coefs3 =\n",
    " [ 0.0\n",
    " ,  0.0\n",
    " , 0.0\n",
    " , 0.27016867846896275\n",
    " , 0.507730912675075 \n",
    " ] :: [Double]\n",
    "\n",
    "coefs = coefs3\n",
    "toRenderable $\n",
    "  plotFunctions [\\x -> chebyshev x (U.fromList coefs)] (-1,1)\n",
    "--toRenderable $\n",
    "--  plotFunctions \n",
    "--    [\\x -> logBase 10 $ abs $ relativeError (chebyshev x (U.fromList coefs)) (evalCheb coefs x)\n",
    "--    , const $ logBase 10 $ m_epsilon / 2\n",
    "--    ]\n",
    "--    (-1,1)\n",
    "toRenderable $\n",
    " let cc = U.fromList coefs\n",
    "     nU  = maximum $ map (flip chebyshev cc) $ linspace (-1,1) 100 \n",
    "     nL  = minimum $ map (flip chebyshev cc) $ linspace (-1,1) 100 \n",
    " in plotFunctions \n",
    "    [\\x -> (chebyshev x cc - evalCheb coefs x) / m_epsilon / nU\n",
    "    ]\n",
    "    (-1,1)"
   ]
  },
  {
   "cell_type": "code",
   "execution_count": null,
   "metadata": {},
   "outputs": [],
   "source": [
    "toRenderable $\n",
    "  plotFunctions\n",
    "    [ \\x -> chebyshev x (U.fromList [1,0,0,0,0])\n",
    "    , \\x -> chebyshev x (U.fromList [0,1,0,0,0])\n",
    "    , \\x -> chebyshev x (U.fromList [0,0,1,0,0])\n",
    "    , \\x -> chebyshev x (U.fromList [0,0,0,1,0])\n",
    "    , \\x -> chebyshev x (U.fromList [0,0,0,0,1])\n",
    "    ] (-1,1)"
   ]
  },
  {
   "cell_type": "code",
   "execution_count": null,
   "metadata": {},
   "outputs": [],
   "source": [
    ":t plotFunctions"
   ]
  },
  {
   "cell_type": "code",
   "execution_count": null,
   "metadata": {},
   "outputs": [],
   "source": [
    ":t linspace"
   ]
  },
  {
   "cell_type": "code",
   "execution_count": null,
   "metadata": {},
   "outputs": [],
   "source": [
    " linspace (-1,1) 100 \n"
   ]
  },
  {
   "cell_type": "code",
   "execution_count": null,
   "metadata": {},
   "outputs": [],
   "source": []
  }
 ],
 "metadata": {
  "kernelspec": {
   "display_name": "Haskell",
   "language": "haskell",
   "name": "haskell"
  },
  "language_info": {
   "codemirror_mode": "ihaskell",
   "file_extension": ".hs",
   "name": "haskell",
   "version": "7.10.3"
  }
 },
 "nbformat": 4,
 "nbformat_minor": 0
}
