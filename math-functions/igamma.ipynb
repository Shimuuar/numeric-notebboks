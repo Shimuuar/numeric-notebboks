{
 "cells": [
  {
   "cell_type": "code",
   "execution_count": null,
   "metadata": {
    "collapsed": false
   },
   "outputs": [],
   "source": [
    "{-# LANGUAGE ScopedTypeVariables, ExistentialQuantification #-}\n",
    "{-# LANGUAGE FlexibleContexts #-}\n",
    "{-# LANGUAGE RankNTypes, BangPatterns #-}\n",
    "{-# LANGUAGE ForeignFunctionInterface #-}\n",
    "import Control.Applicative\n",
    "import Control.Monad\n",
    "import Control.Monad.Primitive\n",
    "\n",
    "import Data.List\n",
    "import qualified Data.Vector.Generic as G\n",
    "import           Data.Vector.Generic ((!))\n",
    "import qualified Data.Vector.Unboxed as U\n",
    "\n",
    "import Numeric.SpecFunctions\n",
    "import Numeric.SpecFunctions.Extra (logGammaCorrection)\n",
    "import Numeric.MathFunctions.Constants \n",
    "import Numeric.MathFunctions.Comparison\n",
    "import Numeric.Polynomial\n",
    "import Numeric.Series\n",
    "\n",
    "import IHaskell.Display\n",
    "import Graphics.Rendering.Chart.Backend.Cairo\n",
    "import Graphics.Rendering.Chart.Easy\n",
    "\n",
    "import Debug.Trace\n",
    "import Text.Printf\n",
    "\n",
    ":l NB/Plot"
   ]
  },
  {
   "cell_type": "code",
   "execution_count": null,
   "metadata": {
    "collapsed": true
   },
   "outputs": [],
   "source": [
    "-- | Compute the normalized lower incomplete gamma function\n",
    "-- γ(/z/,/x/). Normalization means that γ(/z/,∞)=1\n",
    "--\n",
    "-- \\[\n",
    "-- \\gamma(z,x) = \\frac{1}{\\Gamma(z)}\\int_0^{x}t^{z-1}e^{-t}\\,dt\n",
    "-- \\]\n",
    "--\n",
    "-- Uses Algorithm AS 239 by Shea.\n",
    "incompleteGammaOld :: Double       -- ^ /z/ ∈ (0,∞)\n",
    "                -> Double       -- ^ /x/ ∈ (0,∞)\n",
    "                -> Double\n",
    "incompleteGammaOld p x\n",
    "    | isNaN p || isNaN x = m_NaN\n",
    "    | x < 0 || p <= 0    = m_pos_inf\n",
    "    | x == 0             = 0\n",
    "    -- For very large `p' normal approximation gives <1e-10 error\n",
    "    | p >= 2e5           = norm (3 * sqrt p * ((x/p) ** (1/3) + 1/(9*p) - 1))\n",
    "    | p >= 500           = approx\n",
    "    -- Dubious approximation\n",
    "    | x >= 1e8           = 1\n",
    "    | x <= 1 || x < p    = let a = p * log x - x - logGamma (p + 1)\n",
    "                               g = a + log (pearson p 1 1)\n",
    "                           in if g > limit then exp g else 0\n",
    "    | otherwise          = let g = p * log x - x - logGamma p + log cf\n",
    "                           in if g > limit then 1 - exp g else 1\n",
    "  where\n",
    "    -- CDF for standard normal distributions\n",
    "    norm a = 0.5 * erfc (- a / m_sqrt_2)\n",
    "    -- For large values of `p' we use 18-point Gauss-Legendre\n",
    "    -- integration.\n",
    "    approx\n",
    "      | ans >  0           = 1 - ans\n",
    "      | ans == 0 && x > p1 = 1 - ans\n",
    "      | otherwise          = -ans\n",
    "      where\n",
    "        -- Set upper limit for integration\n",
    "        xu | x > p1    =         (p1 + 11.5*sqrtP1) `max` (x + 6*sqrtP1)\n",
    "           | otherwise = max 0 $ (p1 -  7.5*sqrtP1) `min` (x - 5*sqrtP1)\n",
    "        s = U.sum $ U.zipWith go coefY coefW\n",
    "        go y w = let t = x + (xu - x)*y\n",
    "                 in w * exp( -(t-p1) + p1*(log t - lnP1) )\n",
    "        ans = s * (xu - x) * exp( p1 * (lnP1 - 1) - logGamma p)\n",
    "        --\n",
    "        p1     = p - 1\n",
    "        lnP1   = log  p1\n",
    "        sqrtP1 = sqrt p1\n",
    "    --\n",
    "    pearson !a !c !g\n",
    "        | c' <= tolerance = g'\n",
    "        | otherwise       = pearson a' c' g'\n",
    "        where a' = a + 1\n",
    "              c' = c * x / a'\n",
    "              g' = g + c'\n",
    "    cf = let a = 1 - p\n",
    "             b = a + x + 1\n",
    "             p3 = x + 1\n",
    "             p4 = x * b\n",
    "         in contFrac a b 0 1 x p3 p4 (p3/p4)\n",
    "    contFrac !a !b !c !p1 !p2 !p3 !p4 !g\n",
    "        | abs (g - rn) <= min tolerance (tolerance * rn) = g\n",
    "        | otherwise = contFrac a' b' c' (f p3) (f p4) (f p5) (f p6) rn\n",
    "        where a' = a + 1\n",
    "              b' = b + 2\n",
    "              c' = c + 1\n",
    "              an = a' * c'\n",
    "              p5 = b' * p3 - an * p1\n",
    "              p6 = b' * p4 - an * p2\n",
    "              rn = p5 / p6\n",
    "              f n | abs p5 > overflow = n / overflow\n",
    "                  | otherwise         = n\n",
    "    limit     = -88\n",
    "    tolerance = 1e-14\n",
    "    overflow  = 1e37\n"
   ]
  },
  {
   "cell_type": "code",
   "execution_count": null,
   "metadata": {
    "collapsed": false
   },
   "outputs": [],
   "source": [
    "-- Taken from BOOST\n",
    "--\n",
    "-- Calculates x^y - 1\n",
    "powm1 :: Double -> Double -> Double\n",
    "powm1 x y \n",
    "  | (abs x < 1 || abs y < 1) && abs p < 2 = expm1 p\n",
    "  | otherwise                             = x**y - 1\n",
    "  where\n",
    "    p = log x * y"
   ]
  },
  {
   "cell_type": "code",
   "execution_count": null,
   "metadata": {
    "collapsed": false
   },
   "outputs": [],
   "source": [
    "-- Return approximation used\n",
    "igammaImpl :: Double -> Double -> Double\n",
    "igammaImpl z x\n",
    "  | z <= 0 || x < 0 = error \"Domain error\"\n",
    "  | x == 0          = -16\n",
    "  | x < sqrt m_epsilon && z > 1 = -16\n",
    "  | x < 0.5 = case () of\n",
    "    _| (-0.4)/log x < z  -> -12\n",
    "     | otherwise         -> -13\n",
    "  | x < 1.1 = case () of\n",
    "    _| 0.75*x < z -> -12\n",
    "     | otherwise  -> -13\n",
    "  | z > 20 && (  z > 200 && 20/z > mu*mu\n",
    "              || abs mu < 0.4) = -15\n",
    "  | x - (1 / (3 * x)) < z = -12\n",
    "  | otherwise = -14\n",
    "  where\n",
    "    mu = (x - z) / z"
   ]
  },
  {
   "cell_type": "markdown",
   "metadata": {},
   "source": [
    "# Roundtrip error"
   ]
  },
  {
   "cell_type": "code",
   "execution_count": null,
   "metadata": {
    "collapsed": false
   },
   "outputs": [],
   "source": [
    "igammaRoundtripError :: Double -> Double -> Double -> Double\n",
    "igammaRoundtripError sc z p\n",
    "  = traceShow (z,p) $ sc * m_epsilon/2 * (1 + abs (x * f' / p))\n",
    "  where\n",
    "    x  = invIncompleteGamma z p\n",
    "    f' = exp ( log x * (z-1) - x - logGamma z)\n",
    "\n",
    "plotErrorEstimate s z\n",
    "  = toRenderable\n",
    "  $ layout_title .~ (\"Error estimate z=\" ++ show z)\n",
    "  $ plotFunctions\n",
    "      [ \\p -> logBase 10 $ relativeError p (incompleteGamma z $ (traceShow p $ invIncompleteGamma z p))\n",
    "      , logBase 10 . igammaRoundtripError s z\n",
    "      , logBase 10 . const (m_epsilon/2)\n",
    "      ] (0,1)"
   ]
  },
  {
   "cell_type": "code",
   "execution_count": null,
   "metadata": {
    "collapsed": false
   },
   "outputs": [],
   "source": [
    "plotErrorEstimate 16 0.1\n",
    "plotErrorEstimate 16 1\n",
    "plotErrorEstimate 16 10\n",
    "plotErrorEstimate 16 100\n",
    "plotErrorEstimate 16 10001"
   ]
  },
  {
   "cell_type": "code",
   "execution_count": null,
   "metadata": {
    "collapsed": false
   },
   "outputs": [],
   "source": [
    "invIncompleteGamma 80 1\n",
    "incompleteGamma 80 (1/0)"
   ]
  },
  {
   "cell_type": "markdown",
   "metadata": {},
   "source": [
    "# Incomplete gamma precision\n",
    "\n",
    "$$\\gamma(1,x) = 1 - \\exp(-x)$$"
   ]
  },
  {
   "cell_type": "code",
   "execution_count": null,
   "metadata": {
    "collapsed": false
   },
   "outputs": [],
   "source": [
    "toRenderable $\n",
    "  plotFunctions\n",
    "    [ \\x -> logBase 10 $ relativeError (1 - exp (-x)) (incompleteGamma 1 x) \n",
    "    , logBase 10 . const (m_epsilon/2)\n",
    "    ] (0,10)\n"
   ]
  },
  {
   "cell_type": "code",
   "execution_count": null,
   "metadata": {
    "collapsed": false
   },
   "outputs": [],
   "source": [
    "toRenderable $\n",
    "  plotFunctions\n",
    "    [ \\x -> logBase 10 $ relativeError (erf (sqrt x)) (incompleteGamma 0.5 x) \n",
    "    , logBase 10 . const (m_epsilon/2)\n",
    "    ] (0,20)"
   ]
  },
  {
   "cell_type": "code",
   "execution_count": null,
   "metadata": {
    "collapsed": false,
    "scrolled": false
   },
   "outputs": [],
   "source": [
    "igammaMPMathPlot2 z fname = do\n",
    "  xs <- readFile fname\n",
    "  let vals = map ((\\[x,y] -> (read x :: Double, read y :: Double)) . words) $ lines xs\n",
    "  --\n",
    "  return $ toRenderable $    \n",
    "    let isOK x = True --  x > 1e-1 && x < 1e6\n",
    "        pts = [ (logBase 10 x, d)\n",
    "              | (x,y) <- vals\n",
    "              , let d0 = relativeError y (igamma z x)\n",
    "                    d  = if d0 == 0 then -16.1 else logBase 10 d0\n",
    "              , not (isNaN d)\n",
    "              , isOK x\n",
    "              ]\n",
    "        ptsBase = [(logBase 10 x,logBase 10 (m_epsilon/2)) \n",
    "                  | (x,y) <- vals\n",
    "                  , isOK x\n",
    "                  ]\n",
    "        ptsImpl = [(logBase 10 x, igammaImpl z x)\n",
    "                  | (x,y) <- vals\n",
    "                  , isOK x\n",
    "                  ]\n",
    "    in layout_plots .~ [ toPlot $ plot_lines_values .~ [pts] $ def\n",
    "                       , toPlot $ plot_lines_values .~ [ptsBase]\n",
    "                                $ plot_lines_style .~ (line_color .~ opaque red $ def)\n",
    "                                $ def\n",
    "                       , toPlot $ plot_lines_values .~ [ptsImpl]\n",
    "                                $ plot_lines_style .~ (line_color .~ opaque green $ def)\n",
    "                                $ def\n",
    "                       ]\n",
    "      $ layout_title .~ (\"incomplete gamma: z=\"++show z)\n",
    "      $ def\n",
    "      \n",
    "\n",
    "\n",
    "igammaMPMathPlot2 0.1  \"../data/igamma-0.1.dat\"\n",
    "igammaMPMathPlot2 1    \"../data/igamma-1.0.dat\"\n",
    "igammaMPMathPlot2 10   \"../data/igamma-10.dat\"\n",
    "igammaMPMathPlot2 100  \"../data/igamma-100.dat\"\n",
    "igammaMPMathPlot2 1000 \"../data/igamma-1000.dat\"\n",
    "--igammaMPMathPlot2 10000 \"../data/igamma-10000.dat\""
   ]
  },
  {
   "cell_type": "code",
   "execution_count": null,
   "metadata": {
    "collapsed": false
   },
   "outputs": [],
   "source": [
    "igammaMPMathPlot z fname = do\n",
    "  xs <- readFile fname\n",
    "  let vals = map ((\\[x,y] -> (read x :: Double, read y :: Double)) . words) $ lines xs\n",
    "  --\n",
    "  return $ toRenderable $\n",
    "    let pts = [ (logBase 10 x, d)\n",
    "              | (x,y) <- vals\n",
    "              , let d = logBase 10 $ relativeError y (incompleteGamma z x)\n",
    "              , not (isNaN d || isInfinite d)\n",
    "              ]\n",
    "    in layout_plots .~ [ toPlot $ plot_lines_values .~ [pts] $ def\n",
    "                       , toPlot $ plot_lines_values .~ [[(logBase 10 x,logBase 10 (m_epsilon/2)) | (x,_) <- vals]]\n",
    "                                $ plot_lines_style .~ (line_color .~ opaque red $ def)\n",
    "                                $ def\n",
    "                       ]\n",
    "      $ layout_title .~ (\"incomplete gamma: z=\"++show z)\n",
    "      $ def"
   ]
  },
  {
   "cell_type": "code",
   "execution_count": null,
   "metadata": {
    "collapsed": false
   },
   "outputs": [],
   "source": [
    "igammaMPMathPlot 0.1 \"data/igamma-0.1.dat\"\n",
    "igammaMPMathPlot 1.0 \"data/igamma-1.0.dat\"\n",
    "igammaMPMathPlot 10  \"data/igamma-10.dat\""
   ]
  },
  {
   "cell_type": "code",
   "execution_count": null,
   "metadata": {
    "collapsed": false
   },
   "outputs": [],
   "source": [
    "incompleteGamma 10 1e-5"
   ]
  },
  {
   "cell_type": "code",
   "execution_count": null,
   "metadata": {
    "collapsed": false
   },
   "outputs": [],
   "source": [
    "igamma 10 0.2"
   ]
  },
  {
   "cell_type": "code",
   "execution_count": null,
   "metadata": {
    "collapsed": false,
    "scrolled": false
   },
   "outputs": [],
   "source": [
    "igammaMPMathPlotOrig z fname = do\n",
    "  xs <- readFile fname\n",
    "  let vals = map ((\\[x,y] -> (read x :: Double, read y :: Double)) . words) $ lines xs\n",
    "  --\n",
    "  return $ toRenderable $    \n",
    "    let isOK x = True --  x > 1e-1 && x < 1e6\n",
    "        pts = [ (logBase 10 x, d)\n",
    "              | (x,y) <- vals\n",
    "              , let d0 = relativeError y (incompleteGamma z x)\n",
    "                    d  = if d0 == 0 then -16.1 else logBase 10 d0\n",
    "              , not (isNaN d)\n",
    "              , isOK x\n",
    "              ]\n",
    "        ptsBase = [(logBase 10 x,logBase 10 (m_epsilon/2)) \n",
    "                  | (x,y) <- vals\n",
    "                  , isOK x\n",
    "                  ]\n",
    "        ptsImpl = [(logBase 10 x, igammaImpl z x)\n",
    "                  | (x,y) <- vals\n",
    "                  , isOK x\n",
    "                  ]\n",
    "    in layout_plots .~ [ toPlot $ plot_lines_values .~ [pts] $ def\n",
    "                       , toPlot $ plot_lines_values .~ [ptsBase]\n",
    "                                $ plot_lines_style .~ (line_color .~ opaque red $ def)\n",
    "                                $ def\n",
    "                       , toPlot $ plot_lines_values .~ [ptsImpl]\n",
    "                                $ plot_lines_style .~ (line_color .~ opaque green $ def)\n",
    "                                $ def\n",
    "                       ]\n",
    "      $ layout_title .~ (\"incomplete gamma: z=\"++show z)\n",
    "      $ def\n",
    "      \n",
    "\n",
    "\n",
    "igammaMPMathPlotOrig 0.1  \"../data/igamma-0.1.dat\"\n",
    "igammaMPMathPlotOrig 1    \"../data/igamma-1.0.dat\"\n",
    "igammaMPMathPlotOrig 10   \"../data/igamma-10.dat\"\n",
    "igammaMPMathPlotOrig 100  \"../data/igamma-100.dat\"\n",
    "igammaMPMathPlotOrig 1000 \"../data/igamma-1000.dat\"\n",
    "igammaMPMathPlotOrig 10000 \"../data/igamma-10000.dat\""
   ]
  },
  {
   "cell_type": "code",
   "execution_count": null,
   "metadata": {
    "collapsed": false,
    "scrolled": false
   },
   "outputs": [],
   "source": [
    "igammaMPMathPlotCmp z fname = do\n",
    "  xs <- readFile fname\n",
    "  let vals = map ((\\[x,y] -> (read x :: Double, read y :: Double)) . words) $ lines xs\n",
    "  --\n",
    "  return $ toRenderable $    \n",
    "    let isOK x = True --  x > 1e-1 && x < 1e6\n",
    "        pts = [ (logBase 10 x, d)\n",
    "              | (x,y) <- vals\n",
    "              , let d0 = relativeError y (igamma z x)\n",
    "                    d  = if d0 == 0 then -16.1 else logBase 10 d0\n",
    "              , not (isNaN d)\n",
    "              , isOK x\n",
    "              ]\n",
    "        ptsOld = [ (logBase 10 x, d)\n",
    "              | (x,y) <- vals\n",
    "              , let d0 = relativeError y (incompleteGamma z x)\n",
    "                    d  = if d0 == 0 then -16.1 else logBase 10 d0\n",
    "              , not (isNaN d)\n",
    "              , isOK x\n",
    "              ]\n",
    "        ptsBase = [(logBase 10 x,logBase 10 (m_epsilon/2)) \n",
    "                  | (x,y) <- vals\n",
    "                  , isOK x\n",
    "                  ]\n",
    "    in layout_plots .~ [ toPlot $ plot_lines_values .~ [pts] $ def\n",
    "                       , toPlot $ plot_lines_values .~ [ptsBase]\n",
    "                                $ plot_lines_style .~ (line_color .~ opaque red $ def)\n",
    "                                $ def\n",
    "                       , toPlot $ plot_lines_values .~ [ptsOld]\n",
    "                                $ plot_lines_style .~ (line_color .~ opaque green $ def)\n",
    "                                $ def\n",
    "                       ]\n",
    "      $ layout_title .~ (\"incomplete gamma: z=\"++show z)\n",
    "      $ def\n",
    "      \n",
    "\n",
    "\n",
    "igammaMPMathPlotCmp 0.1  \"../data/igamma-0.1.dat\"\n",
    "igammaMPMathPlotCmp 1    \"../data/igamma-1.0.dat\"\n",
    "igammaMPMathPlotCmp 10   \"../data/igamma-10.dat\"\n",
    "igammaMPMathPlotCmp 100  \"../data/igamma-100.dat\"\n",
    "igammaMPMathPlotCmp 1000 \"../data/igamma-1000.dat\"\n",
    "igammaMPMathPlotCmp 10000 \"../data/igamma-10000.dat\""
   ]
  },
  {
   "cell_type": "code",
   "execution_count": null,
   "metadata": {
    "collapsed": true
   },
   "outputs": [],
   "source": [
    "sumSeries $ recip <$> enumSeriesFrom 1"
   ]
  },
  {
   "cell_type": "code",
   "execution_count": null,
   "metadata": {
    "collapsed": false
   },
   "outputs": [],
   "source": [
    "igamma 100 1e308"
   ]
  },
  {
   "cell_type": "code",
   "execution_count": null,
   "metadata": {
    "collapsed": false
   },
   "outputs": [],
   "source": [
    "logGamma 1e308"
   ]
  },
  {
   "cell_type": "code",
   "execution_count": null,
   "metadata": {
    "collapsed": true
   },
   "outputs": [],
   "source": []
  }
 ],
 "metadata": {
  "kernelspec": {
   "display_name": "Haskell",
   "language": "haskell",
   "name": "haskell"
  },
  "language_info": {
   "codemirror_mode": "ihaskell",
   "file_extension": ".hs",
   "name": "haskell",
   "version": "7.10.3"
  }
 },
 "nbformat": 4,
 "nbformat_minor": 0
}
