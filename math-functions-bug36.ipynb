{
 "cells": [
  {
   "cell_type": "markdown",
   "metadata": {},
   "source": [
    "# Mandatory imports and utils"
   ]
  },
  {
   "cell_type": "code",
   "execution_count": null,
   "metadata": {
    "collapsed": false
   },
   "outputs": [],
   "source": [
    "{-# LANGUAGE BangPatterns, ScopedTypeVariables #-}\n",
    "import Control.Monad\n",
    "import Control.Monad.Primitive\n",
    "\n",
    "import qualified Data.Vector.Unboxed as U\n",
    "\n",
    "import Numeric.SpecFunctions\n",
    "import Numeric.MathFunctions.Constants\n",
    "import Numeric.MathFunctions.Comparison\n",
    "import Numeric.Polynomial.Chebyshev\n",
    "\n",
    "import Text.Printf(printf)\n",
    "\n",
    "import IHaskell.Display\n",
    "import Graphics.Rendering.Chart.Backend.Cairo\n",
    "import Graphics.Rendering.Chart.Easy\n",
    "\n",
    ":l NB/Plot"
   ]
  },
  {
   "cell_type": "markdown",
   "metadata": {},
   "source": [
    "# Incomplete beta\n",
    "\n",
    "Quick reminder about beta function and (regularized) incomplete beta functions:\n",
    "\n",
    "Beta function:\n",
    "$$B(a,b) = \\int_0^1 t^{a-1}(1 - t)^{b-1} \\,dt $$\n",
    "\n",
    "Incomplete beta:\n",
    "$$B(x; a,b) = \\int_0^x t^{a-1}(1 - t)^{b-1} \\,dt \\qquad x \\in [0,1]$$\n",
    "\n",
    "Regularized incomplete beta (from now it'll be referred to simply as incomplete beta)\n",
    "$$I(x; a,b) = \\frac{B(x; a,b)}{B(a,b)}$$\n"
   ]
  },
  {
   "cell_type": "markdown",
   "metadata": {},
   "source": [
    "## Debugging of [math-functions#36](https://github.com/bos/math-functions/issues/36)\n",
    "\n",
    "Again uncovered in plot for `cumulative . quantile` roundtrip error for beta distribution. It manifested itself as sharp spike near `p = 0.5`. Or if expressed in terms of `incompleteBeta` and `invIncompleteBeta`:"
   ]
  },
  {
   "cell_type": "code",
   "execution_count": null,
   "metadata": {
    "collapsed": false
   },
   "outputs": [],
   "source": [
    "let fun x = let p  = invIncompleteBeta 4.5 4.5 x\n",
    "                x' = incompleteBeta 4.5 4.5 p\n",
    "            in x'\n",
    "toRenderable\n",
    "  $ let d = 5e-9 \n",
    "     in plotFunctions [\\x -> logBase 10 $ relativeError (fun x) x] (0, 1)"
   ]
  },
  {
   "cell_type": "markdown",
   "metadata": {},
   "source": [
    "Note that both incomplete beta and its inverse are well behaved near 0.5 as seen from plots below. So spike is clearly bug"
   ]
  },
  {
   "cell_type": "code",
   "execution_count": null,
   "metadata": {
    "collapsed": false
   },
   "outputs": [],
   "source": [
    "toRenderable\n",
    "  $ layout_title .~ \"incomplete beta\"\n",
    "  $ plotFunctions [incompleteBeta 4.5 4.5] (0,1)\n",
    "toRenderable\n",
    "  $ layout_title .~ \"inverse incomplete beta\"\n",
    "  $ plotFunctions [invIncompleteBeta 4.5 4.5] (0,1)"
   ]
  },
  {
   "cell_type": "markdown",
   "metadata": {},
   "source": [
    "Closeup of roundtrip error"
   ]
  },
  {
   "cell_type": "code",
   "execution_count": null,
   "metadata": {
    "collapsed": false
   },
   "outputs": [],
   "source": [
    "let fun x = let p  = invIncompleteBeta 4.5 4.5 x\n",
    "                x' = incompleteBeta 4.5 4.5 p\n",
    "            in x'\n",
    "toRenderable\n",
    "  $ let d = 5e-9 \n",
    "     in plotFunctions [\\x -> logBase 10 $ relativeError (fun x) x] (0.5-d, 0.5+d)"
   ]
  },
  {
   "cell_type": "markdown",
   "metadata": {},
   "source": [
    "So how does `incompleteBeta` looks in neigborhood of 0.5?"
   ]
  },
  {
   "cell_type": "code",
   "execution_count": null,
   "metadata": {
    "collapsed": false
   },
   "outputs": [],
   "source": [
    "toRenderable\n",
    "  $ let d = 5e-9 \n",
    "        a = 4        \n",
    "     in plotFunctions [incompleteBeta a a] (0.5 - d, 0.5 + d)"
   ]
  },
  {
   "cell_type": "markdown",
   "metadata": {},
   "source": [
    "One of incomplete beta's properties is:\n",
    "\n",
    "  $$I(x; a,b) = 1 - I(1-x; b,a)$$\n",
    "  \n",
    "\n",
    "Also this implementation uses series which converge only for $x < \\frac{a}{a+b}$ and otherwise calculates \n",
    "$1 - I(1-x; b,a)$. So in this case we switch approximations at `x=0.5` which should explain jump in the plot.\n",
    "Let compare `incompleteBeta`'s output with exact functions:\n",
    "\n",
    "$$I(0.5; a,a) = 0.5$$\n",
    "\n",
    "And \n",
    "\n",
    "$$\\frac{d}{dx}I(x; a,b) = \\frac{1}{B(a,b)} x^{a-1}(1-x)^{b-1}$$\n",
    "\n",
    "So in small neighborhood of 0.5 we can approximate $I(x; a,a)$ as $0.5 + k\\cdot(x-0.5)$ where\n",
    "\n",
    "$$k = \\frac{1}{2^{2a-2} B(a,a)}$$"
   ]
  },
  {
   "cell_type": "code",
   "execution_count": null,
   "metadata": {
    "collapsed": false
   },
   "outputs": [],
   "source": [
    "toRenderable\n",
    "  $ let d = 5e-9 \n",
    "        a = 7.5\n",
    "        k = 1 / (exp (logBeta a a) * 2**(2*a - 2))\n",
    "     in plotFunctions [ incompleteBeta a a\n",
    "                      , \\x -> 0.5 + k*(x-0.5)\n",
    "                      ] (0.5 - d, 0.5 + d)"
   ]
  },
  {
   "cell_type": "markdown",
   "metadata": {},
   "source": [
    "Hmm... `incompleteBeta` clearly fails to converge to exact answer. What could cause it?  \n",
    "\n",
    "And let plot gap size dependency on `a`:"
   ]
  },
  {
   "cell_type": "code",
   "execution_count": null,
   "metadata": {
    "collapsed": false
   },
   "outputs": [],
   "source": [
    "toRenderable $\n",
    "  let fun a = incompleteBeta a a (addUlps   1  0.5)\n",
    "            - incompleteBeta a a (addUlps (-1) 0.5)\n",
    "  in plotFunctions [fun] (1e-3,11)"
   ]
  },
  {
   "cell_type": "markdown",
   "metadata": {},
   "source": [
    "It absolutely looks like something which fails to converge. Also notice that when `a>10` issue suddently disappears. It looks like we switch approximations. But there's no switching between approximations at `a=10`! It looks very strange.\n",
    "\n",
    "But maybe problem is casused but not including enough terms tio expasion? Let play with convergence criterion (`eps` in `incompleteBetaWorker` definition)"
   ]
  },
  {
   "cell_type": "code",
   "execution_count": null,
   "metadata": {
    "collapsed": false
   },
   "outputs": [],
   "source": [
    "incompleteBeta' :: Double -- ^ /p/ > 0\n",
    "               -> Double -- ^ /q/ > 0\n",
    "               -> Double -- ^ /x/, must lie in [0,1] range\n",
    "               -> Double\n",
    "incompleteBeta' p q = incompleteBeta_ (logBeta p q) p q\n",
    "\n",
    "-- | Regularized incomplete beta function. Same as 'incompleteBeta'\n",
    "-- but also takes logarithm of beta function as parameter.\n",
    "incompleteBeta_ :: Double -- ^ logarithm of beta function for given /p/ and /q/\n",
    "                -> Double -- ^ /p/ > 0\n",
    "                -> Double -- ^ /q/ > 0\n",
    "                -> Double -- ^ /x/, must lie in [0,1] range\n",
    "                -> Double\n",
    "incompleteBeta_ beta p q x\n",
    "  | p <= 0 || q <= 0            =\n",
    "      error $ printf \"incompleteBeta_: p <= 0 || q <= 0. p=%g q=%g x=%g\" p q x\n",
    "  | x <  0 || x >  1 || isNaN x =\n",
    "      error $ printf \"incompletBeta_: x out of [0,1] range. p=%g q=%g x=%g\" p q x\n",
    "  | x == 0 || x == 1            = x\n",
    "  | p >= (p+q) * x   = incompleteBetaWorker beta p q x\n",
    "  | otherwise        = 1 - incompleteBetaWorker beta q p (1 - x)\n",
    "\n",
    "-- Worker for incomplete beta function. It is separate function to\n",
    "-- avoid confusion with parameter during parameter swapping\n",
    "incompleteBetaWorker :: Double -> Double -> Double -> Double -> Double\n",
    "incompleteBetaWorker beta p q x\n",
    "  -- For very large p and q this method becomes very slow so another\n",
    "  -- method is used.\n",
    "  | p > 3000 && q > 3000 = error \"incompleteBetaApprox beta p q x\"\n",
    "  | otherwise            = loop (p+q) (truncate $ q + cx * (p+q)) 1 1 1\n",
    "  where\n",
    "    -- Constants\n",
    "    eps = m_epsilon / 128\n",
    "    cx  = 1 - x\n",
    "    -- Loop\n",
    "    loop !psq (ns :: Int) ai term betain\n",
    "      | done      = betain' * exp( p * log x + (q - 1) * log cx - beta) / p\n",
    "      | otherwise = loop psq' (ns - 1) (ai + 1) term' betain'\n",
    "      where\n",
    "        -- New values\n",
    "        term'   = term * fact / (p + ai)\n",
    "        betain' = betain + term'\n",
    "        fact | ns >  0   = (q - ai) * x/cx\n",
    "             | ns == 0   = (q - ai) * x\n",
    "             | otherwise = psq * x\n",
    "        -- Iterations are complete\n",
    "        done = db <= eps && db <= eps*betain' where db = abs term'\n",
    "        psq' = if ns < 0 then psq + 1 else psq\n",
    "\n",
    "-- Create plots\n",
    "toRenderable\n",
    "  $ let d = 5e-9 \n",
    "        a = 7.5\n",
    "        k = 1 / (exp (logBeta a a) * 2**(2*a - 2))\n",
    "     in plotFunctions [ incompleteBeta a a\n",
    "                      , \\x -> 0.5 + k*(x-0.5)\n",
    "                      , incompleteBeta' a a\n",
    "                      ] (0.5 - d, 0.5 + d)\n",
    "\n",
    "toRenderable $\n",
    "  let fun a = incompleteBeta' a a (addUlps   1  0.5)\n",
    "            - incompleteBeta' a a (addUlps (-1) 0.5)\n",
    "  in plotFunctions [logBase 10 . abs . fun] (1e-3,11)"
   ]
  },
  {
   "cell_type": "markdown",
   "metadata": {},
   "source": [
    "No effect!\n",
    "\n",
    "Next lead is `a=10`. Do we have such condition anywhere in the code. Yes! In `logBeta` and we do use `logBeta` in `incompleteBeta`.\n",
    "\n",
    "```\n",
    "logBeta' :: Double -> Double -> Double\n",
    "logBeta' a b\n",
    "    | ...\n",
    "    | p >= 10   = ...\n",
    "    | q >= 10   = ...\n",
    "    | otherwise = logGamma p + logGamma q - logGamma pq\n",
    "    where\n",
    "      p   = min a b\n",
    "      q   = max a b\n",
    "      ...\n",
    "```\n",
    "\n",
    "So when `a<10` we calculate $B(a,a)$ as $\\Gamma(a)\\Gamma(a)/ \\Gamma{a+a}$ using `logGamma`. And `logGamma`'s documentation clearly states that if doesn't have full double precision. It looks like culprit! Let try it:"
   ]
  },
  {
   "cell_type": "code",
   "execution_count": null,
   "metadata": {
    "collapsed": false
   },
   "outputs": [],
   "source": [
    "-- | Compute the natural logarithm of the beta function.\n",
    "logBeta' :: Double -> Double -> Double\n",
    "logBeta' a b\n",
    "    | p < 0     = m_NaN\n",
    "    | p == 0    = m_pos_inf\n",
    "    | p >= 10   = log q * (-0.5) + m_ln_sqrt_2_pi + logGammaCorrection p + c +\n",
    "                  (p - 0.5) * log ppq + q * log1p(-ppq)\n",
    "    | q >= 10   = logGamma p + c + p - p * log pq + (q - 0.5) * log1p(-ppq)\n",
    "    | otherwise = logGammaL p + logGammaL q - logGammaL pq\n",
    "    where\n",
    "      p   = min a b\n",
    "      q   = max a b\n",
    "      ppq = p / pq\n",
    "      pq  = p + q\n",
    "      c   = logGammaCorrection q - logGammaCorrection pq\n",
    "\n",
    "-- | Compute the log gamma correction factor for @x@ &#8805; 10.  This\n",
    "-- correction factor is suitable for an alternate (but less\n",
    "-- numerically accurate) definition of 'logGamma':\n",
    "--\n",
    "-- >lgg x = 0.5 * log(2*pi) + (x-0.5) * log x - x + logGammaCorrection x\n",
    "logGammaCorrection :: Double -> Double\n",
    "logGammaCorrection x\n",
    "    | x < 10    = m_NaN\n",
    "    | x < big   = chebyshevBroucke (t * t * 2 - 1) coeffs / x\n",
    "    | otherwise = 1 / (x * 12)\n",
    "  where\n",
    "    big    = 94906265.62425156\n",
    "    t      = 10 / x\n",
    "    coeffs = U.fromList [\n",
    "               0.1666389480451863247205729650822e+0,\n",
    "              -0.1384948176067563840732986059135e-4,\n",
    "               0.9810825646924729426157171547487e-8,\n",
    "              -0.1809129475572494194263306266719e-10,\n",
    "               0.6221098041892605227126015543416e-13,\n",
    "              -0.3399615005417721944303330599666e-15,\n",
    "               0.2683181998482698748957538846666e-17\n",
    "             ]\n",
    "\n",
    "incompleteBeta'' :: Double -- ^ /p/ > 0\n",
    "               -> Double -- ^ /q/ > 0\n",
    "               -> Double -- ^ /x/, must lie in [0,1] range\n",
    "               -> Double\n",
    "incompleteBeta'' p q = incompleteBeta_ (logBeta' p q) p q\n",
    "\n",
    "-----------------------------------------------------------------------------------\n",
    "toRenderable\n",
    "  $ let d = 5e-9 \n",
    "        a = 7.5\n",
    "        k = 1 / (exp (logBeta a a) * 2**(2*a - 2))\n",
    "     in plotFunctions [ incompleteBeta a a\n",
    "                      , \\x -> 0.5 + k*(x-0.5)\n",
    "                      , incompleteBeta'' a a\n",
    "                      ] (0.5 - d, 0.5 + d)\n",
    "\n",
    "toRenderable $\n",
    "  let fun a = incompleteBeta'' a a (addUlps   1  0.5)\n",
    "            - incompleteBeta'' a a (addUlps (-1) 0.5)\n",
    "  in plotFunctions [logBase 10 . abs . fun] (1e-3,11)"
   ]
  },
  {
   "cell_type": "markdown",
   "metadata": {},
   "source": [
    "That's it! So problem is insuffucient precision of `logBeta`. Switching to `logGammaL` fixes problem but we need to check performance and look for other methods. In particular we need to understand what is `logGammaCorrection`."
   ]
  },
  {
   "cell_type": "code",
   "execution_count": null,
   "metadata": {
    "collapsed": true
   },
   "outputs": [],
   "source": []
  }
 ],
 "metadata": {
  "kernelspec": {
   "display_name": "Haskell",
   "language": "haskell",
   "name": "haskell"
  },
  "language_info": {
   "codemirror_mode": "ihaskell",
   "file_extension": ".hs",
   "name": "haskell",
   "version": "7.10.3"
  }
 },
 "nbformat": 4,
 "nbformat_minor": 0
}
