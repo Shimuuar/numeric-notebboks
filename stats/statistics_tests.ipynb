{
 "cells": [
  {
   "cell_type": "markdown",
   "metadata": {},
   "source": [
    "# Improving tests for statistics"
   ]
  },
  {
   "cell_type": "code",
   "execution_count": null,
   "metadata": {},
   "outputs": [],
   "source": [
    "{-# LANGUAGE ScopedTypeVariables #-}\n",
    "{-# LANGUAGE FlexibleContexts #-}\n",
    "{-# LANGUAGE RankNTypes #-}\n",
    "import Control.Monad\n",
    "import Control.Monad.Primitive\n",
    "\n",
    "import qualified Data.Vector.Generic as G\n",
    "import qualified Data.Vector.Unboxed as U\n",
    "\n",
    "import Numeric.SpecFunctions\n",
    "import Numeric.MathFunctions.Constants (m_epsilon)\n",
    "import Numeric.MathFunctions.Comparison\n",
    "\n",
    "import Statistics.Distribution\n",
    "import Statistics.Distribution.Beta\n",
    "import Statistics.Distribution.ChiSquared\n",
    "import Statistics.Distribution.Gamma\n",
    "import Statistics.Distribution.StudentT\n",
    "import Statistics.Distribution.FDistribution\n",
    "import Statistics.Distribution.Binomial\n",
    "\n",
    "import IHaskell.Display\n",
    "import Graphics.Rendering.Chart.Backend.Cairo\n",
    "import Graphics.Rendering.Chart.Easy\n",
    "\n",
    ":l NB/Plot"
   ]
  },
  {
   "cell_type": "code",
   "execution_count": null,
   "metadata": {},
   "outputs": [],
   "source": [
    "roudtripQCDF :: ContDistr d => d -> Double -> Double\n",
    "roudtripQCDF d p\n",
    "  = p'\n",
    "  where\n",
    "    x  = quantile   d p\n",
    "    p' = cumulative d x\n",
    "\n",
    "roundtripError :: ContDistr d => d -> Double -> Double\n",
    "roundtripError d p\n",
    "  = m_epsilon/2 * (1 + abs ((x / p) * density d x))\n",
    "  where\n",
    "    x = quantile d p"
   ]
  },
  {
   "cell_type": "code",
   "execution_count": null,
   "metadata": {},
   "outputs": [],
   "source": [
    "plotErrorEstimate d\n",
    "  = toRenderable\n",
    "  $ layout_title .~ \"Error estimate\"\n",
    "  $ plotFunctions [ \\p -> logBase 10 $ relativeError p (roudtripQCDF d p)\n",
    "                  , logBase 10 . roundtripError d\n",
    "                  ] (0.9,1)\n",
    "\n",
    "plotErrorEstimateLog d\n",
    "  = toRenderable\n",
    "  $ layout_title .~ \"Error estimate\"\n",
    "  $ plotFunctionsLog [ \\p -> logBase 10 $ relativeError p (roudtripQCDF d p)\n",
    "                     , logBase 10 . roundtripError d\n",
    "                     ] (1e-10,1)"
   ]
  },
  {
   "cell_type": "markdown",
   "metadata": {},
   "source": [
    "# Investigate beta distribution"
   ]
  },
  {
   "cell_type": "code",
   "execution_count": null,
   "metadata": {},
   "outputs": [],
   "source": [
    "-- See math-functions#35\n",
    "badBeta = betaDistr 7.799818553844234 0.22149966858935127\n",
    "--quantile badBeta 0.99\n",
    "toRenderable $ \n",
    " let d     = badBeta\n",
    "     fun p = logDensity d x where x = quantile d p\n",
    " in plotFunctions [quantile d] (0.99,1)\n",
    "--plotErrorEstimate    badBeta\n",
    "---plotErrorEstimateLog badBeta\n",
    "--quantile badBeta 0.9997097405300279\n",
    "--cumulative badBeta $ quantile badBeta 0.9997097405300279"
   ]
  },
  {
   "cell_type": "code",
   "execution_count": null,
   "metadata": {},
   "outputs": [],
   "source": [
    "toRenderable $\n",
    " let d = studentT 12\n",
    " in plotFunctions [cumulative d, complCumulative d] (-10,10)"
   ]
  },
  {
   "cell_type": "code",
   "execution_count": null,
   "metadata": {},
   "outputs": [],
   "source": [
    "invIncompleteBeta 0.02 3 0.6\n",
    "incompleteBeta 0.02 3 $ invIncompleteBeta 0.02 3 0.6\n",
    "relativeError 0.6 (incompleteBeta 0.02 3 $ invIncompleteBeta 0.02 3 0.6)\n",
    "relativeError 1.82593469974181427417233e-12 $ invIncompleteBeta 0.02 3 0.6"
   ]
  },
  {
   "cell_type": "code",
   "execution_count": null,
   "metadata": {},
   "outputs": [],
   "source": [
    "toRenderable $ plotFunctions [incompleteBeta 0.02 3] (0,1)\n",
    "toRenderable $ plotFunctions [incompleteBeta 0.02 3] (0,1e-11)"
   ]
  },
  {
   "cell_type": "code",
   "execution_count": null,
   "metadata": {},
   "outputs": [],
   "source": [
    "toRenderable $ \n",
    "  let a = 0.02\n",
    "      b = 3\n",
    "      beta = logBeta a b\n",
    "      f p | p**(1/a) < 0.5 = (p * a * exp beta) ** (1/a)\n",
    "          | otherwise      = 1 - (1 - p ** (b * exp beta))**(1/b)\n",
    "  in plotFunctions\n",
    "      [ \\x -> f x / invIncompleteBeta 0.02 3 x\n",
    "      ] (0,0.8)"
   ]
  },
  {
   "cell_type": "code",
   "execution_count": null,
   "metadata": {},
   "outputs": [],
   "source": [
    "do\n",
    "  let a = 0.02\n",
    "      b = 3\n",
    "      beta = logBeta a b\n",
    "      p = 0.6\n",
    "      x_exact = 1.82593469974181427417233e-12\n",
    "  print $ invIncompleteBeta a b p\n",
    "  print $ (p * a * exp beta) ** (1/a)\n",
    "  print $ relativeError x_exact $ invIncompleteBeta 0.02 3 0.6\n",
    "  print $ relativeError x_exact $ (p * a * exp beta) ** (1/a) -- WHAT?!!!"
   ]
  },
  {
   "cell_type": "code",
   "execution_count": null,
   "metadata": {},
   "outputs": [],
   "source": [
    "do let a = 0.02\n",
    "       b = 3\n",
    "       a1 = a -1\n",
    "       b1 = b-1\n",
    "       beta = logBeta a b\n",
    "       p = 0.6\n",
    "       x_exact = 1.82593469974181427417233e-12\n",
    "       x0 = (p * a * exp beta) ** (1/a)\n",
    "   print $ relativeError x0 x_exact\n",
    "   let f0  = incompleteBeta a b x0 - p\n",
    "       f0' = exp $ a1 * log x0 + b1 * log1p (-x0) - beta\n",
    "   let u = f0 /f0'\n",
    "       corr | d > 1     = 1\n",
    "            | d < -1    = -1\n",
    "            | isNaN d   = 0\n",
    "            | otherwise = d\n",
    "          where d = u * (a1 / x0 - b1 / (1 - x0))\n",
    "   let x1 = x0 - u / (1 - 0.5 * corr)\n",
    "   print (\"u=\",u)\n",
    "   print (\"corr=\",corr)\n",
    "   print $ incompleteBeta a b x0 - p\n",
    "   print $ incompleteBeta a b x1 - p\n",
    "   print x1\n",
    "   print $ relativeError x_exact x1\n",
    "   print $ relativeError x_exact (invIncompleteBeta a b p)"
   ]
  },
  {
   "cell_type": "markdown",
   "metadata": {},
   "source": [
    "# Chi squared"
   ]
  },
  {
   "cell_type": "code",
   "execution_count": null,
   "metadata": {},
   "outputs": [],
   "source": [
    "-- Overall bad precision (even shape is wrong)\n",
    "badChi = chiSquared 60\n",
    "\n",
    "toRenderable\n",
    "  $ plotFunctions [density badChi] (0,2*mean badChi)\n",
    "plotErrorEstimate    badChi\n",
    "plotErrorEstimateLog badChi"
   ]
  },
  {
   "cell_type": "markdown",
   "metadata": {},
   "source": [
    "# Gamma distribution"
   ]
  },
  {
   "cell_type": "code",
   "execution_count": null,
   "metadata": {},
   "outputs": [],
   "source": [
    "badGamma = gammaDistr 9.671961397067255  9.41872452467439\n",
    "\n",
    "toRenderable\n",
    "  $ plotFunctions [density badGamma] (0,2*mean badGamma)\n",
    "plotErrorEstimate    badGamma\n",
    "plotErrorEstimateLog badGamma"
   ]
  },
  {
   "cell_type": "markdown",
   "metadata": {},
   "source": [
    "# StudentT"
   ]
  },
  {
   "cell_type": "code",
   "execution_count": null,
   "metadata": {},
   "outputs": [],
   "source": [
    "-- N.B. horrible loss of precision for NDF=30!\n",
    "badStudentT = studentT 30\n",
    "\n",
    "toRenderable\n",
    "  $ plotFunctions [density badStudentT] (-10,10)\n",
    "plotErrorEstimate    badStudentT\n",
    "plotErrorEstimateLog badStudentT"
   ]
  },
  {
   "cell_type": "markdown",
   "metadata": {},
   "source": [
    "Let ignore horrible peak near 0. Maybe it will go away after issue with bad initial guess for inverse beta will resolve.\n",
    "\n",
    "So why does Student T performs so poorly. Notice peak near `p=0.5`. Let look at the code. `cumulative` doesn't look too bad.\n",
    "\n",
    "```.haskell\n",
    "cumulative :: StudentT -> Double -> Double\n",
    "cumulative (StudentT ndf) x\n",
    "  | x > 0     = 1 - 0.5 * ibeta\n",
    "  | otherwise = 0.5 * ibeta\n",
    "  where\n",
    "    ibeta = incompleteBeta (0.5 * ndf) 0.5 (ndf / (ndf + x*x))\n",
    "```\n",
    "\n",
    "But quantile... Just look at all these `1-p`s!\n",
    "\n",
    "```\n",
    "quantile :: StudentT -> Double -> Double\n",
    "quantile (StudentT ndf) p\n",
    "  | p >= 0 && p <= 1 =\n",
    "    let x = invIncompleteBeta (0.5 * ndf) 0.5 (2 * min p (1 - p))\n",
    "    in case sqrt $ ndf * (1 - x) / x of\n",
    "         r | p < 0.5   -> -r\n",
    "           | otherwise -> r\n",
    "  | otherwise = modErr \"quantile\" $ \"p must be in [0,1] range. Got: \"++show p\n",
    "```\n",
    "\n",
    "Here we try to exploit that `quantile d 0.5 = 0` and lose about 2 significant digints in process."
   ]
  },
  {
   "cell_type": "code",
   "execution_count": null,
   "metadata": {},
   "outputs": [],
   "source": []
  }
 ],
 "metadata": {
  "kernelspec": {
   "display_name": "Haskell",
   "language": "haskell",
   "name": "haskell"
  },
  "language_info": {
   "codemirror_mode": "ihaskell",
   "file_extension": ".hs",
   "name": "haskell",
   "version": "7.10.3"
  }
 },
 "nbformat": 4,
 "nbformat_minor": 0
}
