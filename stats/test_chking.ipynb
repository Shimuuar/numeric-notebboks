{
 "cells": [
  {
   "cell_type": "code",
   "execution_count": null,
   "metadata": {},
   "outputs": [],
   "source": [
    "{-# LANGUAGE ScopedTypeVariables #-}\n",
    "{-# LANGUAGE FlexibleContexts #-}\n",
    "{-# LANGUAGE RankNTypes #-}\n",
    "import Control.Monad\n",
    "import Control.Monad.Primitive\n",
    "\n",
    "import Data.Function\n",
    "import Data.Ord\n",
    "import qualified Data.Vector.Generic as G\n",
    "import qualified Data.Vector.Unboxed as U\n",
    "\n",
    "import Numeric.SpecFunctions\n",
    "import Numeric.MathFunctions.Constants (m_epsilon)\n",
    "import Numeric.MathFunctions.Comparison\n",
    "\n",
    "import Statistics.Distribution\n",
    "import Statistics.Distribution.Beta\n",
    "import Statistics.Distribution.ChiSquared\n",
    "import Statistics.Distribution.Gamma\n",
    "import Statistics.Distribution.StudentT\n",
    "import Statistics.Distribution.FDistribution\n",
    "import Statistics.Distribution.Laplace\n",
    "\n",
    "import Statistics.Test.WilcoxonT\n",
    "import Statistics.Test.Internal\n",
    "import Statistics.Function\n",
    "\n",
    "import IHaskell.Display\n",
    "import Graphics.Rendering.Chart.Backend.Cairo\n",
    "import Graphics.Rendering.Chart.Easy\n",
    "\n",
    ":l NB/Plot"
   ]
  },
  {
   "cell_type": "code",
   "execution_count": null,
   "metadata": {},
   "outputs": [],
   "source": [
    "d = laplace (-1.8615772269443358)  0.7052041610376716\n",
    "\n",
    "toRenderable $ plotFunctions [density d] (-10,10)\n",
    "toRenderable $ plotFunctions [ cumulative d\n",
    "                             , complCumulative d\n",
    "                             ] (-10,10)\n",
    "toRenderable $ plotFunctions [ quantile d\n",
    "                             , complQuantile d\n",
    "                             ] (0.01,0.99)"
   ]
  },
  {
   "cell_type": "code",
   "execution_count": null,
   "metadata": {},
   "outputs": [],
   "source": [
    "testData :: [([Double], [Double], (Int,Double, Double))]\n",
    "testData = [ ([1..10], [1..10], (0, 0, 0     ))\n",
    "               , ([1..5],  [6..10], (0, 0, 5*(-3)))\n",
    "               -- Worked example from the Internet:\n",
    "               , ( [125,115,130,140,140,115,140,125,140,135]\n",
    "                 , [110,122,125,120,140,124,123,137,135,145]\n",
    "                 , ( 0\n",
    "                   , sum $ filter (> 0) [7,-3,1.5,9,0,-4,8,-6,1.5,-5]\n",
    "                   , sum $ filter (< 0) [7,-3,1.5,9,0,-4,8,-6,1.5,-5]\n",
    "                   )\n",
    "                 )\n",
    "               -- Worked examples from books/papers:\n",
    "               , ( [2.4,1.9,2.3,1.9,2.4,2.5]\n",
    "                 , [2.0,2.1,2.0,2.0,1.8,2.0]\n",
    "                 , (0, 18, -3)\n",
    "                 )\n",
    "               , ( [130,170,125,170,130,130,145,160]\n",
    "                 , [120,163,120,135,143,136,144,120]\n",
    "                 , (0, 27, -9)\n",
    "                 )\n",
    "               , ( [540,580,600,680,430,740,600,690,605,520]\n",
    "                 , [760,710,1105,880,500,990,1050,640,595,520]\n",
    "                 , (0, 3, -42)\n",
    "                 )\n",
    "               ]\n",
    "\n",
    "let (a,b,c) = testData !! 1\n",
    " in wilcoxonMatchedPairSignedRank (U.zip (U.fromList a) (U.fromList b))"
   ]
  },
  {
   "cell_type": "code",
   "execution_count": null,
   "metadata": {},
   "outputs": [],
   "source": [
    "5 :: Double"
   ]
  },
  {
   "cell_type": "code",
   "execution_count": null,
   "metadata": {},
   "outputs": [],
   "source": [
    "wilcoxonMatchedPairSignedRank' ab\n",
    "  = (nRed, ranks1, ranks2)\n",
    "  where\n",
    "    -- Positive and negative ranks\n",
    "    (ranks1, ranks2) = splitByTags\n",
    "                     $ U.zip tags (rank ((==) `on` abs) diffs)\n",
    "    -- Sorted list of differences\n",
    "    diffsSorted = sortBy (comparing abs)    -- Sort the differences by absolute difference\n",
    "                $ U.filter  (/= 0)          -- Remove equal elements\n",
    "                $ U.map (uncurry (-)) ab    -- Work out differences\n",
    "    nRed = U.length diffsSorted\n",
    "    -- Sign tags and differences\n",
    "    (tags,diffs) = U.unzip\n",
    "                 $ U.map (\\x -> (x>0 , x))   -- Attach tags to distribution elements\n",
    "                 $ diffsSorted\n",
    "let (a,b,c) = testData !! 1\n",
    " in wilcoxonMatchedPairSignedRank' (U.zip (U.fromList a) (U.fromList b))"
   ]
  },
  {
   "cell_type": "code",
   "execution_count": null,
   "metadata": {},
   "outputs": [],
   "source": [
    "invIncompleteBeta 1 1 1e-250"
   ]
  },
  {
   "cell_type": "code",
   "execution_count": null,
   "metadata": {},
   "outputs": [],
   "source": [
    "incompleteBeta 1 1 1e-250"
   ]
  },
  {
   "cell_type": "code",
   "execution_count": null,
   "metadata": {},
   "outputs": [],
   "source": []
  }
 ],
 "metadata": {
  "kernelspec": {
   "display_name": "Haskell",
   "language": "haskell",
   "name": "haskell"
  },
  "language_info": {
   "codemirror_mode": "ihaskell",
   "file_extension": ".hs",
   "name": "haskell",
   "version": "7.10.3"
  }
 },
 "nbformat": 4,
 "nbformat_minor": 0
}
