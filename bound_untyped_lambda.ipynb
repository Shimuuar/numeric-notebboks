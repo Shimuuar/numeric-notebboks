{
 "cells": [
  {
   "cell_type": "code",
   "execution_count": null,
   "metadata": {
    "collapsed": false
   },
   "outputs": [],
   "source": [
    "{-# LANGUAGE DeriveFunctor, DeriveFoldable, DeriveTraversable, DeriveGeneric, FlexibleInstances, LambdaCase #-}\n",
    "-- | Untyped lambda calculus using bound library\n",
    "import Control.Monad\n",
    "import Control.Monad.Trans.State\n",
    "import Bound\n",
    "import Data.List\n",
    "import Prelude.Extras\n",
    "import GHC.Generics (Generic)\n",
    "import Text.PrettyPrint\n",
    "\n",
    "class Pretty a where\n",
    "  pretty :: a -> Doc\n",
    "instance Pretty Char   where pretty = char\n",
    "instance Pretty Int    where pretty = int\n",
    "instance Pretty [Char] where pretty = text"
   ]
  },
  {
   "cell_type": "code",
   "execution_count": null,
   "metadata": {
    "collapsed": false
   },
   "outputs": [],
   "source": [
    "data Exp a\n",
    "  = V a\n",
    "  | Exp a :@ Exp a\n",
    "  | Lam (Scope () Exp a)\n",
    "  | Bot\n",
    "  deriving (Show,Eq,Functor,Foldable,Traversable,Generic)\n",
    "instance Show1 Exp\n",
    "instance Eq1   Exp\n",
    "\n",
    "instance Applicative Exp where\n",
    "  pure = V\n",
    "  (<*>) = ap\n",
    "\n",
    "instance Monad Exp where\n",
    "  return = pure\n",
    "  V a      >>= f = f a\n",
    "  (a :@ b) >>= f = (a >>= f) :@ (b >>= f)\n",
    "  Lam lam  >>= f = Lam (lam >>>= f)  \n",
    "  Bot      >>= _ = Bot\n",
    "  \n",
    "\n",
    "lam :: Eq a => a -> Exp a -> Exp a\n",
    "lam v b = Lam (abstract1 v b)"
   ]
  },
  {
   "cell_type": "markdown",
   "metadata": {},
   "source": [
    "Now we need to define pretty printer. In some sense it's easy but if we don't want to see excessive number of parens."
   ]
  },
  {
   "cell_type": "code",
   "execution_count": null,
   "metadata": {
    "collapsed": false
   },
   "outputs": [],
   "source": [
    "-- Full brackets pretty-printyer\n",
    "instance Pretty a => Pretty (Exp a) where\n",
    "  pretty = flip evalState varnames . go . fmap Left\n",
    "    where\n",
    "      go = \\case\n",
    "        V (Left  e) -> return $ pretty e\n",
    "        V (Right e) -> return $ pretty e\n",
    "        Bot         -> return $ text \"BOT\"\n",
    "        f :@ x      -> do\n",
    "          sf <- go f\n",
    "          sx <- go x\n",
    "          return $ parens $ hcat [sf, text \" \" , sx]\n",
    "        e@Lam{}-> do \n",
    "          (binds,str) <- goLam e\n",
    "          return $ hcat [text \"\\\\\", hcat (intersperse space binds),text \" -> \",str]\n",
    "      --\n",
    "      goLam = \\case\n",
    "        Lam lam -> do\n",
    "          v:vs <- get\n",
    "          put vs\n",
    "          (binds,str) <- goLam $ instantiate1 (V (Right v)) lam\n",
    "          return (pretty v:binds, str)\n",
    "        e -> do {s <- go e; return ([],s)}\n",
    "      --  \n",
    "      varnames = ['a' .. 'z']"
   ]
  },
  {
   "cell_type": "code",
   "execution_count": null,
   "metadata": {
    "collapsed": false
   },
   "outputs": [],
   "source": [
    "fun1 = lam 'x' (lam 'y' $ V 'x' :@ V 'y')\n",
    "fun1\n",
    "pretty fun1"
   ]
  },
  {
   "cell_type": "code",
   "execution_count": null,
   "metadata": {
    "collapsed": true
   },
   "outputs": [],
   "source": []
  }
 ],
 "metadata": {
  "kernelspec": {
   "display_name": "Haskell",
   "language": "haskell",
   "name": "haskell"
  },
  "language_info": {
   "codemirror_mode": "ihaskell",
   "file_extension": ".hs",
   "name": "haskell",
   "version": "7.10.3"
  }
 },
 "nbformat": 4,
 "nbformat_minor": 0
}
