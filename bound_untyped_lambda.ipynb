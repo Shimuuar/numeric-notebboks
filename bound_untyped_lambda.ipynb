{
 "cells": [
  {
   "cell_type": "code",
   "execution_count": null,
   "metadata": {},
   "outputs": [],
   "source": [
    "{-# LANGUAGE DeriveFunctor, DeriveFoldable, DeriveTraversable, DeriveGeneric, FlexibleInstances, LambdaCase #-}\n",
    "-- | Untyped lambda calculus using bound library\n",
    "import Control.Monad\n",
    "import Control.Monad.Trans.State\n",
    "import Data.List\n",
    "import Text.PrettyPrint\n",
    "import GHC.Generics (Generic)\n",
    "\n",
    "import Bound\n",
    "import Prelude.Extras\n",
    "\n",
    "\n",
    "class Pretty a where\n",
    "  pretty :: a -> Doc\n",
    "instance Pretty Char   where pretty = char\n",
    "instance Pretty Int    where pretty = int\n",
    "instance Pretty [Char] where pretty = text"
   ]
  },
  {
   "cell_type": "code",
   "execution_count": null,
   "metadata": {},
   "outputs": [],
   "source": [
    "data Exp a\n",
    "  = V a\n",
    "  | Exp a :@ Exp a\n",
    "  | Lam (Scope () Exp a)\n",
    "--  | Bot\n",
    "  deriving (Show,Eq,Functor,Foldable,Traversable,Generic)\n",
    "instance Show1 Exp\n",
    "instance Eq1   Exp\n",
    "\n",
    "instance Applicative Exp where\n",
    "  pure = V\n",
    "  (<*>) = ap\n",
    "\n",
    "instance Monad Exp where\n",
    "  return = pure\n",
    "  V a      >>= f = f a\n",
    "  (a :@ b) >>= f = (a >>= f) :@ (b >>= f)\n",
    "  Lam lam  >>= f = Lam (lam >>>= f)  \n",
    "--  Bot      >>= _ = Bot\n",
    "  \n",
    "\n",
    "lam :: Eq a => a -> Exp a -> Exp a\n",
    "lam v b = Lam (abstract1 v b)\n",
    "\n",
    "infixr 0 !\n",
    "(!) :: Eq a => a -> Exp a -> Exp a\n",
    "(!) = lam\n",
    "\n",
    "lams :: Eq a => [a] -> Exp a -> Exp a\n",
    "lams = flip $ foldr lam"
   ]
  },
  {
   "cell_type": "markdown",
   "metadata": {},
   "source": [
    "Now we need to define pretty printer. In some sense it's easy but if we don't want to see excessive number of parens."
   ]
  },
  {
   "cell_type": "code",
   "execution_count": null,
   "metadata": {},
   "outputs": [],
   "source": [
    "-- Full brackets pretty-printyer\n",
    "instance Pretty a => Pretty (Exp a) where\n",
    "  pretty = flip evalState varnames . go False . fmap Left\n",
    "    where\n",
    "      go par = \\case\n",
    "        V (Left  e) -> return $ pretty e\n",
    "        V (Right e) -> return $ pretty e\n",
    "--        Bot         -> return $ text \"BOT\"\n",
    "        f :@ x      -> do\n",
    "          sf <- go True f\n",
    "          sx <- go True x\n",
    "          return $ withParens par $ hcat [sf, text \" \" , sx]\n",
    "        e@Lam{}-> do \n",
    "          (binds,str) <- goLam e\n",
    "          return $ withParens par $ hcat [text \"\\\\\", hcat (intersperse space binds),text \" -> \",str]\n",
    "      --\n",
    "      withParens True  = parens\n",
    "      withParens False = id\n",
    "      --\n",
    "      goLam = \\case\n",
    "        Lam lam -> do\n",
    "          v:vs <- get\n",
    "          put vs\n",
    "          (binds,str) <- goLam $ instantiate1 (V (Right v)) lam\n",
    "          return (pretty v:binds, str)\n",
    "        e -> do {s <- go False e; return ([],s)}\n",
    "      --  \n",
    "      varnames = ['a' .. 'z']"
   ]
  },
  {
   "cell_type": "code",
   "execution_count": null,
   "metadata": {},
   "outputs": [],
   "source": [
    "-- Reduce expression to weak head normal form\n",
    "whnf :: Exp a -> Exp a\n",
    "whnf (f :@ a) = case whnf f of\n",
    "  Lam b -> whnf (instantiate1 a b)\n",
    "  f'    -> f' :@ a\n",
    "whnf e = e\n",
    "\n",
    "-- | Compute the normal form of an expression\n",
    "nf :: Exp a -> Exp a\n",
    "nf (Lam b)  = Lam $ toScope $ nf $ fromScope b\n",
    "nf (f :@ a) = case whnf f of\n",
    "  Lam b -> nf (instantiate1 a b)\n",
    "  f'    -> nf f' :@ nf a\n",
    "nf e = e\n",
    "\n",
    "-- | Compute normal form of an expression using applicative reduction\n",
    "appNF :: Exp a -> Exp a\n",
    "appNF (Lam b) = undefined\n",
    "appNF (f :@ a) = case whnf f of"
   ]
  },
  {
   "cell_type": "code",
   "execution_count": null,
   "metadata": {},
   "outputs": [],
   "source": [
    "fun1 = lam 'x' (lam 'y' $ V 'x' :@ V 'y')\n",
    "fun1\n",
    "pretty fun1\n",
    "pretty (lams ['x','y'] (V 'x' :@ V 'y'))"
   ]
  },
  {
   "cell_type": "code",
   "execution_count": null,
   "metadata": {},
   "outputs": [],
   "source": [
    "zeroF = lams [    \"z\",\"s\"] $ V \"z\"\n",
    "succF = lams [\"n\",\"z\",\"s\"] $ V \"s\" :@ (V \"n\" :@ V \"z\" :@ V \"s\")\n",
    "\n",
    "ch1 = succF :@ zeroF\n",
    "ch2 = succF :@ ch1\n",
    "ch3 = succF :@ ch2"
   ]
  },
  {
   "cell_type": "code",
   "execution_count": null,
   "metadata": {},
   "outputs": [],
   "source": [
    "pretty zeroF\n",
    "pretty succF\n",
    "\n",
    "pretty ch1\n",
    "pretty (nf ch1)\n",
    "pretty ch2\n",
    "pretty (nf ch2)\n",
    "pretty ch3\n",
    "pretty (nf ch3)\n"
   ]
  },
  {
   "cell_type": "code",
   "execution_count": null,
   "metadata": {},
   "outputs": [],
   "source": [
    "botTest = lams ['a','b'] (V 'b')\n",
    "pretty botTest\n",
    "pretty $ nf $ botTest :@ (error \"A\")"
   ]
  },
  {
   "cell_type": "code",
   "execution_count": null,
   "metadata": {},
   "outputs": [],
   "source": [
    "omega = lam 'x' (V 'x' :@ V 'x') :@ lam 'x' (V 'x' :@ V 'x')\n",
    "pretty omega\n",
    "pretty $ nf omega"
   ]
  },
  {
   "cell_type": "code",
   "execution_count": null,
   "metadata": {},
   "outputs": [],
   "source": []
  }
 ],
 "metadata": {
  "kernelspec": {
   "display_name": "Haskell",
   "language": "haskell",
   "name": "haskell"
  },
  "language_info": {
   "codemirror_mode": "ihaskell",
   "file_extension": ".hs",
   "name": "haskell",
   "version": "7.10.3"
  }
 },
 "nbformat": 4,
 "nbformat_minor": 0
}
